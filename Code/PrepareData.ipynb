{
 "cells": [
  {
   "cell_type": "markdown",
   "metadata": {},
   "source": [
    "Main pollutants PM10 & PM2.5, NO2, CO2, O3\n"
   ]
  },
  {
   "cell_type": "markdown",
   "metadata": {},
   "source": [
    "Read .nc files"
   ]
  },
  {
   "cell_type": "code",
   "execution_count": null,
   "metadata": {},
   "outputs": [],
   "source": [
    "import xarray as xr\n",
    "import pandas as pd\n",
    "import numpy as np\n",
    "\n",
    "# Open the NetCDF file\n",
    "file_path = r\"D:\\CAMS\\SPEIbase_v2-9\\SPEI_01\\spei01.nc\"\n",
    "ds = xr.open_dataset(file_path)\n",
    "\n",
    "# Print dataset variables and their shapes\n",
    "print(\"Variables in NetCDF file:\", list(ds.data_vars.keys()))\n",
    "for var in ds.data_vars:\n",
    "    print(f\"Variable: {var}, Shape: {ds[var].shape}, Dims: {ds[var].dims}\")\n",
    "\n",
    "# Select the first variable dynamically\n",
    "first_var = next(iter(ds.data_vars))\n",
    "values = ds[first_var].values.flatten()  # Flatten to 1D array\n",
    "\n",
    "# Count total and non-NaN values\n",
    "total_entries = values.size\n",
    "valid_entries = np.count_nonzero(~np.isnan(values))  # Count non-NaN values\n",
    "\n",
    "# Print the count of valid entries\n",
    "print(f\"\\nTotal entries in '{first_var}': {total_entries}\")\n",
    "print(f\"Entries with actual values (non-NaN): {valid_entries}\")\n",
    "print(f\"Percentage of valid values: {100 * valid_entries / total_entries:.2f}%\")\n",
    "\n",
    "# Convert the first few values into a Pandas DataFrame for table formatting\n",
    "preview_data = values[:10]  # First 10 values\n",
    "df = pd.DataFrame(preview_data, columns=[first_var])\n"
   ]
  },
  {
   "cell_type": "code",
   "execution_count": null,
   "metadata": {},
   "outputs": [],
   "source": [
    "import xarray as xr\n",
    "\n",
    "# Open the NetCDF file\n",
    "file_path = r\"D:\\CAMS\\SPEIbase_v2-9\\SPEI_01\\spei01.nc\"\n",
    "ds = xr.open_dataset(file_path)\n",
    "\n",
    "# Display the dataset's structure and metadata\n",
    "print(\"Dataset Overview:\\n\")\n",
    "print(ds)\n",
    "\n",
    "# List all variables in the dataset\n",
    "print(\"\\nAvailable Variables:\")\n",
    "for var in ds.variables:\n",
    "    print(f\"- {var}: {ds[var].dims}, {ds[var].shape}\")\n",
    "\n",
    "# Show a preview of the first variable dynamically\n",
    "first_var = list(ds.variables.keys())[0]  # Get the first variable\n",
    "print(f\"\\nPreview of '{first_var}':\")\n",
    "print(ds[first_var])\n",
    "\n",
    "# Optionally, display the first few values of the variable\n",
    "print(\"\\nFirst few values:\")\n",
    "print(ds[first_var].values.flatten()[:10])  # Show the first 10 values\n"
   ]
  },
  {
   "cell_type": "markdown",
   "metadata": {},
   "source": [
    "Read .mat files"
   ]
  },
  {
   "cell_type": "code",
   "execution_count": null,
   "metadata": {},
   "outputs": [],
   "source": [
    "from scipy.io import loadmat\n",
    "\n",
    "data = loadmat(r\"D:\\CAMS\\MODIS_FRP\\MODIS_2001.mat\", struct_as_record=False, squeeze_me=True)\n",
    "\n",
    "dados = data[\"dados\"]  # Extract variable\n",
    "\n",
    "print(\"Type of 'dados':\", type(dados))\n",
    "\n",
    "if hasattr(dados, \"_fieldnames\"):  # Check if it's a struct\n",
    "    print(\"Struct fields:\", dados._fieldnames)\n",
    "    for field in dados._fieldnames:\n",
    "        print(f\"Field '{field}':\", getattr(dados, field))\n"
   ]
  }
 ],
 "metadata": {
  "kernelspec": {
   "display_name": "Python 3",
   "language": "python",
   "name": "python3"
  },
  "language_info": {
   "codemirror_mode": {
    "name": "ipython",
    "version": 3
   },
   "file_extension": ".py",
   "mimetype": "text/x-python",
   "name": "python",
   "nbconvert_exporter": "python",
   "pygments_lexer": "ipython3",
   "version": "3.11.9"
  }
 },
 "nbformat": 4,
 "nbformat_minor": 2
}
