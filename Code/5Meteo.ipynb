{
 "cells": [
  {
   "cell_type": "markdown",
   "id": "0159eacb",
   "metadata": {},
   "source": [
    "### Precipitation"
   ]
  },
  {
   "cell_type": "markdown",
   "id": "2e386e1b",
   "metadata": {},
   "source": [
    "#### Monthly Statistics"
   ]
  },
  {
   "cell_type": "code",
   "execution_count": 1,
   "id": "11d56891",
   "metadata": {},
   "outputs": [
    {
     "name": "stdout",
     "output_type": "stream",
     "text": [
      "Processing 22 files from 2003 to 2024...\n"
     ]
    },
    {
     "name": "stderr",
     "output_type": "stream",
     "text": [
      "Files processed:   0%|          | 0/22 [00:00<?, ?it/s]"
     ]
    },
    {
     "name": "stdout",
     "output_type": "stream",
     "text": [
      "\n",
      "📂 Processing year 2003...\n"
     ]
    },
    {
     "name": "stderr",
     "output_type": "stream",
     "text": [
      "Files processed:   5%|▍         | 1/22 [00:22<07:47, 22.28s/it]"
     ]
    },
    {
     "name": "stdout",
     "output_type": "stream",
     "text": [
      "✅ Saved D:\\IPMA\\ERA5\\Precipitation\\monthly_precipitation_stats_yearly\\monthly_precipitation_stats_2003.nc\n",
      "\n",
      "📂 Processing year 2004...\n"
     ]
    },
    {
     "name": "stderr",
     "output_type": "stream",
     "text": [
      "Files processed:   9%|▉         | 2/22 [00:43<07:12, 21.61s/it]"
     ]
    },
    {
     "name": "stdout",
     "output_type": "stream",
     "text": [
      "✅ Saved D:\\IPMA\\ERA5\\Precipitation\\monthly_precipitation_stats_yearly\\monthly_precipitation_stats_2004.nc\n",
      "\n",
      "📂 Processing year 2005...\n"
     ]
    },
    {
     "name": "stderr",
     "output_type": "stream",
     "text": [
      "Files processed:  14%|█▎        | 3/22 [01:03<06:38, 20.96s/it]"
     ]
    },
    {
     "name": "stdout",
     "output_type": "stream",
     "text": [
      "✅ Saved D:\\IPMA\\ERA5\\Precipitation\\monthly_precipitation_stats_yearly\\monthly_precipitation_stats_2005.nc\n",
      "\n",
      "📂 Processing year 2006...\n"
     ]
    },
    {
     "name": "stderr",
     "output_type": "stream",
     "text": [
      "Files processed:  18%|█▊        | 4/22 [01:26<06:34, 21.90s/it]"
     ]
    },
    {
     "name": "stdout",
     "output_type": "stream",
     "text": [
      "✅ Saved D:\\IPMA\\ERA5\\Precipitation\\monthly_precipitation_stats_yearly\\monthly_precipitation_stats_2006.nc\n",
      "\n",
      "📂 Processing year 2007...\n"
     ]
    },
    {
     "name": "stderr",
     "output_type": "stream",
     "text": [
      "Files processed:  23%|██▎       | 5/22 [01:48<06:07, 21.64s/it]"
     ]
    },
    {
     "name": "stdout",
     "output_type": "stream",
     "text": [
      "✅ Saved D:\\IPMA\\ERA5\\Precipitation\\monthly_precipitation_stats_yearly\\monthly_precipitation_stats_2007.nc\n",
      "\n",
      "📂 Processing year 2008...\n"
     ]
    },
    {
     "name": "stderr",
     "output_type": "stream",
     "text": [
      "Files processed:  27%|██▋       | 6/22 [02:07<05:34, 20.90s/it]"
     ]
    },
    {
     "name": "stdout",
     "output_type": "stream",
     "text": [
      "✅ Saved D:\\IPMA\\ERA5\\Precipitation\\monthly_precipitation_stats_yearly\\monthly_precipitation_stats_2008.nc\n",
      "\n",
      "📂 Processing year 2009...\n"
     ]
    },
    {
     "name": "stderr",
     "output_type": "stream",
     "text": [
      "Files processed:  32%|███▏      | 7/22 [02:30<05:23, 21.54s/it]"
     ]
    },
    {
     "name": "stdout",
     "output_type": "stream",
     "text": [
      "✅ Saved D:\\IPMA\\ERA5\\Precipitation\\monthly_precipitation_stats_yearly\\monthly_precipitation_stats_2009.nc\n",
      "\n",
      "📂 Processing year 2010...\n"
     ]
    },
    {
     "name": "stderr",
     "output_type": "stream",
     "text": [
      "Files processed:  36%|███▋      | 8/22 [02:48<04:45, 20.42s/it]"
     ]
    },
    {
     "name": "stdout",
     "output_type": "stream",
     "text": [
      "✅ Saved D:\\IPMA\\ERA5\\Precipitation\\monthly_precipitation_stats_yearly\\monthly_precipitation_stats_2010.nc\n",
      "\n",
      "📂 Processing year 2011...\n"
     ]
    },
    {
     "name": "stderr",
     "output_type": "stream",
     "text": [
      "Files processed:  41%|████      | 9/22 [03:06<04:15, 19.64s/it]"
     ]
    },
    {
     "name": "stdout",
     "output_type": "stream",
     "text": [
      "✅ Saved D:\\IPMA\\ERA5\\Precipitation\\monthly_precipitation_stats_yearly\\monthly_precipitation_stats_2011.nc\n",
      "\n",
      "📂 Processing year 2012...\n"
     ]
    },
    {
     "name": "stderr",
     "output_type": "stream",
     "text": [
      "Files processed:  45%|████▌     | 10/22 [03:24<03:51, 19.30s/it]"
     ]
    },
    {
     "name": "stdout",
     "output_type": "stream",
     "text": [
      "✅ Saved D:\\IPMA\\ERA5\\Precipitation\\monthly_precipitation_stats_yearly\\monthly_precipitation_stats_2012.nc\n",
      "\n",
      "📂 Processing year 2013...\n"
     ]
    },
    {
     "name": "stderr",
     "output_type": "stream",
     "text": [
      "Files processed:  50%|█████     | 11/22 [03:39<03:17, 17.94s/it]"
     ]
    },
    {
     "name": "stdout",
     "output_type": "stream",
     "text": [
      "✅ Saved D:\\IPMA\\ERA5\\Precipitation\\monthly_precipitation_stats_yearly\\monthly_precipitation_stats_2013.nc\n",
      "\n",
      "📂 Processing year 2014...\n"
     ]
    },
    {
     "name": "stderr",
     "output_type": "stream",
     "text": [
      "Files processed:  55%|█████▍    | 12/22 [03:56<02:56, 17.62s/it]"
     ]
    },
    {
     "name": "stdout",
     "output_type": "stream",
     "text": [
      "✅ Saved D:\\IPMA\\ERA5\\Precipitation\\monthly_precipitation_stats_yearly\\monthly_precipitation_stats_2014.nc\n",
      "\n",
      "📂 Processing year 2015...\n"
     ]
    },
    {
     "name": "stderr",
     "output_type": "stream",
     "text": [
      "Files processed:  59%|█████▉    | 13/22 [04:13<02:36, 17.40s/it]"
     ]
    },
    {
     "name": "stdout",
     "output_type": "stream",
     "text": [
      "✅ Saved D:\\IPMA\\ERA5\\Precipitation\\monthly_precipitation_stats_yearly\\monthly_precipitation_stats_2015.nc\n",
      "\n",
      "📂 Processing year 2016...\n"
     ]
    },
    {
     "name": "stderr",
     "output_type": "stream",
     "text": [
      "Files processed:  64%|██████▎   | 14/22 [04:29<02:16, 17.01s/it]"
     ]
    },
    {
     "name": "stdout",
     "output_type": "stream",
     "text": [
      "✅ Saved D:\\IPMA\\ERA5\\Precipitation\\monthly_precipitation_stats_yearly\\monthly_precipitation_stats_2016.nc\n",
      "\n",
      "📂 Processing year 2017...\n"
     ]
    },
    {
     "name": "stderr",
     "output_type": "stream",
     "text": [
      "Files processed:  68%|██████▊   | 15/22 [04:49<02:04, 17.79s/it]"
     ]
    },
    {
     "name": "stdout",
     "output_type": "stream",
     "text": [
      "✅ Saved D:\\IPMA\\ERA5\\Precipitation\\monthly_precipitation_stats_yearly\\monthly_precipitation_stats_2017.nc\n",
      "\n",
      "📂 Processing year 2018...\n"
     ]
    },
    {
     "name": "stderr",
     "output_type": "stream",
     "text": [
      "Files processed:  73%|███████▎  | 16/22 [05:10<01:52, 18.76s/it]"
     ]
    },
    {
     "name": "stdout",
     "output_type": "stream",
     "text": [
      "✅ Saved D:\\IPMA\\ERA5\\Precipitation\\monthly_precipitation_stats_yearly\\monthly_precipitation_stats_2018.nc\n",
      "\n",
      "📂 Processing year 2019...\n"
     ]
    },
    {
     "name": "stderr",
     "output_type": "stream",
     "text": [
      "Files processed:  77%|███████▋  | 17/22 [05:28<01:33, 18.74s/it]"
     ]
    },
    {
     "name": "stdout",
     "output_type": "stream",
     "text": [
      "✅ Saved D:\\IPMA\\ERA5\\Precipitation\\monthly_precipitation_stats_yearly\\monthly_precipitation_stats_2019.nc\n",
      "\n",
      "📂 Processing year 2020...\n"
     ]
    },
    {
     "name": "stderr",
     "output_type": "stream",
     "text": [
      "Files processed:  82%|████████▏ | 18/22 [05:47<01:15, 18.76s/it]"
     ]
    },
    {
     "name": "stdout",
     "output_type": "stream",
     "text": [
      "✅ Saved D:\\IPMA\\ERA5\\Precipitation\\monthly_precipitation_stats_yearly\\monthly_precipitation_stats_2020.nc\n",
      "\n",
      "📂 Processing year 2021...\n"
     ]
    },
    {
     "name": "stderr",
     "output_type": "stream",
     "text": [
      "Files processed:  86%|████████▋ | 19/22 [06:07<00:57, 19.09s/it]"
     ]
    },
    {
     "name": "stdout",
     "output_type": "stream",
     "text": [
      "✅ Saved D:\\IPMA\\ERA5\\Precipitation\\monthly_precipitation_stats_yearly\\monthly_precipitation_stats_2021.nc\n",
      "\n",
      "📂 Processing year 2022...\n"
     ]
    },
    {
     "name": "stderr",
     "output_type": "stream",
     "text": [
      "Files processed:  91%|█████████ | 20/22 [06:26<00:37, 18.92s/it]"
     ]
    },
    {
     "name": "stdout",
     "output_type": "stream",
     "text": [
      "✅ Saved D:\\IPMA\\ERA5\\Precipitation\\monthly_precipitation_stats_yearly\\monthly_precipitation_stats_2022.nc\n",
      "\n",
      "📂 Processing year 2023...\n"
     ]
    },
    {
     "name": "stderr",
     "output_type": "stream",
     "text": [
      "Files processed:  95%|█████████▌| 21/22 [06:44<00:18, 18.80s/it]"
     ]
    },
    {
     "name": "stdout",
     "output_type": "stream",
     "text": [
      "✅ Saved D:\\IPMA\\ERA5\\Precipitation\\monthly_precipitation_stats_yearly\\monthly_precipitation_stats_2023.nc\n",
      "\n",
      "📂 Processing year 2024...\n"
     ]
    },
    {
     "name": "stderr",
     "output_type": "stream",
     "text": [
      "Files processed: 100%|██████████| 22/22 [07:21<00:00, 20.05s/it]"
     ]
    },
    {
     "name": "stdout",
     "output_type": "stream",
     "text": [
      "✅ Saved D:\\IPMA\\ERA5\\Precipitation\\monthly_precipitation_stats_yearly\\monthly_precipitation_stats_2024.nc\n",
      "\n",
      "🎉 All yearly files saved successfully!\n"
     ]
    },
    {
     "name": "stderr",
     "output_type": "stream",
     "text": [
      "\n"
     ]
    }
   ],
   "source": [
    "import xarray as xr\n",
    "import pandas as pd\n",
    "import os\n",
    "import numpy as np\n",
    "from tqdm import tqdm  # For progress bars\n",
    "\n",
    "# Define the folder containing NetCDF files\n",
    "folder_path = r\"D:\\IPMA\\ERA5\\Precipitation\\1raw_year_1979_2024\"\n",
    "output_folder = r\"D:\\IPMA\\ERA5\\Precipitation\\monthly_precipitation_stats_yearly\"\n",
    "\n",
    "os.makedirs(output_folder, exist_ok=True)\n",
    "\n",
    "# Get a sorted list of all NetCDF files in the folder\n",
    "file_list = sorted([f for f in os.listdir(folder_path) if f.endswith(\".nc\")])\n",
    "\n",
    "# Filter only years 2003–2024\n",
    "file_list = [f for f in file_list if 2003 <= int(f.split('_')[-1][:4]) <= 2024]\n",
    "\n",
    "print(f\"Processing {len(file_list)} files from 2003 to 2024...\")\n",
    "\n",
    "# Loop over files with a progress bar\n",
    "for file in tqdm(file_list, desc=\"Files processed\"):\n",
    "    file_path = os.path.join(folder_path, file)\n",
    "    \n",
    "    # Extract year from filename\n",
    "    year_val = int(file.split('_')[-1][:4])\n",
    "    print(f\"\\n📂 Processing year {year_val}...\")\n",
    "    \n",
    "    ds = xr.open_dataset(file_path)  \n",
    "    ds = ds.chunk({'valid_time': 500})  \n",
    "    \n",
    "    # Add year and month as coordinates\n",
    "    ds = ds.assign_coords(\n",
    "        year=ds['valid_time'].dt.year,\n",
    "        month=ds['valid_time'].dt.month\n",
    "    )\n",
    "    \n",
    "    # Temporary list for this year\n",
    "    df_list = []\n",
    "    \n",
    "    # Loop over each unique month in this file\n",
    "    for month_val in tqdm(np.unique(ds['month'].values), desc=f\"Year {year_val}\", leave=False):\n",
    "        ds_month = ds.sel(valid_time=(ds['month'] == month_val))\n",
    "        if ds_month['valid_time'].size == 0:\n",
    "            continue\n",
    "\n",
    "        precip_data = ds_month['tp'].values\n",
    "\n",
    "        # Compute monthly statistics (same logic as daily before)\n",
    "        mean = np.nanmean(precip_data, axis=0)\n",
    "        median = np.nanmedian(precip_data, axis=0)\n",
    "        std = np.nanstd(precip_data, axis=0)\n",
    "        max_ = np.nanmax(precip_data, axis=0)\n",
    "        min_ = np.nanmin(precip_data, axis=0)\n",
    "        total = np.nansum(precip_data, axis=0)\n",
    "\n",
    "        # Create Dataset for this month's stats\n",
    "        stats = xr.Dataset({\n",
    "            'Mean': (['latitude', 'longitude'], mean),\n",
    "            'Median': (['latitude', 'longitude'], median),\n",
    "            'Std': (['latitude', 'longitude'], std),\n",
    "            'Max': (['latitude', 'longitude'], max_),\n",
    "            'Min': (['latitude', 'longitude'], min_),\n",
    "            'Total_Precipitation': (['latitude', 'longitude'], total)\n",
    "        }, coords={'latitude': ds['latitude'], 'longitude': ds['longitude']})\n",
    "\n",
    "        # Convert to DataFrame\n",
    "        stats_df = stats.to_dataframe().reset_index()\n",
    "\n",
    "        # Add time labels\n",
    "        stats_df['Year'] = year_val\n",
    "        stats_df['Month'] = int(month_val)\n",
    "\n",
    "        # Set multi-index\n",
    "        stats_df = stats_df.set_index(['Year', 'Month', 'latitude', 'longitude'])\n",
    "        df_list.append(stats_df)\n",
    "    \n",
    "    # Save this year's results\n",
    "    if df_list:  # Only save if data exists\n",
    "        df_final = pd.concat(df_list)\n",
    "        df_final_xr = df_final.reset_index().set_index(['Year', 'Month', 'latitude', 'longitude'])\n",
    "        df_final_xr = df_final_xr.to_xarray()\n",
    "        \n",
    "        output_file_path = os.path.join(output_folder, f\"monthly_precipitation_stats_{year_val}.nc\")\n",
    "        df_final_xr.to_netcdf(output_file_path)\n",
    "        print(f\"✅ Saved {output_file_path}\")\n",
    "\n",
    "print(\"\\n🎉 All yearly files saved successfully!\")\n"
   ]
  },
  {
   "cell_type": "markdown",
   "id": "a2b4868b",
   "metadata": {},
   "source": [
    "Convert lat and lon from 0.25 to 0.75"
   ]
  },
  {
   "cell_type": "code",
   "execution_count": 2,
   "id": "26eb5168",
   "metadata": {},
   "outputs": [
    {
     "name": "stdout",
     "output_type": "stream",
     "text": [
      "Found 22 yearly files to regrid...\n"
     ]
    },
    {
     "name": "stderr",
     "output_type": "stream",
     "text": [
      "Regridding yearly files:   5%|▍         | 1/22 [00:00<00:09,  2.30it/s]"
     ]
    },
    {
     "name": "stdout",
     "output_type": "stream",
     "text": [
      "✅ Saved D:\\IPMA\\ERA5\\Precipitation\\monthly_precipitation_stats_yearly_regridded\\monthly_precipitation_stats_2003_regrid.nc\n"
     ]
    },
    {
     "name": "stderr",
     "output_type": "stream",
     "text": [
      "Regridding yearly files:   9%|▉         | 2/22 [00:00<00:06,  3.06it/s]"
     ]
    },
    {
     "name": "stdout",
     "output_type": "stream",
     "text": [
      "✅ Saved D:\\IPMA\\ERA5\\Precipitation\\monthly_precipitation_stats_yearly_regridded\\monthly_precipitation_stats_2004_regrid.nc\n"
     ]
    },
    {
     "name": "stderr",
     "output_type": "stream",
     "text": [
      "Regridding yearly files:  14%|█▎        | 3/22 [00:00<00:05,  3.61it/s]"
     ]
    },
    {
     "name": "stdout",
     "output_type": "stream",
     "text": [
      "✅ Saved D:\\IPMA\\ERA5\\Precipitation\\monthly_precipitation_stats_yearly_regridded\\monthly_precipitation_stats_2005_regrid.nc\n"
     ]
    },
    {
     "name": "stderr",
     "output_type": "stream",
     "text": [
      "Regridding yearly files:  18%|█▊        | 4/22 [00:01<00:04,  3.70it/s]"
     ]
    },
    {
     "name": "stdout",
     "output_type": "stream",
     "text": [
      "✅ Saved D:\\IPMA\\ERA5\\Precipitation\\monthly_precipitation_stats_yearly_regridded\\monthly_precipitation_stats_2006_regrid.nc\n"
     ]
    },
    {
     "name": "stderr",
     "output_type": "stream",
     "text": [
      "Regridding yearly files:  23%|██▎       | 5/22 [00:01<00:04,  3.92it/s]"
     ]
    },
    {
     "name": "stdout",
     "output_type": "stream",
     "text": [
      "✅ Saved D:\\IPMA\\ERA5\\Precipitation\\monthly_precipitation_stats_yearly_regridded\\monthly_precipitation_stats_2007_regrid.nc\n"
     ]
    },
    {
     "name": "stderr",
     "output_type": "stream",
     "text": [
      "Regridding yearly files:  27%|██▋       | 6/22 [00:01<00:03,  4.17it/s]"
     ]
    },
    {
     "name": "stdout",
     "output_type": "stream",
     "text": [
      "✅ Saved D:\\IPMA\\ERA5\\Precipitation\\monthly_precipitation_stats_yearly_regridded\\monthly_precipitation_stats_2008_regrid.nc\n"
     ]
    },
    {
     "name": "stderr",
     "output_type": "stream",
     "text": [
      "Regridding yearly files:  32%|███▏      | 7/22 [00:01<00:03,  4.21it/s]"
     ]
    },
    {
     "name": "stdout",
     "output_type": "stream",
     "text": [
      "✅ Saved D:\\IPMA\\ERA5\\Precipitation\\monthly_precipitation_stats_yearly_regridded\\monthly_precipitation_stats_2009_regrid.nc\n"
     ]
    },
    {
     "name": "stderr",
     "output_type": "stream",
     "text": [
      "Regridding yearly files:  36%|███▋      | 8/22 [00:02<00:03,  4.20it/s]"
     ]
    },
    {
     "name": "stdout",
     "output_type": "stream",
     "text": [
      "✅ Saved D:\\IPMA\\ERA5\\Precipitation\\monthly_precipitation_stats_yearly_regridded\\monthly_precipitation_stats_2010_regrid.nc\n"
     ]
    },
    {
     "name": "stderr",
     "output_type": "stream",
     "text": [
      "Regridding yearly files:  41%|████      | 9/22 [00:02<00:03,  4.09it/s]"
     ]
    },
    {
     "name": "stdout",
     "output_type": "stream",
     "text": [
      "✅ Saved D:\\IPMA\\ERA5\\Precipitation\\monthly_precipitation_stats_yearly_regridded\\monthly_precipitation_stats_2011_regrid.nc\n"
     ]
    },
    {
     "name": "stderr",
     "output_type": "stream",
     "text": [
      "Regridding yearly files:  45%|████▌     | 10/22 [00:02<00:02,  4.05it/s]"
     ]
    },
    {
     "name": "stdout",
     "output_type": "stream",
     "text": [
      "✅ Saved D:\\IPMA\\ERA5\\Precipitation\\monthly_precipitation_stats_yearly_regridded\\monthly_precipitation_stats_2012_regrid.nc\n"
     ]
    },
    {
     "name": "stderr",
     "output_type": "stream",
     "text": [
      "Regridding yearly files:  50%|█████     | 11/22 [00:02<00:02,  4.20it/s]"
     ]
    },
    {
     "name": "stdout",
     "output_type": "stream",
     "text": [
      "✅ Saved D:\\IPMA\\ERA5\\Precipitation\\monthly_precipitation_stats_yearly_regridded\\monthly_precipitation_stats_2013_regrid.nc\n"
     ]
    },
    {
     "name": "stderr",
     "output_type": "stream",
     "text": [
      "Regridding yearly files:  55%|█████▍    | 12/22 [00:03<00:02,  3.81it/s]"
     ]
    },
    {
     "name": "stdout",
     "output_type": "stream",
     "text": [
      "✅ Saved D:\\IPMA\\ERA5\\Precipitation\\monthly_precipitation_stats_yearly_regridded\\monthly_precipitation_stats_2014_regrid.nc\n"
     ]
    },
    {
     "name": "stderr",
     "output_type": "stream",
     "text": [
      "Regridding yearly files:  59%|█████▉    | 13/22 [00:03<00:02,  3.93it/s]"
     ]
    },
    {
     "name": "stdout",
     "output_type": "stream",
     "text": [
      "✅ Saved D:\\IPMA\\ERA5\\Precipitation\\monthly_precipitation_stats_yearly_regridded\\monthly_precipitation_stats_2015_regrid.nc\n"
     ]
    },
    {
     "name": "stderr",
     "output_type": "stream",
     "text": [
      "Regridding yearly files:  64%|██████▎   | 14/22 [00:03<00:02,  3.62it/s]"
     ]
    },
    {
     "name": "stdout",
     "output_type": "stream",
     "text": [
      "✅ Saved D:\\IPMA\\ERA5\\Precipitation\\monthly_precipitation_stats_yearly_regridded\\monthly_precipitation_stats_2016_regrid.nc\n"
     ]
    },
    {
     "name": "stderr",
     "output_type": "stream",
     "text": [
      "Regridding yearly files:  68%|██████▊   | 15/22 [00:03<00:01,  3.80it/s]"
     ]
    },
    {
     "name": "stdout",
     "output_type": "stream",
     "text": [
      "✅ Saved D:\\IPMA\\ERA5\\Precipitation\\monthly_precipitation_stats_yearly_regridded\\monthly_precipitation_stats_2017_regrid.nc\n"
     ]
    },
    {
     "name": "stderr",
     "output_type": "stream",
     "text": [
      "Regridding yearly files:  73%|███████▎  | 16/22 [00:04<00:01,  3.87it/s]"
     ]
    },
    {
     "name": "stdout",
     "output_type": "stream",
     "text": [
      "✅ Saved D:\\IPMA\\ERA5\\Precipitation\\monthly_precipitation_stats_yearly_regridded\\monthly_precipitation_stats_2018_regrid.nc\n"
     ]
    },
    {
     "name": "stderr",
     "output_type": "stream",
     "text": [
      "Regridding yearly files:  77%|███████▋  | 17/22 [00:04<00:01,  3.86it/s]"
     ]
    },
    {
     "name": "stdout",
     "output_type": "stream",
     "text": [
      "✅ Saved D:\\IPMA\\ERA5\\Precipitation\\monthly_precipitation_stats_yearly_regridded\\monthly_precipitation_stats_2019_regrid.nc\n"
     ]
    },
    {
     "name": "stderr",
     "output_type": "stream",
     "text": [
      "Regridding yearly files:  82%|████████▏ | 18/22 [00:04<00:00,  4.10it/s]"
     ]
    },
    {
     "name": "stdout",
     "output_type": "stream",
     "text": [
      "✅ Saved D:\\IPMA\\ERA5\\Precipitation\\monthly_precipitation_stats_yearly_regridded\\monthly_precipitation_stats_2020_regrid.nc\n"
     ]
    },
    {
     "name": "stderr",
     "output_type": "stream",
     "text": [
      "Regridding yearly files:  86%|████████▋ | 19/22 [00:04<00:00,  4.21it/s]"
     ]
    },
    {
     "name": "stdout",
     "output_type": "stream",
     "text": [
      "✅ Saved D:\\IPMA\\ERA5\\Precipitation\\monthly_precipitation_stats_yearly_regridded\\monthly_precipitation_stats_2021_regrid.nc\n"
     ]
    },
    {
     "name": "stderr",
     "output_type": "stream",
     "text": [
      "Regridding yearly files:  91%|█████████ | 20/22 [00:05<00:00,  4.18it/s]"
     ]
    },
    {
     "name": "stdout",
     "output_type": "stream",
     "text": [
      "✅ Saved D:\\IPMA\\ERA5\\Precipitation\\monthly_precipitation_stats_yearly_regridded\\monthly_precipitation_stats_2022_regrid.nc\n"
     ]
    },
    {
     "name": "stderr",
     "output_type": "stream",
     "text": [
      "Regridding yearly files:  95%|█████████▌| 21/22 [00:05<00:00,  4.09it/s]"
     ]
    },
    {
     "name": "stdout",
     "output_type": "stream",
     "text": [
      "✅ Saved D:\\IPMA\\ERA5\\Precipitation\\monthly_precipitation_stats_yearly_regridded\\monthly_precipitation_stats_2023_regrid.nc\n"
     ]
    },
    {
     "name": "stderr",
     "output_type": "stream",
     "text": [
      "Regridding yearly files: 100%|██████████| 22/22 [00:05<00:00,  3.94it/s]"
     ]
    },
    {
     "name": "stdout",
     "output_type": "stream",
     "text": [
      "✅ Saved D:\\IPMA\\ERA5\\Precipitation\\monthly_precipitation_stats_yearly_regridded\\monthly_precipitation_stats_2024_regrid.nc\n",
      "\n",
      "🎉 All yearly monthly-stat files regridded and saved successfully!\n"
     ]
    },
    {
     "name": "stderr",
     "output_type": "stream",
     "text": [
      "\n"
     ]
    }
   ],
   "source": [
    "import xarray as xr\n",
    "import numpy as np\n",
    "import os\n",
    "from tqdm import tqdm\n",
    "\n",
    "# Input/output folders\n",
    "input_folder = r\"D:\\IPMA\\ERA5\\Precipitation\\monthly_precipitation_stats_yearly\"\n",
    "output_folder = r\"D:\\IPMA\\ERA5\\Precipitation\\monthly_precipitation_stats_yearly_regridded\"\n",
    "os.makedirs(output_folder, exist_ok=True)\n",
    "\n",
    "# Get list of input NetCDF files\n",
    "file_list = sorted([f for f in os.listdir(input_folder) if f.endswith(\".nc\")])\n",
    "print(f\"Found {len(file_list)} yearly files to regrid...\")\n",
    "\n",
    "# Regrid parameters\n",
    "factor_lat = 3\n",
    "factor_lon = 3\n",
    "\n",
    "# Target grid\n",
    "lat_target = np.arange(34.5, 66.0 + 0.001, 0.75)   # 43 lats\n",
    "lon_target = np.arange(-12.0, 36.0 + 0.001, 0.75)  # 65 lons\n",
    "\n",
    "# Loop through files\n",
    "for file in tqdm(file_list, desc=\"Regridding yearly files\"):\n",
    "    file_path = os.path.join(input_folder, file)\n",
    "    year_val = file.split('_')[-1][:4]  # extract year from filename\n",
    "    \n",
    "    # Open dataset\n",
    "    ds = xr.open_dataset(file_path)\n",
    "    \n",
    "    # Step 1: Coarsen (aggregation)\n",
    "    ds_coarse = xr.Dataset()\n",
    "    for var in [\"Mean\", \"Median\", \"Std\", \"Max\", \"Min\", \"Total_Precipitation\"]:\n",
    "        if var in ds:\n",
    "            ds_coarse[var] = ds[var].coarsen(\n",
    "                latitude=factor_lat, longitude=factor_lon, boundary=\"trim\"\n",
    "            ).mean(skipna=True)\n",
    "\n",
    "    # Handle \"number\" only if it's in the dataset AND has lat/lon dims\n",
    "    if \"number\" in ds and {\"latitude\", \"longitude\"}.issubset(ds[\"number\"].dims):\n",
    "        ds_coarse[\"number\"] = ds[\"number\"].coarsen(\n",
    "            latitude=factor_lat, longitude=factor_lon, boundary=\"trim\"\n",
    "        ).sum(skipna=True)\n",
    "\n",
    "    # Copy non-spatial coords (if they exist)\n",
    "    for coord in [\"Year\", \"Month\"]:\n",
    "        if coord in ds:\n",
    "            ds_coarse[coord] = ds[coord]\n",
    "\n",
    "    # Step 2: Interpolate onto target grid\n",
    "    ds_final = ds_coarse.interp(\n",
    "        latitude=lat_target,\n",
    "        longitude=lon_target,\n",
    "        method=\"linear\",\n",
    "        kwargs={\"fill_value\": \"extrapolate\"}\n",
    "    )\n",
    "    \n",
    "    # Save output\n",
    "    out_file = os.path.join(output_folder, f\"monthly_precipitation_stats_{year_val}_regrid.nc\")\n",
    "    ds_final.to_netcdf(out_file)\n",
    "    print(f\"✅ Saved {out_file}\")\n",
    "\n",
    "print(\"\\n🎉 All yearly monthly-stat files regridded and saved successfully!\")\n"
   ]
  },
  {
   "cell_type": "markdown",
   "id": "b109258f",
   "metadata": {},
   "source": [
    "#### Daily Statistics"
   ]
  },
  {
   "cell_type": "code",
   "execution_count": 3,
   "id": "11735df4",
   "metadata": {},
   "outputs": [
    {
     "name": "stdout",
     "output_type": "stream",
     "text": [
      "Processing 22 files from 2003 to 2024...\n"
     ]
    },
    {
     "name": "stderr",
     "output_type": "stream",
     "text": [
      "Files processed:   0%|          | 0/22 [00:00<?, ?it/s]"
     ]
    },
    {
     "name": "stdout",
     "output_type": "stream",
     "text": [
      "\n",
      "📂 Processing year 2003...\n"
     ]
    },
    {
     "name": "stderr",
     "output_type": "stream",
     "text": [
      "Files processed:   5%|▍         | 1/22 [01:44<36:39, 104.76s/it]"
     ]
    },
    {
     "name": "stdout",
     "output_type": "stream",
     "text": [
      "✅ Saved D:\\IPMA\\ERA5\\Precipitation\\daily_precipitation_stats_yearly\\daily_precipitation_stats_2003.nc\n",
      "\n",
      "📂 Processing year 2004...\n"
     ]
    },
    {
     "name": "stderr",
     "output_type": "stream",
     "text": [
      "Files processed:   9%|▉         | 2/22 [03:38<36:46, 110.30s/it]"
     ]
    },
    {
     "name": "stdout",
     "output_type": "stream",
     "text": [
      "✅ Saved D:\\IPMA\\ERA5\\Precipitation\\daily_precipitation_stats_yearly\\daily_precipitation_stats_2004.nc\n",
      "\n",
      "📂 Processing year 2005...\n"
     ]
    },
    {
     "name": "stderr",
     "output_type": "stream",
     "text": [
      "Files processed:  14%|█▎        | 3/22 [05:28<34:47, 109.88s/it]"
     ]
    },
    {
     "name": "stdout",
     "output_type": "stream",
     "text": [
      "✅ Saved D:\\IPMA\\ERA5\\Precipitation\\daily_precipitation_stats_yearly\\daily_precipitation_stats_2005.nc\n",
      "\n",
      "📂 Processing year 2006...\n"
     ]
    },
    {
     "name": "stderr",
     "output_type": "stream",
     "text": [
      "Files processed:  18%|█▊        | 4/22 [07:22<33:31, 111.74s/it]"
     ]
    },
    {
     "name": "stdout",
     "output_type": "stream",
     "text": [
      "✅ Saved D:\\IPMA\\ERA5\\Precipitation\\daily_precipitation_stats_yearly\\daily_precipitation_stats_2006.nc\n",
      "\n",
      "📂 Processing year 2007...\n"
     ]
    },
    {
     "name": "stderr",
     "output_type": "stream",
     "text": [
      "Files processed:  23%|██▎       | 5/22 [09:04<30:37, 108.10s/it]"
     ]
    },
    {
     "name": "stdout",
     "output_type": "stream",
     "text": [
      "✅ Saved D:\\IPMA\\ERA5\\Precipitation\\daily_precipitation_stats_yearly\\daily_precipitation_stats_2007.nc\n",
      "\n",
      "📂 Processing year 2008...\n"
     ]
    },
    {
     "name": "stderr",
     "output_type": "stream",
     "text": [
      "Files processed:  27%|██▋       | 6/22 [10:57<29:17, 109.86s/it]"
     ]
    },
    {
     "name": "stdout",
     "output_type": "stream",
     "text": [
      "✅ Saved D:\\IPMA\\ERA5\\Precipitation\\daily_precipitation_stats_yearly\\daily_precipitation_stats_2008.nc\n",
      "\n",
      "📂 Processing year 2009...\n"
     ]
    },
    {
     "name": "stderr",
     "output_type": "stream",
     "text": [
      "Files processed:  32%|███▏      | 7/22 [13:22<30:20, 121.38s/it]"
     ]
    },
    {
     "name": "stdout",
     "output_type": "stream",
     "text": [
      "✅ Saved D:\\IPMA\\ERA5\\Precipitation\\daily_precipitation_stats_yearly\\daily_precipitation_stats_2009.nc\n",
      "\n",
      "📂 Processing year 2010...\n"
     ]
    },
    {
     "name": "stderr",
     "output_type": "stream",
     "text": [
      "Files processed:  36%|███▋      | 8/22 [15:21<28:04, 120.34s/it]"
     ]
    },
    {
     "name": "stdout",
     "output_type": "stream",
     "text": [
      "✅ Saved D:\\IPMA\\ERA5\\Precipitation\\daily_precipitation_stats_yearly\\daily_precipitation_stats_2010.nc\n",
      "\n",
      "📂 Processing year 2011...\n"
     ]
    },
    {
     "name": "stderr",
     "output_type": "stream",
     "text": [
      "Files processed:  41%|████      | 9/22 [17:21<26:03, 120.27s/it]"
     ]
    },
    {
     "name": "stdout",
     "output_type": "stream",
     "text": [
      "✅ Saved D:\\IPMA\\ERA5\\Precipitation\\daily_precipitation_stats_yearly\\daily_precipitation_stats_2011.nc\n",
      "\n",
      "📂 Processing year 2012...\n"
     ]
    },
    {
     "name": "stderr",
     "output_type": "stream",
     "text": [
      "Files processed:  45%|████▌     | 10/22 [19:16<23:46, 118.89s/it]"
     ]
    },
    {
     "name": "stdout",
     "output_type": "stream",
     "text": [
      "✅ Saved D:\\IPMA\\ERA5\\Precipitation\\daily_precipitation_stats_yearly\\daily_precipitation_stats_2012.nc\n",
      "\n",
      "📂 Processing year 2013...\n"
     ]
    },
    {
     "name": "stderr",
     "output_type": "stream",
     "text": [
      "Files processed:  50%|█████     | 11/22 [21:08<21:23, 116.66s/it]"
     ]
    },
    {
     "name": "stdout",
     "output_type": "stream",
     "text": [
      "✅ Saved D:\\IPMA\\ERA5\\Precipitation\\daily_precipitation_stats_yearly\\daily_precipitation_stats_2013.nc\n",
      "\n",
      "📂 Processing year 2014...\n"
     ]
    },
    {
     "name": "stderr",
     "output_type": "stream",
     "text": [
      "Files processed:  55%|█████▍    | 12/22 [23:08<19:36, 117.66s/it]"
     ]
    },
    {
     "name": "stdout",
     "output_type": "stream",
     "text": [
      "✅ Saved D:\\IPMA\\ERA5\\Precipitation\\daily_precipitation_stats_yearly\\daily_precipitation_stats_2014.nc\n",
      "\n",
      "📂 Processing year 2015...\n"
     ]
    },
    {
     "name": "stderr",
     "output_type": "stream",
     "text": [
      "Files processed:  59%|█████▉    | 13/22 [24:53<17:04, 113.84s/it]"
     ]
    },
    {
     "name": "stdout",
     "output_type": "stream",
     "text": [
      "✅ Saved D:\\IPMA\\ERA5\\Precipitation\\daily_precipitation_stats_yearly\\daily_precipitation_stats_2015.nc\n",
      "\n",
      "📂 Processing year 2016...\n"
     ]
    },
    {
     "name": "stderr",
     "output_type": "stream",
     "text": [
      "Files processed:  64%|██████▎   | 14/22 [26:48<15:13, 114.20s/it]"
     ]
    },
    {
     "name": "stdout",
     "output_type": "stream",
     "text": [
      "✅ Saved D:\\IPMA\\ERA5\\Precipitation\\daily_precipitation_stats_yearly\\daily_precipitation_stats_2016.nc\n",
      "\n",
      "📂 Processing year 2017...\n"
     ]
    },
    {
     "name": "stderr",
     "output_type": "stream",
     "text": [
      "Files processed:  68%|██████▊   | 15/22 [28:43<13:19, 114.28s/it]"
     ]
    },
    {
     "name": "stdout",
     "output_type": "stream",
     "text": [
      "✅ Saved D:\\IPMA\\ERA5\\Precipitation\\daily_precipitation_stats_yearly\\daily_precipitation_stats_2017.nc\n",
      "\n",
      "📂 Processing year 2018...\n"
     ]
    },
    {
     "name": "stderr",
     "output_type": "stream",
     "text": [
      "Files processed:  73%|███████▎  | 16/22 [30:43<11:37, 116.17s/it]"
     ]
    },
    {
     "name": "stdout",
     "output_type": "stream",
     "text": [
      "✅ Saved D:\\IPMA\\ERA5\\Precipitation\\daily_precipitation_stats_yearly\\daily_precipitation_stats_2018.nc\n",
      "\n",
      "📂 Processing year 2019...\n"
     ]
    },
    {
     "name": "stderr",
     "output_type": "stream",
     "text": [
      "Files processed:  77%|███████▋  | 17/22 [32:31<09:29, 113.80s/it]"
     ]
    },
    {
     "name": "stdout",
     "output_type": "stream",
     "text": [
      "✅ Saved D:\\IPMA\\ERA5\\Precipitation\\daily_precipitation_stats_yearly\\daily_precipitation_stats_2019.nc\n",
      "\n",
      "📂 Processing year 2020...\n"
     ]
    },
    {
     "name": "stderr",
     "output_type": "stream",
     "text": [
      "Files processed:  82%|████████▏ | 18/22 [34:20<07:29, 112.27s/it]"
     ]
    },
    {
     "name": "stdout",
     "output_type": "stream",
     "text": [
      "✅ Saved D:\\IPMA\\ERA5\\Precipitation\\daily_precipitation_stats_yearly\\daily_precipitation_stats_2020.nc\n",
      "\n",
      "📂 Processing year 2021...\n"
     ]
    },
    {
     "name": "stderr",
     "output_type": "stream",
     "text": [
      "Files processed:  86%|████████▋ | 19/22 [36:01<05:26, 108.94s/it]"
     ]
    },
    {
     "name": "stdout",
     "output_type": "stream",
     "text": [
      "✅ Saved D:\\IPMA\\ERA5\\Precipitation\\daily_precipitation_stats_yearly\\daily_precipitation_stats_2021.nc\n",
      "\n",
      "📂 Processing year 2022...\n"
     ]
    },
    {
     "name": "stderr",
     "output_type": "stream",
     "text": [
      "Files processed:  91%|█████████ | 20/22 [38:01<03:44, 112.24s/it]"
     ]
    },
    {
     "name": "stdout",
     "output_type": "stream",
     "text": [
      "✅ Saved D:\\IPMA\\ERA5\\Precipitation\\daily_precipitation_stats_yearly\\daily_precipitation_stats_2022.nc\n",
      "\n",
      "📂 Processing year 2023...\n"
     ]
    },
    {
     "name": "stderr",
     "output_type": "stream",
     "text": [
      "Files processed:  95%|█████████▌| 21/22 [39:53<01:52, 112.06s/it]"
     ]
    },
    {
     "name": "stdout",
     "output_type": "stream",
     "text": [
      "✅ Saved D:\\IPMA\\ERA5\\Precipitation\\daily_precipitation_stats_yearly\\daily_precipitation_stats_2023.nc\n",
      "\n",
      "📂 Processing year 2024...\n"
     ]
    },
    {
     "name": "stderr",
     "output_type": "stream",
     "text": [
      "Files processed: 100%|██████████| 22/22 [45:31<00:00, 124.14s/it]"
     ]
    },
    {
     "name": "stdout",
     "output_type": "stream",
     "text": [
      "✅ Saved D:\\IPMA\\ERA5\\Precipitation\\daily_precipitation_stats_yearly\\daily_precipitation_stats_2024.nc\n",
      "\n",
      "🎉 All yearly files saved successfully!\n"
     ]
    },
    {
     "name": "stderr",
     "output_type": "stream",
     "text": [
      "\n"
     ]
    }
   ],
   "source": [
    "import xarray as xr\n",
    "import pandas as pd\n",
    "import os\n",
    "import numpy as np\n",
    "from tqdm import tqdm  # For progress bars\n",
    "\n",
    "# Define the folder containing NetCDF files\n",
    "folder_path = r\"D:\\IPMA\\ERA5\\Precipitation\\1raw_year_1979_2024\"\n",
    "output_folder = r\"D:\\IPMA\\ERA5\\Precipitation\\daily_precipitation_stats_yearly\"\n",
    "\n",
    "os.makedirs(output_folder, exist_ok=True)\n",
    "\n",
    "# Get a sorted list of all NetCDF files in the folder\n",
    "file_list = sorted([f for f in os.listdir(folder_path) if f.endswith(\".nc\")])\n",
    "\n",
    "# Filter only years 2003–2024\n",
    "file_list = [f for f in file_list if 2003 <= int(f.split('_')[-1][:4]) <= 2024]\n",
    "\n",
    "print(f\"Processing {len(file_list)} files from 2003 to 2024...\")\n",
    "\n",
    "# Loop over files with a progress bar\n",
    "for file in tqdm(file_list, desc=\"Files processed\"):\n",
    "    file_path = os.path.join(folder_path, file)\n",
    "    \n",
    "    # Extract year from filename\n",
    "    year_val = int(file.split('_')[-1][:4])\n",
    "    print(f\"\\n📂 Processing year {year_val}...\")\n",
    "    \n",
    "    ds = xr.open_dataset(file_path)  \n",
    "    ds = ds.chunk({'valid_time': 500})  \n",
    "    \n",
    "    # Add year, month, day as coordinates\n",
    "    ds = ds.assign_coords(\n",
    "        year=ds['valid_time'].dt.year,\n",
    "        month=ds['valid_time'].dt.month,\n",
    "        day=ds['valid_time'].dt.day\n",
    "    )\n",
    "    \n",
    "    # Temporary list for this year\n",
    "    df_list = []\n",
    "    \n",
    "    # Loop over each unique month in this file\n",
    "    for month_val in np.unique(ds['month'].values):\n",
    "        days_in_month = np.unique(ds['day'].values[ds['month'].values == month_val])\n",
    "        \n",
    "        # Loop over each day in the month with a progress bar\n",
    "        for day_val in tqdm(days_in_month, desc=f\"Month {month_val}\", leave=False):\n",
    "            ds_day = ds.sel(\n",
    "                valid_time=(ds['month'] == month_val) & (ds['day'] == day_val)\n",
    "            )\n",
    "            if ds_day['valid_time'].size == 0:\n",
    "                continue\n",
    "            \n",
    "            precip_data = ds_day['tp'].values\n",
    "\n",
    "            # Compute daily statistics\n",
    "            mean = np.nanmean(precip_data, axis=0)\n",
    "            median = np.nanmedian(precip_data, axis=0)\n",
    "            std = np.nanstd(precip_data, axis=0)\n",
    "            max_ = np.nanmax(precip_data, axis=0)\n",
    "            min_ = np.nanmin(precip_data, axis=0)\n",
    "            total = np.nansum(precip_data, axis=0)\n",
    "\n",
    "            # Create Dataset for this day's stats\n",
    "            stats = xr.Dataset({\n",
    "                'Mean': (['latitude', 'longitude'], mean),\n",
    "                'Median': (['latitude', 'longitude'], median),\n",
    "                'Std': (['latitude', 'longitude'], std),\n",
    "                'Max': (['latitude', 'longitude'], max_),\n",
    "                'Min': (['latitude', 'longitude'], min_),\n",
    "                'Total_Precipitation': (['latitude', 'longitude'], total)\n",
    "            }, coords={'latitude': ds['latitude'], 'longitude': ds['longitude']})\n",
    "\n",
    "            # Convert to DataFrame\n",
    "            stats_df = stats.to_dataframe().reset_index()\n",
    "\n",
    "            # Add time labels\n",
    "            stats_df['Year'] = year_val\n",
    "            stats_df['Month'] = month_val\n",
    "            stats_df['Day'] = int(day_val)\n",
    "\n",
    "            # Set multi-index\n",
    "            stats_df = stats_df.set_index(['Year', 'Month', 'Day', 'latitude', 'longitude'])\n",
    "            df_list.append(stats_df)\n",
    "    \n",
    "    # Save this year's results\n",
    "    if df_list:  # Only save if data exists\n",
    "        df_final = pd.concat(df_list)\n",
    "        df_final_xr = df_final.reset_index().set_index(['Year', 'Month', 'Day', 'latitude', 'longitude'])\n",
    "        df_final_xr = df_final_xr.to_xarray()\n",
    "        \n",
    "        output_file_path = os.path.join(output_folder, f\"daily_precipitation_stats_{year_val}.nc\")\n",
    "        df_final_xr.to_netcdf(output_file_path)\n",
    "        print(f\"✅ Saved {output_file_path}\")\n",
    "\n",
    "print(\"\\n🎉 All yearly files saved successfully!\")\n"
   ]
  },
  {
   "cell_type": "markdown",
   "id": "67240427",
   "metadata": {},
   "source": [
    "Convert lat and lon from 0.25 to 0.75"
   ]
  },
  {
   "cell_type": "code",
   "execution_count": 4,
   "id": "73090de1",
   "metadata": {},
   "outputs": [
    {
     "name": "stdout",
     "output_type": "stream",
     "text": [
      "Found 22 yearly files to regrid...\n"
     ]
    },
    {
     "name": "stderr",
     "output_type": "stream",
     "text": [
      "Regridding yearly files:   5%|▍         | 1/22 [00:06<02:07,  6.07s/it]"
     ]
    },
    {
     "name": "stdout",
     "output_type": "stream",
     "text": [
      "✅ Saved D:\\IPMA\\ERA5\\Precipitation\\daily_precipitation_stats_yearly_regridded\\daily_precipitation_stats_2003_regrid.nc\n"
     ]
    },
    {
     "name": "stderr",
     "output_type": "stream",
     "text": [
      "Regridding yearly files:   9%|▉         | 2/22 [00:11<01:52,  5.62s/it]"
     ]
    },
    {
     "name": "stdout",
     "output_type": "stream",
     "text": [
      "✅ Saved D:\\IPMA\\ERA5\\Precipitation\\daily_precipitation_stats_yearly_regridded\\daily_precipitation_stats_2004_regrid.nc\n"
     ]
    },
    {
     "name": "stderr",
     "output_type": "stream",
     "text": [
      "Regridding yearly files:  14%|█▎        | 3/22 [00:15<01:36,  5.10s/it]"
     ]
    },
    {
     "name": "stdout",
     "output_type": "stream",
     "text": [
      "✅ Saved D:\\IPMA\\ERA5\\Precipitation\\daily_precipitation_stats_yearly_regridded\\daily_precipitation_stats_2005_regrid.nc\n"
     ]
    },
    {
     "name": "stderr",
     "output_type": "stream",
     "text": [
      "Regridding yearly files:  18%|█▊        | 4/22 [00:21<01:38,  5.49s/it]"
     ]
    },
    {
     "name": "stdout",
     "output_type": "stream",
     "text": [
      "✅ Saved D:\\IPMA\\ERA5\\Precipitation\\daily_precipitation_stats_yearly_regridded\\daily_precipitation_stats_2006_regrid.nc\n"
     ]
    },
    {
     "name": "stderr",
     "output_type": "stream",
     "text": [
      "Regridding yearly files:  23%|██▎       | 5/22 [00:27<01:32,  5.46s/it]"
     ]
    },
    {
     "name": "stdout",
     "output_type": "stream",
     "text": [
      "✅ Saved D:\\IPMA\\ERA5\\Precipitation\\daily_precipitation_stats_yearly_regridded\\daily_precipitation_stats_2007_regrid.nc\n"
     ]
    },
    {
     "name": "stderr",
     "output_type": "stream",
     "text": [
      "Regridding yearly files:  27%|██▋       | 6/22 [00:33<01:29,  5.61s/it]"
     ]
    },
    {
     "name": "stdout",
     "output_type": "stream",
     "text": [
      "✅ Saved D:\\IPMA\\ERA5\\Precipitation\\daily_precipitation_stats_yearly_regridded\\daily_precipitation_stats_2008_regrid.nc\n"
     ]
    },
    {
     "name": "stderr",
     "output_type": "stream",
     "text": [
      "Regridding yearly files:  32%|███▏      | 7/22 [00:39<01:28,  5.91s/it]"
     ]
    },
    {
     "name": "stdout",
     "output_type": "stream",
     "text": [
      "✅ Saved D:\\IPMA\\ERA5\\Precipitation\\daily_precipitation_stats_yearly_regridded\\daily_precipitation_stats_2009_regrid.nc\n"
     ]
    },
    {
     "name": "stderr",
     "output_type": "stream",
     "text": [
      "Regridding yearly files:  36%|███▋      | 8/22 [00:44<01:19,  5.65s/it]"
     ]
    },
    {
     "name": "stdout",
     "output_type": "stream",
     "text": [
      "✅ Saved D:\\IPMA\\ERA5\\Precipitation\\daily_precipitation_stats_yearly_regridded\\daily_precipitation_stats_2010_regrid.nc\n"
     ]
    },
    {
     "name": "stderr",
     "output_type": "stream",
     "text": [
      "Regridding yearly files:  41%|████      | 9/22 [00:49<01:10,  5.44s/it]"
     ]
    },
    {
     "name": "stdout",
     "output_type": "stream",
     "text": [
      "✅ Saved D:\\IPMA\\ERA5\\Precipitation\\daily_precipitation_stats_yearly_regridded\\daily_precipitation_stats_2011_regrid.nc\n"
     ]
    },
    {
     "name": "stderr",
     "output_type": "stream",
     "text": [
      "Regridding yearly files:  45%|████▌     | 10/22 [00:54<01:03,  5.32s/it]"
     ]
    },
    {
     "name": "stdout",
     "output_type": "stream",
     "text": [
      "✅ Saved D:\\IPMA\\ERA5\\Precipitation\\daily_precipitation_stats_yearly_regridded\\daily_precipitation_stats_2012_regrid.nc\n"
     ]
    },
    {
     "name": "stderr",
     "output_type": "stream",
     "text": [
      "Regridding yearly files:  50%|█████     | 11/22 [01:00<01:00,  5.47s/it]"
     ]
    },
    {
     "name": "stdout",
     "output_type": "stream",
     "text": [
      "✅ Saved D:\\IPMA\\ERA5\\Precipitation\\daily_precipitation_stats_yearly_regridded\\daily_precipitation_stats_2013_regrid.nc\n"
     ]
    },
    {
     "name": "stderr",
     "output_type": "stream",
     "text": [
      "Regridding yearly files:  55%|█████▍    | 12/22 [01:06<00:56,  5.66s/it]"
     ]
    },
    {
     "name": "stdout",
     "output_type": "stream",
     "text": [
      "✅ Saved D:\\IPMA\\ERA5\\Precipitation\\daily_precipitation_stats_yearly_regridded\\daily_precipitation_stats_2014_regrid.nc\n"
     ]
    },
    {
     "name": "stderr",
     "output_type": "stream",
     "text": [
      "Regridding yearly files:  59%|█████▉    | 13/22 [01:11<00:49,  5.49s/it]"
     ]
    },
    {
     "name": "stdout",
     "output_type": "stream",
     "text": [
      "✅ Saved D:\\IPMA\\ERA5\\Precipitation\\daily_precipitation_stats_yearly_regridded\\daily_precipitation_stats_2015_regrid.nc\n"
     ]
    },
    {
     "name": "stderr",
     "output_type": "stream",
     "text": [
      "Regridding yearly files:  64%|██████▎   | 14/22 [01:16<00:42,  5.30s/it]"
     ]
    },
    {
     "name": "stdout",
     "output_type": "stream",
     "text": [
      "✅ Saved D:\\IPMA\\ERA5\\Precipitation\\daily_precipitation_stats_yearly_regridded\\daily_precipitation_stats_2016_regrid.nc\n"
     ]
    },
    {
     "name": "stderr",
     "output_type": "stream",
     "text": [
      "Regridding yearly files:  68%|██████▊   | 15/22 [01:21<00:36,  5.28s/it]"
     ]
    },
    {
     "name": "stdout",
     "output_type": "stream",
     "text": [
      "✅ Saved D:\\IPMA\\ERA5\\Precipitation\\daily_precipitation_stats_yearly_regridded\\daily_precipitation_stats_2017_regrid.nc\n"
     ]
    },
    {
     "name": "stderr",
     "output_type": "stream",
     "text": [
      "Regridding yearly files:  73%|███████▎  | 16/22 [01:27<00:32,  5.41s/it]"
     ]
    },
    {
     "name": "stdout",
     "output_type": "stream",
     "text": [
      "✅ Saved D:\\IPMA\\ERA5\\Precipitation\\daily_precipitation_stats_yearly_regridded\\daily_precipitation_stats_2018_regrid.nc\n"
     ]
    },
    {
     "name": "stderr",
     "output_type": "stream",
     "text": [
      "Regridding yearly files:  77%|███████▋  | 17/22 [01:32<00:26,  5.34s/it]"
     ]
    },
    {
     "name": "stdout",
     "output_type": "stream",
     "text": [
      "✅ Saved D:\\IPMA\\ERA5\\Precipitation\\daily_precipitation_stats_yearly_regridded\\daily_precipitation_stats_2019_regrid.nc\n"
     ]
    },
    {
     "name": "stderr",
     "output_type": "stream",
     "text": [
      "Regridding yearly files:  82%|████████▏ | 18/22 [01:37<00:20,  5.16s/it]"
     ]
    },
    {
     "name": "stdout",
     "output_type": "stream",
     "text": [
      "✅ Saved D:\\IPMA\\ERA5\\Precipitation\\daily_precipitation_stats_yearly_regridded\\daily_precipitation_stats_2020_regrid.nc\n"
     ]
    },
    {
     "name": "stderr",
     "output_type": "stream",
     "text": [
      "Regridding yearly files:  86%|████████▋ | 19/22 [01:43<00:15,  5.24s/it]"
     ]
    },
    {
     "name": "stdout",
     "output_type": "stream",
     "text": [
      "✅ Saved D:\\IPMA\\ERA5\\Precipitation\\daily_precipitation_stats_yearly_regridded\\daily_precipitation_stats_2021_regrid.nc\n"
     ]
    },
    {
     "name": "stderr",
     "output_type": "stream",
     "text": [
      "Regridding yearly files:  91%|█████████ | 20/22 [01:48<00:10,  5.28s/it]"
     ]
    },
    {
     "name": "stdout",
     "output_type": "stream",
     "text": [
      "✅ Saved D:\\IPMA\\ERA5\\Precipitation\\daily_precipitation_stats_yearly_regridded\\daily_precipitation_stats_2022_regrid.nc\n"
     ]
    },
    {
     "name": "stderr",
     "output_type": "stream",
     "text": [
      "Regridding yearly files:  95%|█████████▌| 21/22 [01:53<00:05,  5.17s/it]"
     ]
    },
    {
     "name": "stdout",
     "output_type": "stream",
     "text": [
      "✅ Saved D:\\IPMA\\ERA5\\Precipitation\\daily_precipitation_stats_yearly_regridded\\daily_precipitation_stats_2023_regrid.nc\n"
     ]
    },
    {
     "name": "stderr",
     "output_type": "stream",
     "text": [
      "Regridding yearly files: 100%|██████████| 22/22 [01:58<00:00,  5.38s/it]"
     ]
    },
    {
     "name": "stdout",
     "output_type": "stream",
     "text": [
      "✅ Saved D:\\IPMA\\ERA5\\Precipitation\\daily_precipitation_stats_yearly_regridded\\daily_precipitation_stats_2024_regrid.nc\n",
      "\n",
      "🎉 All yearly files regridded and saved successfully!\n"
     ]
    },
    {
     "name": "stderr",
     "output_type": "stream",
     "text": [
      "\n"
     ]
    }
   ],
   "source": [
    "import xarray as xr\n",
    "import numpy as np\n",
    "import os\n",
    "from tqdm import tqdm\n",
    "\n",
    "# Input/output folders\n",
    "input_folder = r\"D:\\IPMA\\ERA5\\Precipitation\\daily_precipitation_stats_yearly\"\n",
    "output_folder = r\"D:\\IPMA\\ERA5\\Precipitation\\daily_precipitation_stats_yearly_regridded\"\n",
    "os.makedirs(output_folder, exist_ok=True)\n",
    "\n",
    "# Get list of input NetCDF files\n",
    "file_list = sorted([f for f in os.listdir(input_folder) if f.endswith(\".nc\")])\n",
    "print(f\"Found {len(file_list)} yearly files to regrid...\")\n",
    "\n",
    "# Regrid parameters\n",
    "factor_lat = 3\n",
    "factor_lon = 3\n",
    "\n",
    "# Target grid\n",
    "lat_target = np.arange(34.5, 66.0 + 0.001, 0.75)   # 43 lats\n",
    "lon_target = np.arange(-12.0, 36.0 + 0.001, 0.75)  # 65 lons\n",
    "\n",
    "# Loop through files\n",
    "for file in tqdm(file_list, desc=\"Regridding yearly files\"):\n",
    "    file_path = os.path.join(input_folder, file)\n",
    "    year_val = file.split('_')[-1][:4]  # extract year from filename\n",
    "    \n",
    "    # Open dataset\n",
    "    ds = xr.open_dataset(file_path)\n",
    "    \n",
    "    # Step 1: Coarsen (aggregation)\n",
    "    ds_coarse = xr.Dataset()\n",
    "    for var in [\"Mean\", \"Median\", \"Std\", \"Max\", \"Min\", \"Total_Precipitation\"]:\n",
    "        if var in ds:\n",
    "            ds_coarse[var] = ds[var].coarsen(\n",
    "                latitude=factor_lat, longitude=factor_lon, boundary=\"trim\"\n",
    "            ).mean(skipna=True)\n",
    "\n",
    "    # Handle \"number\" only if it's in the dataset AND has lat/lon dims\n",
    "    if \"number\" in ds and {\"latitude\", \"longitude\"}.issubset(ds[\"number\"].dims):\n",
    "        ds_coarse[\"number\"] = ds[\"number\"].coarsen(\n",
    "            latitude=factor_lat, longitude=factor_lon, boundary=\"trim\"\n",
    "        ).sum(skipna=True)\n",
    "\n",
    "\n",
    "    # Copy non-spatial coords (if they align)\n",
    "    for coord in [\"Year\", \"Month\", \"Day\"]:\n",
    "        if coord in ds:\n",
    "            ds_coarse[coord] = ds[coord]\n",
    "    \n",
    "    # Step 2: Interpolate onto target grid\n",
    "    ds_final = ds_coarse.interp(\n",
    "        latitude=lat_target,\n",
    "        longitude=lon_target,\n",
    "        method=\"linear\",\n",
    "        kwargs={\"fill_value\": \"extrapolate\"}\n",
    "    )\n",
    "    \n",
    "    # Save output\n",
    "    out_file = os.path.join(output_folder, f\"daily_precipitation_stats_{year_val}_regrid.nc\")\n",
    "    ds_final.to_netcdf(out_file)\n",
    "    print(f\"✅ Saved {out_file}\")\n",
    "\n",
    "print(\"\\n🎉 All yearly files regridded and saved successfully!\")\n"
   ]
  },
  {
   "cell_type": "markdown",
   "id": "2ad16279",
   "metadata": {},
   "source": [
    "### Temperature"
   ]
  },
  {
   "cell_type": "markdown",
   "id": "542fdab1",
   "metadata": {},
   "source": [
    "#### Monthly Statistics"
   ]
  },
  {
   "cell_type": "code",
   "execution_count": 5,
   "id": "d5cfea10",
   "metadata": {},
   "outputs": [
    {
     "name": "stdout",
     "output_type": "stream",
     "text": [
      "Processing 22 files from 2003 to 2024...\n"
     ]
    },
    {
     "name": "stderr",
     "output_type": "stream",
     "text": [
      "Files processed:   0%|          | 0/22 [00:00<?, ?it/s]"
     ]
    },
    {
     "name": "stdout",
     "output_type": "stream",
     "text": [
      "\n",
      "📂 Processing year 2003...\n"
     ]
    },
    {
     "name": "stderr",
     "output_type": "stream",
     "text": [
      "Files processed:   5%|▍         | 1/22 [00:21<07:35, 21.67s/it]"
     ]
    },
    {
     "name": "stdout",
     "output_type": "stream",
     "text": [
      "✅ Saved D:\\IPMA\\ERA5\\Temperature\\monthly_temperature_stats_yearly\\monthly_temperature_stats_2003.nc\n",
      "\n",
      "📂 Processing year 2004...\n"
     ]
    },
    {
     "name": "stderr",
     "output_type": "stream",
     "text": [
      "Files processed:   9%|▉         | 2/22 [00:44<07:25, 22.29s/it]"
     ]
    },
    {
     "name": "stdout",
     "output_type": "stream",
     "text": [
      "✅ Saved D:\\IPMA\\ERA5\\Temperature\\monthly_temperature_stats_yearly\\monthly_temperature_stats_2004.nc\n",
      "\n",
      "📂 Processing year 2005...\n"
     ]
    },
    {
     "name": "stderr",
     "output_type": "stream",
     "text": [
      "Files processed:  14%|█▎        | 3/22 [01:05<06:55, 21.87s/it]"
     ]
    },
    {
     "name": "stdout",
     "output_type": "stream",
     "text": [
      "✅ Saved D:\\IPMA\\ERA5\\Temperature\\monthly_temperature_stats_yearly\\monthly_temperature_stats_2005.nc\n",
      "\n",
      "📂 Processing year 2006...\n"
     ]
    },
    {
     "name": "stderr",
     "output_type": "stream",
     "text": [
      "Files processed:  18%|█▊        | 4/22 [01:35<07:29, 24.97s/it]"
     ]
    },
    {
     "name": "stdout",
     "output_type": "stream",
     "text": [
      "✅ Saved D:\\IPMA\\ERA5\\Temperature\\monthly_temperature_stats_yearly\\monthly_temperature_stats_2006.nc\n",
      "\n",
      "📂 Processing year 2007...\n"
     ]
    },
    {
     "name": "stderr",
     "output_type": "stream",
     "text": [
      "Files processed:  23%|██▎       | 5/22 [02:04<07:27, 26.31s/it]"
     ]
    },
    {
     "name": "stdout",
     "output_type": "stream",
     "text": [
      "✅ Saved D:\\IPMA\\ERA5\\Temperature\\monthly_temperature_stats_yearly\\monthly_temperature_stats_2007.nc\n",
      "\n",
      "📂 Processing year 2008...\n"
     ]
    },
    {
     "name": "stderr",
     "output_type": "stream",
     "text": [
      "Files processed:  27%|██▋       | 6/22 [02:27<06:45, 25.35s/it]"
     ]
    },
    {
     "name": "stdout",
     "output_type": "stream",
     "text": [
      "✅ Saved D:\\IPMA\\ERA5\\Temperature\\monthly_temperature_stats_yearly\\monthly_temperature_stats_2008.nc\n",
      "\n",
      "📂 Processing year 2009...\n"
     ]
    },
    {
     "name": "stderr",
     "output_type": "stream",
     "text": [
      "Files processed:  32%|███▏      | 7/22 [02:50<06:09, 24.66s/it]"
     ]
    },
    {
     "name": "stdout",
     "output_type": "stream",
     "text": [
      "✅ Saved D:\\IPMA\\ERA5\\Temperature\\monthly_temperature_stats_yearly\\monthly_temperature_stats_2009.nc\n",
      "\n",
      "📂 Processing year 2010...\n"
     ]
    },
    {
     "name": "stderr",
     "output_type": "stream",
     "text": [
      "Files processed:  36%|███▋      | 8/22 [03:15<05:43, 24.52s/it]"
     ]
    },
    {
     "name": "stdout",
     "output_type": "stream",
     "text": [
      "✅ Saved D:\\IPMA\\ERA5\\Temperature\\monthly_temperature_stats_yearly\\monthly_temperature_stats_2010.nc\n",
      "\n",
      "📂 Processing year 2011...\n"
     ]
    },
    {
     "name": "stderr",
     "output_type": "stream",
     "text": [
      "Files processed:  41%|████      | 9/22 [03:40<05:21, 24.74s/it]"
     ]
    },
    {
     "name": "stdout",
     "output_type": "stream",
     "text": [
      "✅ Saved D:\\IPMA\\ERA5\\Temperature\\monthly_temperature_stats_yearly\\monthly_temperature_stats_2011.nc\n",
      "\n",
      "📂 Processing year 2012...\n"
     ]
    },
    {
     "name": "stderr",
     "output_type": "stream",
     "text": [
      "Files processed:  45%|████▌     | 10/22 [04:03<04:51, 24.33s/it]"
     ]
    },
    {
     "name": "stdout",
     "output_type": "stream",
     "text": [
      "✅ Saved D:\\IPMA\\ERA5\\Temperature\\monthly_temperature_stats_yearly\\monthly_temperature_stats_2012.nc\n",
      "\n",
      "📂 Processing year 2013...\n"
     ]
    },
    {
     "name": "stderr",
     "output_type": "stream",
     "text": [
      "Files processed:  50%|█████     | 11/22 [04:26<04:21, 23.78s/it]"
     ]
    },
    {
     "name": "stdout",
     "output_type": "stream",
     "text": [
      "✅ Saved D:\\IPMA\\ERA5\\Temperature\\monthly_temperature_stats_yearly\\monthly_temperature_stats_2013.nc\n",
      "\n",
      "📂 Processing year 2014...\n"
     ]
    },
    {
     "name": "stderr",
     "output_type": "stream",
     "text": [
      "Files processed:  55%|█████▍    | 12/22 [04:48<03:54, 23.40s/it]"
     ]
    },
    {
     "name": "stdout",
     "output_type": "stream",
     "text": [
      "✅ Saved D:\\IPMA\\ERA5\\Temperature\\monthly_temperature_stats_yearly\\monthly_temperature_stats_2014.nc\n",
      "\n",
      "📂 Processing year 2015...\n"
     ]
    },
    {
     "name": "stderr",
     "output_type": "stream",
     "text": [
      "Files processed:  59%|█████▉    | 13/22 [05:12<03:30, 23.40s/it]"
     ]
    },
    {
     "name": "stdout",
     "output_type": "stream",
     "text": [
      "✅ Saved D:\\IPMA\\ERA5\\Temperature\\monthly_temperature_stats_yearly\\monthly_temperature_stats_2015.nc\n",
      "\n",
      "📂 Processing year 2016...\n"
     ]
    },
    {
     "name": "stderr",
     "output_type": "stream",
     "text": [
      "Files processed:  64%|██████▎   | 14/22 [05:37<03:12, 24.01s/it]"
     ]
    },
    {
     "name": "stdout",
     "output_type": "stream",
     "text": [
      "✅ Saved D:\\IPMA\\ERA5\\Temperature\\monthly_temperature_stats_yearly\\monthly_temperature_stats_2016.nc\n",
      "\n",
      "📂 Processing year 2017...\n"
     ]
    },
    {
     "name": "stderr",
     "output_type": "stream",
     "text": [
      "Files processed:  68%|██████▊   | 15/22 [06:01<02:47, 23.91s/it]"
     ]
    },
    {
     "name": "stdout",
     "output_type": "stream",
     "text": [
      "✅ Saved D:\\IPMA\\ERA5\\Temperature\\monthly_temperature_stats_yearly\\monthly_temperature_stats_2017.nc\n",
      "\n",
      "📂 Processing year 2018...\n"
     ]
    },
    {
     "name": "stderr",
     "output_type": "stream",
     "text": [
      "Files processed:  73%|███████▎  | 16/22 [06:23<02:21, 23.54s/it]"
     ]
    },
    {
     "name": "stdout",
     "output_type": "stream",
     "text": [
      "✅ Saved D:\\IPMA\\ERA5\\Temperature\\monthly_temperature_stats_yearly\\monthly_temperature_stats_2018.nc\n",
      "\n",
      "📂 Processing year 2019...\n"
     ]
    },
    {
     "name": "stderr",
     "output_type": "stream",
     "text": [
      "Files processed:  77%|███████▋  | 17/22 [06:45<01:54, 22.95s/it]"
     ]
    },
    {
     "name": "stdout",
     "output_type": "stream",
     "text": [
      "✅ Saved D:\\IPMA\\ERA5\\Temperature\\monthly_temperature_stats_yearly\\monthly_temperature_stats_2019.nc\n",
      "\n",
      "📂 Processing year 2020...\n"
     ]
    },
    {
     "name": "stderr",
     "output_type": "stream",
     "text": [
      "Files processed:  82%|████████▏ | 18/22 [07:07<01:30, 22.69s/it]"
     ]
    },
    {
     "name": "stdout",
     "output_type": "stream",
     "text": [
      "✅ Saved D:\\IPMA\\ERA5\\Temperature\\monthly_temperature_stats_yearly\\monthly_temperature_stats_2020.nc\n",
      "\n",
      "📂 Processing year 2021...\n"
     ]
    },
    {
     "name": "stderr",
     "output_type": "stream",
     "text": [
      "Files processed:  86%|████████▋ | 19/22 [07:32<01:10, 23.37s/it]"
     ]
    },
    {
     "name": "stdout",
     "output_type": "stream",
     "text": [
      "✅ Saved D:\\IPMA\\ERA5\\Temperature\\monthly_temperature_stats_yearly\\monthly_temperature_stats_2021.nc\n",
      "\n",
      "📂 Processing year 2022...\n"
     ]
    },
    {
     "name": "stderr",
     "output_type": "stream",
     "text": [
      "Files processed:  91%|█████████ | 20/22 [07:58<00:48, 24.11s/it]"
     ]
    },
    {
     "name": "stdout",
     "output_type": "stream",
     "text": [
      "✅ Saved D:\\IPMA\\ERA5\\Temperature\\monthly_temperature_stats_yearly\\monthly_temperature_stats_2022.nc\n",
      "\n",
      "📂 Processing year 2023...\n"
     ]
    },
    {
     "name": "stderr",
     "output_type": "stream",
     "text": [
      "Files processed:  95%|█████████▌| 21/22 [08:21<00:23, 23.89s/it]"
     ]
    },
    {
     "name": "stdout",
     "output_type": "stream",
     "text": [
      "✅ Saved D:\\IPMA\\ERA5\\Temperature\\monthly_temperature_stats_yearly\\monthly_temperature_stats_2023.nc\n",
      "\n",
      "📂 Processing year 2024...\n"
     ]
    },
    {
     "name": "stderr",
     "output_type": "stream",
     "text": [
      "Files processed: 100%|██████████| 22/22 [09:03<00:00, 24.70s/it]"
     ]
    },
    {
     "name": "stdout",
     "output_type": "stream",
     "text": [
      "✅ Saved D:\\IPMA\\ERA5\\Temperature\\monthly_temperature_stats_yearly\\monthly_temperature_stats_2024.nc\n",
      "\n",
      "🎉 All yearly files saved successfully!\n"
     ]
    },
    {
     "name": "stderr",
     "output_type": "stream",
     "text": [
      "\n"
     ]
    }
   ],
   "source": [
    "import xarray as xr\n",
    "import pandas as pd\n",
    "import os\n",
    "import numpy as np\n",
    "from tqdm import tqdm  # For progress bars\n",
    "\n",
    "# Define the folder containing NetCDF files\n",
    "folder_path = r\"D:\\IPMA\\ERA5\\Temperature\\1raw_year_1979_2024\"\n",
    "output_folder = r\"D:\\IPMA\\ERA5\\Temperature\\monthly_temperature_stats_yearly\"\n",
    "\n",
    "os.makedirs(output_folder, exist_ok=True)\n",
    "\n",
    "# Get a sorted list of all NetCDF files in the folder\n",
    "file_list = sorted([f for f in os.listdir(folder_path) if f.endswith(\".nc\")])\n",
    "\n",
    "# Filter only years 2003–2024\n",
    "file_list = [f for f in file_list if 2003 <= int(f.split('_')[-1][:4]) <= 2024]\n",
    "\n",
    "print(f\"Processing {len(file_list)} files from 2003 to 2024...\")\n",
    "\n",
    "# Loop over files with a progress bar\n",
    "for file in tqdm(file_list, desc=\"Files processed\"):\n",
    "    file_path = os.path.join(folder_path, file)\n",
    "    \n",
    "    # Extract year from filename\n",
    "    year_val = int(file.split('_')[-1][:4])\n",
    "    print(f\"\\n📂 Processing year {year_val}...\")\n",
    "    \n",
    "    ds = xr.open_dataset(file_path)  \n",
    "    ds = ds.chunk({'valid_time': 500})  \n",
    "    \n",
    "    # Add year and month as coordinates\n",
    "    ds = ds.assign_coords(\n",
    "        year=ds['valid_time'].dt.year,\n",
    "        month=ds['valid_time'].dt.month\n",
    "    )\n",
    "    \n",
    "    # Temporary list for this year\n",
    "    df_list = []\n",
    "    \n",
    "    # Loop over each unique month in this file\n",
    "    for month_val in tqdm(np.unique(ds['month'].values), desc=f\"Year {year_val}\", leave=False):\n",
    "        ds_month = ds.sel(valid_time=(ds['month'] == month_val))\n",
    "        if ds_month['valid_time'].size == 0:\n",
    "            continue\n",
    "\n",
    "        temp_data = ds_month['t2m'].values\n",
    "\n",
    "        # Compute monthly statistics (same logic as daily before)\n",
    "        mean = np.nanmean(temp_data, axis=0)\n",
    "        median = np.nanmedian(temp_data, axis=0)\n",
    "        std = np.nanstd(temp_data, axis=0)\n",
    "        max_ = np.nanmax(temp_data, axis=0)\n",
    "        min_ = np.nanmin(temp_data, axis=0)\n",
    "        total = np.nansum(temp_data, axis=0)\n",
    "\n",
    "        # Create Dataset for this month's stats\n",
    "        stats = xr.Dataset({\n",
    "            'Mean': (['latitude', 'longitude'], mean),\n",
    "            'Median': (['latitude', 'longitude'], median),\n",
    "            'Std': (['latitude', 'longitude'], std),\n",
    "            'Max': (['latitude', 'longitude'], max_),\n",
    "            'Min': (['latitude', 'longitude'], min_)\n",
    "        }, coords={'latitude': ds['latitude'], 'longitude': ds['longitude']})\n",
    "\n",
    "        # Convert to DataFrame\n",
    "        stats_df = stats.to_dataframe().reset_index()\n",
    "\n",
    "        # Add time labels\n",
    "        stats_df['Year'] = year_val\n",
    "        stats_df['Month'] = int(month_val)\n",
    "\n",
    "        # Set multi-index\n",
    "        stats_df = stats_df.set_index(['Year', 'Month', 'latitude', 'longitude'])\n",
    "        df_list.append(stats_df)\n",
    "    \n",
    "    # Save this year's results\n",
    "    if df_list:  # Only save if data exists\n",
    "        df_final = pd.concat(df_list)\n",
    "        df_final_xr = df_final.reset_index().set_index(['Year', 'Month', 'latitude', 'longitude'])\n",
    "        df_final_xr = df_final_xr.to_xarray()\n",
    "        \n",
    "        output_file_path = os.path.join(output_folder, f\"monthly_temperature_stats_{year_val}.nc\")\n",
    "        df_final_xr.to_netcdf(output_file_path)\n",
    "        print(f\"✅ Saved {output_file_path}\")\n",
    "\n",
    "print(\"\\n🎉 All yearly files saved successfully!\")\n"
   ]
  },
  {
   "cell_type": "markdown",
   "id": "75b6693d",
   "metadata": {},
   "source": [
    "Convert lat and lon from 0.25 to 0.75"
   ]
  },
  {
   "cell_type": "code",
   "execution_count": 6,
   "id": "99479f94",
   "metadata": {},
   "outputs": [
    {
     "name": "stdout",
     "output_type": "stream",
     "text": [
      "Found 22 yearly files to regrid...\n"
     ]
    },
    {
     "name": "stderr",
     "output_type": "stream",
     "text": [
      "Regridding yearly files:   5%|▍         | 1/22 [00:00<00:09,  2.21it/s]"
     ]
    },
    {
     "name": "stdout",
     "output_type": "stream",
     "text": [
      "✅ Saved D:\\IPMA\\ERA5\\Temperature\\monthly_temperature_stats_yearly_regridded\\monthly_temperature_stats_2003_regrid.nc\n"
     ]
    },
    {
     "name": "stderr",
     "output_type": "stream",
     "text": [
      "Regridding yearly files:   9%|▉         | 2/22 [00:00<00:07,  2.72it/s]"
     ]
    },
    {
     "name": "stdout",
     "output_type": "stream",
     "text": [
      "✅ Saved D:\\IPMA\\ERA5\\Temperature\\monthly_temperature_stats_yearly_regridded\\monthly_temperature_stats_2004_regrid.nc\n"
     ]
    },
    {
     "name": "stderr",
     "output_type": "stream",
     "text": [
      "Regridding yearly files:  14%|█▎        | 3/22 [00:01<00:06,  2.72it/s]"
     ]
    },
    {
     "name": "stdout",
     "output_type": "stream",
     "text": [
      "✅ Saved D:\\IPMA\\ERA5\\Temperature\\monthly_temperature_stats_yearly_regridded\\monthly_temperature_stats_2005_regrid.nc\n"
     ]
    },
    {
     "name": "stderr",
     "output_type": "stream",
     "text": [
      "Regridding yearly files:  18%|█▊        | 4/22 [00:01<00:06,  2.71it/s]"
     ]
    },
    {
     "name": "stdout",
     "output_type": "stream",
     "text": [
      "✅ Saved D:\\IPMA\\ERA5\\Temperature\\monthly_temperature_stats_yearly_regridded\\monthly_temperature_stats_2006_regrid.nc\n"
     ]
    },
    {
     "name": "stderr",
     "output_type": "stream",
     "text": [
      "Regridding yearly files:  23%|██▎       | 5/22 [00:01<00:05,  2.87it/s]"
     ]
    },
    {
     "name": "stdout",
     "output_type": "stream",
     "text": [
      "✅ Saved D:\\IPMA\\ERA5\\Temperature\\monthly_temperature_stats_yearly_regridded\\monthly_temperature_stats_2007_regrid.nc\n"
     ]
    },
    {
     "name": "stderr",
     "output_type": "stream",
     "text": [
      "Regridding yearly files:  32%|███▏      | 7/22 [00:02<00:04,  3.74it/s]"
     ]
    },
    {
     "name": "stdout",
     "output_type": "stream",
     "text": [
      "✅ Saved D:\\IPMA\\ERA5\\Temperature\\monthly_temperature_stats_yearly_regridded\\monthly_temperature_stats_2008_regrid.nc\n",
      "✅ Saved D:\\IPMA\\ERA5\\Temperature\\monthly_temperature_stats_yearly_regridded\\monthly_temperature_stats_2009_regrid.nc\n"
     ]
    },
    {
     "name": "stderr",
     "output_type": "stream",
     "text": [
      "Regridding yearly files:  45%|████▌     | 10/22 [00:02<00:01,  6.36it/s]"
     ]
    },
    {
     "name": "stdout",
     "output_type": "stream",
     "text": [
      "✅ Saved D:\\IPMA\\ERA5\\Temperature\\monthly_temperature_stats_yearly_regridded\\monthly_temperature_stats_2010_regrid.nc\n",
      "✅ Saved D:\\IPMA\\ERA5\\Temperature\\monthly_temperature_stats_yearly_regridded\\monthly_temperature_stats_2011_regrid.nc\n",
      "✅ Saved D:\\IPMA\\ERA5\\Temperature\\monthly_temperature_stats_yearly_regridded\\monthly_temperature_stats_2012_regrid.nc\n"
     ]
    },
    {
     "name": "stderr",
     "output_type": "stream",
     "text": [
      "Regridding yearly files:  59%|█████▉    | 13/22 [00:02<00:01,  8.22it/s]"
     ]
    },
    {
     "name": "stdout",
     "output_type": "stream",
     "text": [
      "✅ Saved D:\\IPMA\\ERA5\\Temperature\\monthly_temperature_stats_yearly_regridded\\monthly_temperature_stats_2013_regrid.nc\n",
      "✅ Saved D:\\IPMA\\ERA5\\Temperature\\monthly_temperature_stats_yearly_regridded\\monthly_temperature_stats_2014_regrid.nc\n",
      "✅ Saved D:\\IPMA\\ERA5\\Temperature\\monthly_temperature_stats_yearly_regridded\\monthly_temperature_stats_2015_regrid.nc\n"
     ]
    },
    {
     "name": "stderr",
     "output_type": "stream",
     "text": [
      "Regridding yearly files:  68%|██████▊   | 15/22 [00:03<00:00,  7.45it/s]"
     ]
    },
    {
     "name": "stdout",
     "output_type": "stream",
     "text": [
      "✅ Saved D:\\IPMA\\ERA5\\Temperature\\monthly_temperature_stats_yearly_regridded\\monthly_temperature_stats_2016_regrid.nc\n",
      "✅ Saved D:\\IPMA\\ERA5\\Temperature\\monthly_temperature_stats_yearly_regridded\\monthly_temperature_stats_2017_regrid.nc\n"
     ]
    },
    {
     "name": "stderr",
     "output_type": "stream",
     "text": [
      "Regridding yearly files:  77%|███████▋  | 17/22 [00:03<00:00,  8.98it/s]"
     ]
    },
    {
     "name": "stdout",
     "output_type": "stream",
     "text": [
      "✅ Saved D:\\IPMA\\ERA5\\Temperature\\monthly_temperature_stats_yearly_regridded\\monthly_temperature_stats_2018_regrid.nc\n",
      "✅ Saved D:\\IPMA\\ERA5\\Temperature\\monthly_temperature_stats_yearly_regridded\\monthly_temperature_stats_2019_regrid.nc\n",
      "✅ Saved D:\\IPMA\\ERA5\\Temperature\\monthly_temperature_stats_yearly_regridded\\monthly_temperature_stats_2020_regrid.nc\n"
     ]
    },
    {
     "name": "stderr",
     "output_type": "stream",
     "text": [
      "Regridding yearly files:  95%|█████████▌| 21/22 [00:03<00:00, 10.35it/s]"
     ]
    },
    {
     "name": "stdout",
     "output_type": "stream",
     "text": [
      "✅ Saved D:\\IPMA\\ERA5\\Temperature\\monthly_temperature_stats_yearly_regridded\\monthly_temperature_stats_2021_regrid.nc\n",
      "✅ Saved D:\\IPMA\\ERA5\\Temperature\\monthly_temperature_stats_yearly_regridded\\monthly_temperature_stats_2022_regrid.nc\n",
      "✅ Saved D:\\IPMA\\ERA5\\Temperature\\monthly_temperature_stats_yearly_regridded\\monthly_temperature_stats_2023_regrid.nc\n"
     ]
    },
    {
     "name": "stderr",
     "output_type": "stream",
     "text": [
      "Regridding yearly files: 100%|██████████| 22/22 [00:03<00:00,  5.90it/s]"
     ]
    },
    {
     "name": "stdout",
     "output_type": "stream",
     "text": [
      "✅ Saved D:\\IPMA\\ERA5\\Temperature\\monthly_temperature_stats_yearly_regridded\\monthly_temperature_stats_2024_regrid.nc\n",
      "\n",
      "🎉 All yearly monthly-stat files regridded and saved successfully!\n"
     ]
    },
    {
     "name": "stderr",
     "output_type": "stream",
     "text": [
      "\n"
     ]
    }
   ],
   "source": [
    "import xarray as xr\n",
    "import numpy as np\n",
    "import os\n",
    "from tqdm import tqdm\n",
    "\n",
    "# Input/output folders\n",
    "input_folder = r\"D:\\IPMA\\ERA5\\Temperature\\monthly_temperature_stats_yearly\"\n",
    "output_folder = r\"D:\\IPMA\\ERA5\\Temperature\\monthly_temperature_stats_yearly_regridded\"\n",
    "os.makedirs(output_folder, exist_ok=True)\n",
    "\n",
    "# Get list of input NetCDF files\n",
    "file_list = sorted([f for f in os.listdir(input_folder) if f.endswith(\".nc\")])\n",
    "print(f\"Found {len(file_list)} yearly files to regrid...\")\n",
    "\n",
    "# Regrid parameters\n",
    "factor_lat = 3\n",
    "factor_lon = 3\n",
    "\n",
    "# Target grid\n",
    "lat_target = np.arange(34.5, 66.0 + 0.001, 0.75)   # 43 lats\n",
    "lon_target = np.arange(-12.0, 36.0 + 0.001, 0.75)  # 65 lons\n",
    "\n",
    "# Loop through files\n",
    "for file in tqdm(file_list, desc=\"Regridding yearly files\"):\n",
    "    file_path = os.path.join(input_folder, file)\n",
    "    year_val = file.split('_')[-1][:4]  # extract year from filename\n",
    "    \n",
    "    # Open dataset\n",
    "    ds = xr.open_dataset(file_path)\n",
    "    \n",
    "    # Step 1: Coarsen (aggregation)\n",
    "    ds_coarse = xr.Dataset()\n",
    "    for var in [\"Mean\", \"Median\", \"Std\", \"Max\", \"Min\"]:\n",
    "        if var in ds:\n",
    "            ds_coarse[var] = ds[var].coarsen(\n",
    "                latitude=factor_lat, longitude=factor_lon, boundary=\"trim\"\n",
    "            ).mean(skipna=True)\n",
    "\n",
    "    # Handle \"number\" only if it's in the dataset AND has lat/lon dims\n",
    "    if \"number\" in ds and {\"latitude\", \"longitude\"}.issubset(ds[\"number\"].dims):\n",
    "        ds_coarse[\"number\"] = ds[\"number\"].coarsen(\n",
    "            latitude=factor_lat, longitude=factor_lon, boundary=\"trim\"\n",
    "        ).sum(skipna=True)\n",
    "\n",
    "    # Copy non-spatial coords (if they exist)\n",
    "    for coord in [\"Year\", \"Month\"]:\n",
    "        if coord in ds:\n",
    "            ds_coarse[coord] = ds[coord]\n",
    "\n",
    "    # Step 2: Interpolate onto target grid\n",
    "    ds_final = ds_coarse.interp(\n",
    "        latitude=lat_target,\n",
    "        longitude=lon_target,\n",
    "        method=\"linear\",\n",
    "        kwargs={\"fill_value\": \"extrapolate\"}\n",
    "    )\n",
    "    \n",
    "    # Save output\n",
    "    out_file = os.path.join(output_folder, f\"monthly_temperature_stats_{year_val}_regrid.nc\")\n",
    "    ds_final.to_netcdf(out_file)\n",
    "    print(f\"✅ Saved {out_file}\")\n",
    "\n",
    "print(\"\\n🎉 All yearly monthly-stat files regridded and saved successfully!\")\n"
   ]
  },
  {
   "cell_type": "markdown",
   "id": "ad02140b",
   "metadata": {},
   "source": [
    "#### Daily Statistics"
   ]
  },
  {
   "cell_type": "code",
   "execution_count": 7,
   "id": "0c565436",
   "metadata": {},
   "outputs": [
    {
     "name": "stdout",
     "output_type": "stream",
     "text": [
      "Processing 22 files from 2003 to 2024...\n"
     ]
    },
    {
     "name": "stderr",
     "output_type": "stream",
     "text": [
      "Files processed:   0%|          | 0/22 [00:00<?, ?it/s]"
     ]
    },
    {
     "name": "stdout",
     "output_type": "stream",
     "text": [
      "\n",
      "📂 Processing year 2003...\n"
     ]
    },
    {
     "name": "stderr",
     "output_type": "stream",
     "text": [
      "Files processed:   5%|▍         | 1/22 [00:33<11:45, 33.62s/it]"
     ]
    },
    {
     "name": "stdout",
     "output_type": "stream",
     "text": [
      "✅ Saved D:\\IPMA\\ERA5\\Temperature\\daily_temperature_stats_yearly\\daily_temperature_stats_2003.nc\n",
      "\n",
      "📂 Processing year 2004...\n"
     ]
    },
    {
     "name": "stderr",
     "output_type": "stream",
     "text": [
      "Files processed:   9%|▉         | 2/22 [01:05<10:51, 32.57s/it]"
     ]
    },
    {
     "name": "stdout",
     "output_type": "stream",
     "text": [
      "✅ Saved D:\\IPMA\\ERA5\\Temperature\\daily_temperature_stats_yearly\\daily_temperature_stats_2004.nc\n",
      "\n",
      "📂 Processing year 2005...\n"
     ]
    },
    {
     "name": "stderr",
     "output_type": "stream",
     "text": [
      "Files processed:  14%|█▎        | 3/22 [01:39<10:33, 33.35s/it]"
     ]
    },
    {
     "name": "stdout",
     "output_type": "stream",
     "text": [
      "✅ Saved D:\\IPMA\\ERA5\\Temperature\\daily_temperature_stats_yearly\\daily_temperature_stats_2005.nc\n",
      "\n",
      "📂 Processing year 2006...\n"
     ]
    },
    {
     "name": "stderr",
     "output_type": "stream",
     "text": [
      "Files processed:  18%|█▊        | 4/22 [02:13<10:06, 33.67s/it]"
     ]
    },
    {
     "name": "stdout",
     "output_type": "stream",
     "text": [
      "✅ Saved D:\\IPMA\\ERA5\\Temperature\\daily_temperature_stats_yearly\\daily_temperature_stats_2006.nc\n",
      "\n",
      "📂 Processing year 2007...\n"
     ]
    },
    {
     "name": "stderr",
     "output_type": "stream",
     "text": [
      "Files processed:  23%|██▎       | 5/22 [02:47<09:29, 33.52s/it]"
     ]
    },
    {
     "name": "stdout",
     "output_type": "stream",
     "text": [
      "✅ Saved D:\\IPMA\\ERA5\\Temperature\\daily_temperature_stats_yearly\\daily_temperature_stats_2007.nc\n",
      "\n",
      "📂 Processing year 2008...\n"
     ]
    },
    {
     "name": "stderr",
     "output_type": "stream",
     "text": [
      "Files processed:  27%|██▋       | 6/22 [03:20<08:58, 33.63s/it]"
     ]
    },
    {
     "name": "stdout",
     "output_type": "stream",
     "text": [
      "✅ Saved D:\\IPMA\\ERA5\\Temperature\\daily_temperature_stats_yearly\\daily_temperature_stats_2008.nc\n",
      "\n",
      "📂 Processing year 2009...\n"
     ]
    },
    {
     "name": "stderr",
     "output_type": "stream",
     "text": [
      "Files processed:  32%|███▏      | 7/22 [03:52<08:15, 33.06s/it]"
     ]
    },
    {
     "name": "stdout",
     "output_type": "stream",
     "text": [
      "✅ Saved D:\\IPMA\\ERA5\\Temperature\\daily_temperature_stats_yearly\\daily_temperature_stats_2009.nc\n",
      "\n",
      "📂 Processing year 2010...\n"
     ]
    },
    {
     "name": "stderr",
     "output_type": "stream",
     "text": [
      "Files processed:  36%|███▋      | 8/22 [04:25<07:41, 32.94s/it]"
     ]
    },
    {
     "name": "stdout",
     "output_type": "stream",
     "text": [
      "✅ Saved D:\\IPMA\\ERA5\\Temperature\\daily_temperature_stats_yearly\\daily_temperature_stats_2010.nc\n",
      "\n",
      "📂 Processing year 2011...\n"
     ]
    },
    {
     "name": "stderr",
     "output_type": "stream",
     "text": [
      "Files processed:  41%|████      | 9/22 [04:59<07:11, 33.22s/it]"
     ]
    },
    {
     "name": "stdout",
     "output_type": "stream",
     "text": [
      "✅ Saved D:\\IPMA\\ERA5\\Temperature\\daily_temperature_stats_yearly\\daily_temperature_stats_2011.nc\n",
      "\n",
      "📂 Processing year 2012...\n"
     ]
    },
    {
     "name": "stderr",
     "output_type": "stream",
     "text": [
      "Files processed:  45%|████▌     | 10/22 [05:32<06:36, 33.06s/it]"
     ]
    },
    {
     "name": "stdout",
     "output_type": "stream",
     "text": [
      "✅ Saved D:\\IPMA\\ERA5\\Temperature\\daily_temperature_stats_yearly\\daily_temperature_stats_2012.nc\n",
      "\n",
      "📂 Processing year 2013...\n"
     ]
    },
    {
     "name": "stderr",
     "output_type": "stream",
     "text": [
      "Files processed:  50%|█████     | 11/22 [06:06<06:09, 33.62s/it]"
     ]
    },
    {
     "name": "stdout",
     "output_type": "stream",
     "text": [
      "✅ Saved D:\\IPMA\\ERA5\\Temperature\\daily_temperature_stats_yearly\\daily_temperature_stats_2013.nc\n",
      "\n",
      "📂 Processing year 2014...\n"
     ]
    },
    {
     "name": "stderr",
     "output_type": "stream",
     "text": [
      "Files processed:  55%|█████▍    | 12/22 [06:41<05:38, 33.89s/it]"
     ]
    },
    {
     "name": "stdout",
     "output_type": "stream",
     "text": [
      "✅ Saved D:\\IPMA\\ERA5\\Temperature\\daily_temperature_stats_yearly\\daily_temperature_stats_2014.nc\n",
      "\n",
      "📂 Processing year 2015...\n"
     ]
    },
    {
     "name": "stderr",
     "output_type": "stream",
     "text": [
      "Files processed:  59%|█████▉    | 13/22 [07:15<05:04, 33.79s/it]"
     ]
    },
    {
     "name": "stdout",
     "output_type": "stream",
     "text": [
      "✅ Saved D:\\IPMA\\ERA5\\Temperature\\daily_temperature_stats_yearly\\daily_temperature_stats_2015.nc\n",
      "\n",
      "📂 Processing year 2016...\n"
     ]
    },
    {
     "name": "stderr",
     "output_type": "stream",
     "text": [
      "Files processed:  64%|██████▎   | 14/22 [07:49<04:31, 33.92s/it]"
     ]
    },
    {
     "name": "stdout",
     "output_type": "stream",
     "text": [
      "✅ Saved D:\\IPMA\\ERA5\\Temperature\\daily_temperature_stats_yearly\\daily_temperature_stats_2016.nc\n",
      "\n",
      "📂 Processing year 2017...\n"
     ]
    },
    {
     "name": "stderr",
     "output_type": "stream",
     "text": [
      "Files processed:  68%|██████▊   | 15/22 [08:23<03:57, 33.91s/it]"
     ]
    },
    {
     "name": "stdout",
     "output_type": "stream",
     "text": [
      "✅ Saved D:\\IPMA\\ERA5\\Temperature\\daily_temperature_stats_yearly\\daily_temperature_stats_2017.nc\n",
      "\n",
      "📂 Processing year 2018...\n"
     ]
    },
    {
     "name": "stderr",
     "output_type": "stream",
     "text": [
      "Files processed:  73%|███████▎  | 16/22 [08:54<03:19, 33.24s/it]"
     ]
    },
    {
     "name": "stdout",
     "output_type": "stream",
     "text": [
      "✅ Saved D:\\IPMA\\ERA5\\Temperature\\daily_temperature_stats_yearly\\daily_temperature_stats_2018.nc\n",
      "\n",
      "📂 Processing year 2019...\n"
     ]
    },
    {
     "name": "stderr",
     "output_type": "stream",
     "text": [
      "Files processed:  77%|███████▋  | 17/22 [09:29<02:48, 33.72s/it]"
     ]
    },
    {
     "name": "stdout",
     "output_type": "stream",
     "text": [
      "✅ Saved D:\\IPMA\\ERA5\\Temperature\\daily_temperature_stats_yearly\\daily_temperature_stats_2019.nc\n",
      "\n",
      "📂 Processing year 2020...\n"
     ]
    },
    {
     "name": "stderr",
     "output_type": "stream",
     "text": [
      "Files processed:  82%|████████▏ | 18/22 [10:04<02:16, 34.02s/it]"
     ]
    },
    {
     "name": "stdout",
     "output_type": "stream",
     "text": [
      "✅ Saved D:\\IPMA\\ERA5\\Temperature\\daily_temperature_stats_yearly\\daily_temperature_stats_2020.nc\n",
      "\n",
      "📂 Processing year 2021...\n"
     ]
    },
    {
     "name": "stderr",
     "output_type": "stream",
     "text": [
      "Files processed:  86%|████████▋ | 19/22 [10:40<01:43, 34.53s/it]"
     ]
    },
    {
     "name": "stdout",
     "output_type": "stream",
     "text": [
      "✅ Saved D:\\IPMA\\ERA5\\Temperature\\daily_temperature_stats_yearly\\daily_temperature_stats_2021.nc\n",
      "\n",
      "📂 Processing year 2022...\n"
     ]
    },
    {
     "name": "stderr",
     "output_type": "stream",
     "text": [
      "Files processed:  91%|█████████ | 20/22 [11:15<01:09, 34.68s/it]"
     ]
    },
    {
     "name": "stdout",
     "output_type": "stream",
     "text": [
      "✅ Saved D:\\IPMA\\ERA5\\Temperature\\daily_temperature_stats_yearly\\daily_temperature_stats_2022.nc\n",
      "\n",
      "📂 Processing year 2023...\n"
     ]
    },
    {
     "name": "stderr",
     "output_type": "stream",
     "text": [
      "Files processed:  95%|█████████▌| 21/22 [11:49<00:34, 34.44s/it]"
     ]
    },
    {
     "name": "stdout",
     "output_type": "stream",
     "text": [
      "✅ Saved D:\\IPMA\\ERA5\\Temperature\\daily_temperature_stats_yearly\\daily_temperature_stats_2023.nc\n",
      "\n",
      "📂 Processing year 2024...\n"
     ]
    },
    {
     "name": "stderr",
     "output_type": "stream",
     "text": [
      "Files processed: 100%|██████████| 22/22 [12:22<00:00, 33.74s/it]"
     ]
    },
    {
     "name": "stdout",
     "output_type": "stream",
     "text": [
      "✅ Saved D:\\IPMA\\ERA5\\Temperature\\daily_temperature_stats_yearly\\daily_temperature_stats_2024.nc\n",
      "\n",
      "🎉 All yearly files saved successfully!\n"
     ]
    },
    {
     "name": "stderr",
     "output_type": "stream",
     "text": [
      "\n"
     ]
    }
   ],
   "source": [
    "import xarray as xr\n",
    "import pandas as pd\n",
    "import os\n",
    "import numpy as np\n",
    "from tqdm import tqdm  # For progress bars\n",
    "\n",
    "# Define the folder containing NetCDF files\n",
    "folder_path = r\"D:\\IPMA\\ERA5\\Temperature\\2conversion_year_1979_2024\"\n",
    "output_folder = r\"D:\\IPMA\\ERA5\\Temperature\\daily_temperature_stats_yearly\"\n",
    "\n",
    "os.makedirs(output_folder, exist_ok=True)\n",
    "\n",
    "# Get a sorted list of all NetCDF files in the folder\n",
    "file_list = sorted([f for f in os.listdir(folder_path) if f.endswith(\".nc\")])\n",
    "\n",
    "# Filter only years 2003–2024\n",
    "file_list = [f for f in file_list if 2003 <= int(f.split('_')[-1][:4]) <= 2024]\n",
    "\n",
    "print(f\"Processing {len(file_list)} files from 2003 to 2024...\")\n",
    "\n",
    "# Loop over files with a progress bar\n",
    "for file in tqdm(file_list, desc=\"Files processed\"):\n",
    "    file_path = os.path.join(folder_path, file)\n",
    "    \n",
    "    # Extract year from filename\n",
    "    year_val = int(file.split('_')[-1][:4])\n",
    "    print(f\"\\n📂 Processing year {year_val}...\")\n",
    "    \n",
    "    ds = xr.open_dataset(file_path)  \n",
    "    ds = ds.chunk({'valid_time': 500})  \n",
    "    \n",
    "    # Add year, month, day as coordinates\n",
    "    ds = ds.assign_coords(\n",
    "        year=ds['valid_time'].dt.year,\n",
    "        month=ds['valid_time'].dt.month,\n",
    "        day=ds['valid_time'].dt.day\n",
    "    )\n",
    "    \n",
    "    # Temporary list for this year\n",
    "    df_list = []\n",
    "    \n",
    "    # Loop over each unique month in this file\n",
    "    for month_val in np.unique(ds['month'].values):\n",
    "        days_in_month = np.unique(ds['day'].values[ds['month'].values == month_val])\n",
    "        \n",
    "        # Loop over each day in the month with a progress bar\n",
    "        for day_val in tqdm(days_in_month, desc=f\"Month {month_val}\", leave=False):\n",
    "            ds_day = ds.sel(\n",
    "                valid_time=(ds['month'] == month_val) & (ds['day'] == day_val)\n",
    "            )\n",
    "            if ds_day['valid_time'].size == 0:\n",
    "                continue\n",
    "            \n",
    "            temp_data = ds_day['t2m'].values\n",
    "\n",
    "            # Compute daily statistics\n",
    "            mean = np.nanmean(temp_data, axis=0)\n",
    "            median = np.nanmedian(temp_data, axis=0)\n",
    "            std = np.nanstd(temp_data, axis=0)\n",
    "            max_ = np.nanmax(temp_data, axis=0)\n",
    "            min_ = np.nanmin(temp_data, axis=0)\n",
    "\n",
    "            # Create Dataset for this day's stats\n",
    "            stats = xr.Dataset({\n",
    "                'Mean': (['latitude', 'longitude'], mean),\n",
    "                'Median': (['latitude', 'longitude'], median),\n",
    "                'Std': (['latitude', 'longitude'], std),\n",
    "                'Max': (['latitude', 'longitude'], max_),\n",
    "                'Min': (['latitude', 'longitude'], min_)\n",
    "            }, coords={'latitude': ds['latitude'], 'longitude': ds['longitude']})\n",
    "\n",
    "            # Convert to DataFrame\n",
    "            stats_df = stats.to_dataframe().reset_index()\n",
    "\n",
    "            # Add time labels\n",
    "            stats_df['Year'] = year_val\n",
    "            stats_df['Month'] = month_val\n",
    "            stats_df['Day'] = int(day_val)\n",
    "\n",
    "            # Set multi-index\n",
    "            stats_df = stats_df.set_index(['Year', 'Month', 'Day', 'latitude', 'longitude'])\n",
    "            df_list.append(stats_df)\n",
    "    \n",
    "    # Save this year's results\n",
    "    if df_list:  # Only save if data exists\n",
    "        df_final = pd.concat(df_list)\n",
    "        df_final_xr = df_final.reset_index().set_index(['Year', 'Month', 'Day', 'latitude', 'longitude'])\n",
    "        df_final_xr = df_final_xr.to_xarray()\n",
    "        \n",
    "        output_file_path = os.path.join(output_folder, f\"daily_temperature_stats_{year_val}.nc\")\n",
    "        df_final_xr.to_netcdf(output_file_path)\n",
    "        print(f\"✅ Saved {output_file_path}\")\n",
    "\n",
    "print(\"\\n🎉 All yearly files saved successfully!\")\n"
   ]
  },
  {
   "cell_type": "markdown",
   "id": "d1a6966e",
   "metadata": {},
   "source": [
    "Convert lat and lon from 0.25 to 0.75"
   ]
  },
  {
   "cell_type": "code",
   "execution_count": 8,
   "id": "9d1e05c0",
   "metadata": {},
   "outputs": [
    {
     "name": "stdout",
     "output_type": "stream",
     "text": [
      "Found 22 yearly files to regrid...\n"
     ]
    },
    {
     "name": "stderr",
     "output_type": "stream",
     "text": [
      "Regridding yearly files:   5%|▍         | 1/22 [00:03<01:23,  3.99s/it]"
     ]
    },
    {
     "name": "stdout",
     "output_type": "stream",
     "text": [
      "✅ Saved D:\\IPMA\\ERA5\\Temperature\\daily_temperature_stats_yearly_regridded\\daily_temperature_stats_2003_regrid.nc\n"
     ]
    },
    {
     "name": "stderr",
     "output_type": "stream",
     "text": [
      "Regridding yearly files:   9%|▉         | 2/22 [00:08<01:21,  4.09s/it]"
     ]
    },
    {
     "name": "stdout",
     "output_type": "stream",
     "text": [
      "✅ Saved D:\\IPMA\\ERA5\\Temperature\\daily_temperature_stats_yearly_regridded\\daily_temperature_stats_2004_regrid.nc\n"
     ]
    },
    {
     "name": "stderr",
     "output_type": "stream",
     "text": [
      "Regridding yearly files:  14%|█▎        | 3/22 [00:12<01:16,  4.01s/it]"
     ]
    },
    {
     "name": "stdout",
     "output_type": "stream",
     "text": [
      "✅ Saved D:\\IPMA\\ERA5\\Temperature\\daily_temperature_stats_yearly_regridded\\daily_temperature_stats_2005_regrid.nc\n"
     ]
    },
    {
     "name": "stderr",
     "output_type": "stream",
     "text": [
      "Regridding yearly files:  18%|█▊        | 4/22 [00:15<01:10,  3.92s/it]"
     ]
    },
    {
     "name": "stdout",
     "output_type": "stream",
     "text": [
      "✅ Saved D:\\IPMA\\ERA5\\Temperature\\daily_temperature_stats_yearly_regridded\\daily_temperature_stats_2006_regrid.nc\n"
     ]
    },
    {
     "name": "stderr",
     "output_type": "stream",
     "text": [
      "Regridding yearly files:  23%|██▎       | 5/22 [00:19<01:07,  3.97s/it]"
     ]
    },
    {
     "name": "stdout",
     "output_type": "stream",
     "text": [
      "✅ Saved D:\\IPMA\\ERA5\\Temperature\\daily_temperature_stats_yearly_regridded\\daily_temperature_stats_2007_regrid.nc\n"
     ]
    },
    {
     "name": "stderr",
     "output_type": "stream",
     "text": [
      "Regridding yearly files:  27%|██▋       | 6/22 [00:24<01:05,  4.11s/it]"
     ]
    },
    {
     "name": "stdout",
     "output_type": "stream",
     "text": [
      "✅ Saved D:\\IPMA\\ERA5\\Temperature\\daily_temperature_stats_yearly_regridded\\daily_temperature_stats_2008_regrid.nc\n"
     ]
    },
    {
     "name": "stderr",
     "output_type": "stream",
     "text": [
      "Regridding yearly files:  32%|███▏      | 7/22 [00:28<01:00,  4.06s/it]"
     ]
    },
    {
     "name": "stdout",
     "output_type": "stream",
     "text": [
      "✅ Saved D:\\IPMA\\ERA5\\Temperature\\daily_temperature_stats_yearly_regridded\\daily_temperature_stats_2009_regrid.nc\n"
     ]
    },
    {
     "name": "stderr",
     "output_type": "stream",
     "text": [
      "Regridding yearly files:  36%|███▋      | 8/22 [00:32<00:58,  4.21s/it]"
     ]
    },
    {
     "name": "stdout",
     "output_type": "stream",
     "text": [
      "✅ Saved D:\\IPMA\\ERA5\\Temperature\\daily_temperature_stats_yearly_regridded\\daily_temperature_stats_2010_regrid.nc\n"
     ]
    },
    {
     "name": "stderr",
     "output_type": "stream",
     "text": [
      "Regridding yearly files:  41%|████      | 9/22 [00:37<00:56,  4.32s/it]"
     ]
    },
    {
     "name": "stdout",
     "output_type": "stream",
     "text": [
      "✅ Saved D:\\IPMA\\ERA5\\Temperature\\daily_temperature_stats_yearly_regridded\\daily_temperature_stats_2011_regrid.nc\n"
     ]
    },
    {
     "name": "stderr",
     "output_type": "stream",
     "text": [
      "Regridding yearly files:  45%|████▌     | 10/22 [00:41<00:53,  4.42s/it]"
     ]
    },
    {
     "name": "stdout",
     "output_type": "stream",
     "text": [
      "✅ Saved D:\\IPMA\\ERA5\\Temperature\\daily_temperature_stats_yearly_regridded\\daily_temperature_stats_2012_regrid.nc\n"
     ]
    },
    {
     "name": "stderr",
     "output_type": "stream",
     "text": [
      "Regridding yearly files:  50%|█████     | 11/22 [00:46<00:48,  4.42s/it]"
     ]
    },
    {
     "name": "stdout",
     "output_type": "stream",
     "text": [
      "✅ Saved D:\\IPMA\\ERA5\\Temperature\\daily_temperature_stats_yearly_regridded\\daily_temperature_stats_2013_regrid.nc\n"
     ]
    },
    {
     "name": "stderr",
     "output_type": "stream",
     "text": [
      "Regridding yearly files:  55%|█████▍    | 12/22 [00:50<00:42,  4.27s/it]"
     ]
    },
    {
     "name": "stdout",
     "output_type": "stream",
     "text": [
      "✅ Saved D:\\IPMA\\ERA5\\Temperature\\daily_temperature_stats_yearly_regridded\\daily_temperature_stats_2014_regrid.nc\n"
     ]
    },
    {
     "name": "stderr",
     "output_type": "stream",
     "text": [
      "Regridding yearly files:  59%|█████▉    | 13/22 [00:54<00:38,  4.25s/it]"
     ]
    },
    {
     "name": "stdout",
     "output_type": "stream",
     "text": [
      "✅ Saved D:\\IPMA\\ERA5\\Temperature\\daily_temperature_stats_yearly_regridded\\daily_temperature_stats_2015_regrid.nc\n"
     ]
    },
    {
     "name": "stderr",
     "output_type": "stream",
     "text": [
      "Regridding yearly files:  64%|██████▎   | 14/22 [00:58<00:33,  4.16s/it]"
     ]
    },
    {
     "name": "stdout",
     "output_type": "stream",
     "text": [
      "✅ Saved D:\\IPMA\\ERA5\\Temperature\\daily_temperature_stats_yearly_regridded\\daily_temperature_stats_2016_regrid.nc\n"
     ]
    },
    {
     "name": "stderr",
     "output_type": "stream",
     "text": [
      "Regridding yearly files:  68%|██████▊   | 15/22 [01:02<00:28,  4.13s/it]"
     ]
    },
    {
     "name": "stdout",
     "output_type": "stream",
     "text": [
      "✅ Saved D:\\IPMA\\ERA5\\Temperature\\daily_temperature_stats_yearly_regridded\\daily_temperature_stats_2017_regrid.nc\n"
     ]
    },
    {
     "name": "stderr",
     "output_type": "stream",
     "text": [
      "Regridding yearly files:  73%|███████▎  | 16/22 [01:07<00:25,  4.26s/it]"
     ]
    },
    {
     "name": "stdout",
     "output_type": "stream",
     "text": [
      "✅ Saved D:\\IPMA\\ERA5\\Temperature\\daily_temperature_stats_yearly_regridded\\daily_temperature_stats_2018_regrid.nc\n"
     ]
    },
    {
     "name": "stderr",
     "output_type": "stream",
     "text": [
      "Regridding yearly files:  77%|███████▋  | 17/22 [01:11<00:21,  4.21s/it]"
     ]
    },
    {
     "name": "stdout",
     "output_type": "stream",
     "text": [
      "✅ Saved D:\\IPMA\\ERA5\\Temperature\\daily_temperature_stats_yearly_regridded\\daily_temperature_stats_2019_regrid.nc\n"
     ]
    },
    {
     "name": "stderr",
     "output_type": "stream",
     "text": [
      "Regridding yearly files:  82%|████████▏ | 18/22 [01:15<00:17,  4.29s/it]"
     ]
    },
    {
     "name": "stdout",
     "output_type": "stream",
     "text": [
      "✅ Saved D:\\IPMA\\ERA5\\Temperature\\daily_temperature_stats_yearly_regridded\\daily_temperature_stats_2020_regrid.nc\n"
     ]
    },
    {
     "name": "stderr",
     "output_type": "stream",
     "text": [
      "Regridding yearly files:  86%|████████▋ | 19/22 [01:20<00:13,  4.52s/it]"
     ]
    },
    {
     "name": "stdout",
     "output_type": "stream",
     "text": [
      "✅ Saved D:\\IPMA\\ERA5\\Temperature\\daily_temperature_stats_yearly_regridded\\daily_temperature_stats_2021_regrid.nc\n"
     ]
    },
    {
     "name": "stderr",
     "output_type": "stream",
     "text": [
      "Regridding yearly files:  91%|█████████ | 20/22 [01:25<00:09,  4.51s/it]"
     ]
    },
    {
     "name": "stdout",
     "output_type": "stream",
     "text": [
      "✅ Saved D:\\IPMA\\ERA5\\Temperature\\daily_temperature_stats_yearly_regridded\\daily_temperature_stats_2022_regrid.nc\n"
     ]
    },
    {
     "name": "stderr",
     "output_type": "stream",
     "text": [
      "Regridding yearly files:  95%|█████████▌| 21/22 [01:29<00:04,  4.50s/it]"
     ]
    },
    {
     "name": "stdout",
     "output_type": "stream",
     "text": [
      "✅ Saved D:\\IPMA\\ERA5\\Temperature\\daily_temperature_stats_yearly_regridded\\daily_temperature_stats_2023_regrid.nc\n"
     ]
    },
    {
     "name": "stderr",
     "output_type": "stream",
     "text": [
      "Regridding yearly files: 100%|██████████| 22/22 [01:34<00:00,  4.28s/it]"
     ]
    },
    {
     "name": "stdout",
     "output_type": "stream",
     "text": [
      "✅ Saved D:\\IPMA\\ERA5\\Temperature\\daily_temperature_stats_yearly_regridded\\daily_temperature_stats_2024_regrid.nc\n",
      "\n",
      "🎉 All yearly temperature files regridded and saved successfully!\n"
     ]
    },
    {
     "name": "stderr",
     "output_type": "stream",
     "text": [
      "\n"
     ]
    }
   ],
   "source": [
    "import xarray as xr\n",
    "import numpy as np\n",
    "import os\n",
    "from tqdm import tqdm\n",
    "\n",
    "# Input/output folders\n",
    "input_folder = r\"D:\\IPMA\\ERA5\\Temperature\\daily_temperature_stats_yearly\"\n",
    "output_folder = r\"D:\\IPMA\\ERA5\\Temperature\\daily_temperature_stats_yearly_regridded\"\n",
    "os.makedirs(output_folder, exist_ok=True)\n",
    "\n",
    "# Get list of input NetCDF files\n",
    "file_list = sorted([f for f in os.listdir(input_folder) if f.endswith(\".nc\")])\n",
    "print(f\"Found {len(file_list)} yearly files to regrid...\")\n",
    "\n",
    "# Regrid parameters\n",
    "factor_lat = 3\n",
    "factor_lon = 3\n",
    "\n",
    "# Target grid\n",
    "lat_target = np.arange(34.5, 66.0 + 0.001, 0.75)   # 43 lats\n",
    "lon_target = np.arange(-12.0, 36.0 + 0.001, 0.75)  # 65 lons\n",
    "\n",
    "# Loop through files\n",
    "for file in tqdm(file_list, desc=\"Regridding yearly files\"):\n",
    "    file_path = os.path.join(input_folder, file)\n",
    "    year_val = file.split('_')[-1][:4]  # extract year from filename\n",
    "    \n",
    "    # Open dataset\n",
    "    ds = xr.open_dataset(file_path)\n",
    "    \n",
    "    # Step 1: Coarsen (aggregation)\n",
    "    ds_coarse = xr.Dataset()\n",
    "    for var in [\"Mean\", \"Median\", \"Std\", \"Max\", \"Min\"]:\n",
    "        if var in ds:\n",
    "            ds_coarse[var] = ds[var].coarsen(\n",
    "                latitude=factor_lat, longitude=factor_lon, boundary=\"trim\"\n",
    "            ).mean(skipna=True)\n",
    "\n",
    "    # Handle \"number\" only if it's in the dataset AND has lat/lon dims\n",
    "    if \"number\" in ds and {\"latitude\", \"longitude\"}.issubset(ds[\"number\"].dims):\n",
    "        ds_coarse[\"number\"] = ds[\"number\"].coarsen(\n",
    "            latitude=factor_lat, longitude=factor_lon, boundary=\"trim\"\n",
    "        ).sum(skipna=True)\n",
    "\n",
    "    # Copy non-spatial coords (if they align)\n",
    "    for coord in [\"Year\", \"Month\", \"Day\"]:\n",
    "        if coord in ds:\n",
    "            ds_coarse[coord] = ds[coord]\n",
    "    \n",
    "    # Step 2: Interpolate onto target grid\n",
    "    ds_final = ds_coarse.interp(\n",
    "        latitude=lat_target,\n",
    "        longitude=lon_target,\n",
    "        method=\"linear\",\n",
    "        kwargs={\"fill_value\": \"extrapolate\"}\n",
    "    )\n",
    "    \n",
    "    # Save output\n",
    "    out_file = os.path.join(output_folder, f\"daily_temperature_stats_{year_val}_regrid.nc\")\n",
    "    ds_final.to_netcdf(out_file)\n",
    "    print(f\"✅ Saved {out_file}\")\n",
    "\n",
    "print(\"\\n🎉 All yearly temperature files regridded and saved successfully!\")\n"
   ]
  },
  {
   "cell_type": "markdown",
   "id": "563134be",
   "metadata": {},
   "source": [
    "### Wind Speed"
   ]
  },
  {
   "cell_type": "markdown",
   "id": "a893af4a",
   "metadata": {},
   "source": [
    "#### Wind speed and direction "
   ]
  },
  {
   "cell_type": "code",
   "execution_count": 10,
   "id": "498b19fc",
   "metadata": {},
   "outputs": [
    {
     "name": "stdout",
     "output_type": "stream",
     "text": [
      "Processing ERA5_hourly_uv_1979.nc\n",
      "Processing ERA5_hourly_uv_1980.nc\n",
      "Processing ERA5_hourly_uv_1981.nc\n",
      "Processing ERA5_hourly_uv_1982.nc\n",
      "Processing ERA5_hourly_uv_1983.nc\n",
      "Processing ERA5_hourly_uv_1984.nc\n",
      "Processing ERA5_hourly_uv_1985.nc\n",
      "Processing ERA5_hourly_uv_1986.nc\n",
      "Processing ERA5_hourly_uv_1987.nc\n",
      "Processing ERA5_hourly_uv_1988.nc\n",
      "Processing ERA5_hourly_uv_1989.nc\n",
      "Processing ERA5_hourly_uv_1990.nc\n",
      "Processing ERA5_hourly_uv_1991.nc\n",
      "Processing ERA5_hourly_uv_1992.nc\n",
      "Processing ERA5_hourly_uv_1993.nc\n",
      "Processing ERA5_hourly_uv_1994.nc\n",
      "Processing ERA5_hourly_uv_1995.nc\n",
      "Processing ERA5_hourly_uv_1996.nc\n",
      "Processing ERA5_hourly_uv_1997.nc\n",
      "Processing ERA5_hourly_uv_1998.nc\n",
      "Processing ERA5_hourly_uv_1999.nc\n",
      "Processing ERA5_hourly_uv_2000.nc\n",
      "Processing ERA5_hourly_uv_2001.nc\n",
      "Processing ERA5_hourly_uv_2002.nc\n",
      "Processing ERA5_hourly_uv_2003.nc\n",
      "Processing ERA5_hourly_uv_2004.nc\n",
      "Processing ERA5_hourly_uv_2005.nc\n",
      "Processing ERA5_hourly_uv_2006.nc\n",
      "Processing ERA5_hourly_uv_2007.nc\n",
      "Processing ERA5_hourly_uv_2008.nc\n",
      "Processing ERA5_hourly_uv_2009.nc\n",
      "Processing ERA5_hourly_uv_2010.nc\n",
      "Processing ERA5_hourly_uv_2011.nc\n",
      "Processing ERA5_hourly_uv_2012.nc\n",
      "Processing ERA5_hourly_uv_2013.nc\n",
      "Processing ERA5_hourly_uv_2014.nc\n",
      "Processing ERA5_hourly_uv_2015.nc\n",
      "Processing ERA5_hourly_uv_2016.nc\n",
      "Processing ERA5_hourly_uv_2017.nc\n",
      "Processing ERA5_hourly_uv_2018.nc\n",
      "Processing ERA5_hourly_uv_2019.nc\n",
      "Processing ERA5_hourly_uv_2020.nc\n",
      "Processing ERA5_hourly_uv_2021.nc\n",
      "Processing ERA5_hourly_uv_2022.nc\n",
      "Processing ERA5_hourly_uv_2023.nc\n",
      "Processing ERA5_hourly_uv_2024.nc\n",
      "✅ All files processed and saved.\n"
     ]
    }
   ],
   "source": [
    "#Calculate wind speed and direction based on u&v component\n",
    "\n",
    "import xarray as xr\n",
    "import numpy as np\n",
    "import os\n",
    "from glob import glob\n",
    "\n",
    "# Define folders\n",
    "input_folder = r\"D:\\IPMA\\ERA5\\UV_wind\\1raw_year_1979_2024\"\n",
    "output_folder = r\"D:\\IPMA\\ERA5\\UV_wind\\2wind_speed_direction\"\n",
    "os.makedirs(output_folder, exist_ok=True)\n",
    "\n",
    "# Find all relevant NetCDF files\n",
    "nc_files = sorted(glob(os.path.join(input_folder, \"ERA5_hourly_uv_*.nc\")))\n",
    "\n",
    "for file_path in nc_files:\n",
    "    print(f\"Processing {os.path.basename(file_path)}\")\n",
    "\n",
    "    # Open dataset\n",
    "    ds = xr.open_dataset(file_path)\n",
    "\n",
    "    # Calculate wind speed\n",
    "    wind_speed = np.sqrt(ds['u10']**2 + ds['v10']**2)\n",
    "\n",
    "    # Calculate wind direction (degrees, meteorological convention)\n",
    "    wind_dir = (180 + np.degrees(np.arctan2(ds['u10'], ds['v10']))) % 360\n",
    "\n",
    "    # Add to dataset\n",
    "    ds = ds.assign(wind_speed=wind_speed, wind_direction=wind_dir)\n",
    "\n",
    "    # Add metadata\n",
    "    ds['wind_speed'].attrs['units'] = 'm/s'\n",
    "    ds['wind_speed'].attrs['description'] = '10m wind speed calculated from u10 and v10'\n",
    "    ds['wind_direction'].attrs['units'] = 'degrees'\n",
    "    ds['wind_direction'].attrs['description'] = 'Wind direction (from which wind blows, 0°=North, clockwise)'\n",
    "\n",
    "    # Create output filename, e.g., ERA5_hourly_wind_1979.nc\n",
    "    year_str = os.path.basename(file_path).split('_')[-1].split('.')[0]\n",
    "    out_filename = f\"ERA5_hourly_wind_{year_str}.nc\"\n",
    "    out_path = os.path.join(output_folder, out_filename)\n",
    "\n",
    "    # Save only the wind_speed and wind_direction variables (optional)\n",
    "    ds[['wind_speed', 'wind_direction']].to_netcdf(out_path)\n",
    "\n",
    "    ds.close()\n",
    "\n",
    "print(\"✅ All files processed and saved.\")\n"
   ]
  },
  {
   "cell_type": "markdown",
   "id": "5c0c687b",
   "metadata": {},
   "source": [
    "#### Monthly Statistics"
   ]
  },
  {
   "cell_type": "code",
   "execution_count": 11,
   "id": "4d58a1fb",
   "metadata": {},
   "outputs": [
    {
     "name": "stdout",
     "output_type": "stream",
     "text": [
      "Processing 22 files from 2003 to 2024...\n"
     ]
    },
    {
     "name": "stderr",
     "output_type": "stream",
     "text": [
      "Files processed:   0%|          | 0/22 [00:00<?, ?it/s]"
     ]
    },
    {
     "name": "stdout",
     "output_type": "stream",
     "text": [
      "\n",
      "📂 Processing year 2003...\n"
     ]
    },
    {
     "name": "stderr",
     "output_type": "stream",
     "text": [
      "Files processed:   5%|▍         | 1/22 [00:23<08:11, 23.38s/it]"
     ]
    },
    {
     "name": "stdout",
     "output_type": "stream",
     "text": [
      "✅ Saved D:\\IPMA\\ERA5\\UV_wind\\monthly_wind_speed_stats_yearly\\monthly_wind_speed_stats_2003.nc\n",
      "\n",
      "📂 Processing year 2004...\n"
     ]
    },
    {
     "name": "stderr",
     "output_type": "stream",
     "text": [
      "Files processed:   9%|▉         | 2/22 [00:49<08:19, 24.97s/it]"
     ]
    },
    {
     "name": "stdout",
     "output_type": "stream",
     "text": [
      "✅ Saved D:\\IPMA\\ERA5\\UV_wind\\monthly_wind_speed_stats_yearly\\monthly_wind_speed_stats_2004.nc\n",
      "\n",
      "📂 Processing year 2005...\n"
     ]
    },
    {
     "name": "stderr",
     "output_type": "stream",
     "text": [
      "Files processed:  14%|█▎        | 3/22 [01:16<08:13, 25.96s/it]"
     ]
    },
    {
     "name": "stdout",
     "output_type": "stream",
     "text": [
      "✅ Saved D:\\IPMA\\ERA5\\UV_wind\\monthly_wind_speed_stats_yearly\\monthly_wind_speed_stats_2005.nc\n",
      "\n",
      "📂 Processing year 2006...\n"
     ]
    },
    {
     "name": "stderr",
     "output_type": "stream",
     "text": [
      "Files processed:  18%|█▊        | 4/22 [01:41<07:41, 25.62s/it]"
     ]
    },
    {
     "name": "stdout",
     "output_type": "stream",
     "text": [
      "✅ Saved D:\\IPMA\\ERA5\\UV_wind\\monthly_wind_speed_stats_yearly\\monthly_wind_speed_stats_2006.nc\n",
      "\n",
      "📂 Processing year 2007...\n"
     ]
    },
    {
     "name": "stderr",
     "output_type": "stream",
     "text": [
      "Files processed:  23%|██▎       | 5/22 [02:08<07:23, 26.11s/it]"
     ]
    },
    {
     "name": "stdout",
     "output_type": "stream",
     "text": [
      "✅ Saved D:\\IPMA\\ERA5\\UV_wind\\monthly_wind_speed_stats_yearly\\monthly_wind_speed_stats_2007.nc\n",
      "\n",
      "📂 Processing year 2008...\n"
     ]
    },
    {
     "name": "stderr",
     "output_type": "stream",
     "text": [
      "Files processed:  27%|██▋       | 6/22 [02:36<07:09, 26.84s/it]"
     ]
    },
    {
     "name": "stdout",
     "output_type": "stream",
     "text": [
      "✅ Saved D:\\IPMA\\ERA5\\UV_wind\\monthly_wind_speed_stats_yearly\\monthly_wind_speed_stats_2008.nc\n",
      "\n",
      "📂 Processing year 2009...\n"
     ]
    },
    {
     "name": "stderr",
     "output_type": "stream",
     "text": [
      "Files processed:  32%|███▏      | 7/22 [03:09<07:10, 28.69s/it]"
     ]
    },
    {
     "name": "stdout",
     "output_type": "stream",
     "text": [
      "✅ Saved D:\\IPMA\\ERA5\\UV_wind\\monthly_wind_speed_stats_yearly\\monthly_wind_speed_stats_2009.nc\n",
      "\n",
      "📂 Processing year 2010...\n"
     ]
    },
    {
     "name": "stderr",
     "output_type": "stream",
     "text": [
      "Files processed:  36%|███▋      | 8/22 [03:40<06:53, 29.55s/it]"
     ]
    },
    {
     "name": "stdout",
     "output_type": "stream",
     "text": [
      "✅ Saved D:\\IPMA\\ERA5\\UV_wind\\monthly_wind_speed_stats_yearly\\monthly_wind_speed_stats_2010.nc\n",
      "\n",
      "📂 Processing year 2011...\n"
     ]
    },
    {
     "name": "stderr",
     "output_type": "stream",
     "text": [
      "Files processed:  41%|████      | 9/22 [04:09<06:21, 29.37s/it]"
     ]
    },
    {
     "name": "stdout",
     "output_type": "stream",
     "text": [
      "✅ Saved D:\\IPMA\\ERA5\\UV_wind\\monthly_wind_speed_stats_yearly\\monthly_wind_speed_stats_2011.nc\n",
      "\n",
      "📂 Processing year 2012...\n"
     ]
    },
    {
     "name": "stderr",
     "output_type": "stream",
     "text": [
      "Files processed:  45%|████▌     | 10/22 [04:40<05:56, 29.69s/it]"
     ]
    },
    {
     "name": "stdout",
     "output_type": "stream",
     "text": [
      "✅ Saved D:\\IPMA\\ERA5\\UV_wind\\monthly_wind_speed_stats_yearly\\monthly_wind_speed_stats_2012.nc\n",
      "\n",
      "📂 Processing year 2013...\n"
     ]
    },
    {
     "name": "stderr",
     "output_type": "stream",
     "text": [
      "Files processed:  50%|█████     | 11/22 [05:10<05:29, 29.94s/it]"
     ]
    },
    {
     "name": "stdout",
     "output_type": "stream",
     "text": [
      "✅ Saved D:\\IPMA\\ERA5\\UV_wind\\monthly_wind_speed_stats_yearly\\monthly_wind_speed_stats_2013.nc\n",
      "\n",
      "📂 Processing year 2014...\n"
     ]
    },
    {
     "name": "stderr",
     "output_type": "stream",
     "text": [
      "Files processed:  55%|█████▍    | 12/22 [05:39<04:55, 29.51s/it]"
     ]
    },
    {
     "name": "stdout",
     "output_type": "stream",
     "text": [
      "✅ Saved D:\\IPMA\\ERA5\\UV_wind\\monthly_wind_speed_stats_yearly\\monthly_wind_speed_stats_2014.nc\n",
      "\n",
      "📂 Processing year 2015...\n"
     ]
    },
    {
     "name": "stderr",
     "output_type": "stream",
     "text": [
      "Files processed:  59%|█████▉    | 13/22 [06:04<04:13, 28.17s/it]"
     ]
    },
    {
     "name": "stdout",
     "output_type": "stream",
     "text": [
      "✅ Saved D:\\IPMA\\ERA5\\UV_wind\\monthly_wind_speed_stats_yearly\\monthly_wind_speed_stats_2015.nc\n",
      "\n",
      "📂 Processing year 2016...\n"
     ]
    },
    {
     "name": "stderr",
     "output_type": "stream",
     "text": [
      "Files processed:  64%|██████▎   | 14/22 [06:33<03:47, 28.41s/it]"
     ]
    },
    {
     "name": "stdout",
     "output_type": "stream",
     "text": [
      "✅ Saved D:\\IPMA\\ERA5\\UV_wind\\monthly_wind_speed_stats_yearly\\monthly_wind_speed_stats_2016.nc\n",
      "\n",
      "📂 Processing year 2017...\n"
     ]
    },
    {
     "name": "stderr",
     "output_type": "stream",
     "text": [
      "Files processed:  68%|██████▊   | 15/22 [06:55<03:05, 26.47s/it]"
     ]
    },
    {
     "name": "stdout",
     "output_type": "stream",
     "text": [
      "✅ Saved D:\\IPMA\\ERA5\\UV_wind\\monthly_wind_speed_stats_yearly\\monthly_wind_speed_stats_2017.nc\n",
      "\n",
      "📂 Processing year 2018...\n"
     ]
    },
    {
     "name": "stderr",
     "output_type": "stream",
     "text": [
      "Files processed:  73%|███████▎  | 16/22 [07:25<02:45, 27.53s/it]"
     ]
    },
    {
     "name": "stdout",
     "output_type": "stream",
     "text": [
      "✅ Saved D:\\IPMA\\ERA5\\UV_wind\\monthly_wind_speed_stats_yearly\\monthly_wind_speed_stats_2018.nc\n",
      "\n",
      "📂 Processing year 2019...\n"
     ]
    },
    {
     "name": "stderr",
     "output_type": "stream",
     "text": [
      "Files processed:  77%|███████▋  | 17/22 [07:49<02:11, 26.40s/it]"
     ]
    },
    {
     "name": "stdout",
     "output_type": "stream",
     "text": [
      "✅ Saved D:\\IPMA\\ERA5\\UV_wind\\monthly_wind_speed_stats_yearly\\monthly_wind_speed_stats_2019.nc\n",
      "\n",
      "📂 Processing year 2020...\n"
     ]
    },
    {
     "name": "stderr",
     "output_type": "stream",
     "text": [
      "Files processed:  82%|████████▏ | 18/22 [08:15<01:45, 26.40s/it]"
     ]
    },
    {
     "name": "stdout",
     "output_type": "stream",
     "text": [
      "✅ Saved D:\\IPMA\\ERA5\\UV_wind\\monthly_wind_speed_stats_yearly\\monthly_wind_speed_stats_2020.nc\n",
      "\n",
      "📂 Processing year 2021...\n"
     ]
    },
    {
     "name": "stderr",
     "output_type": "stream",
     "text": [
      "Files processed:  86%|████████▋ | 19/22 [08:46<01:23, 27.69s/it]"
     ]
    },
    {
     "name": "stdout",
     "output_type": "stream",
     "text": [
      "✅ Saved D:\\IPMA\\ERA5\\UV_wind\\monthly_wind_speed_stats_yearly\\monthly_wind_speed_stats_2021.nc\n",
      "\n",
      "📂 Processing year 2022...\n"
     ]
    },
    {
     "name": "stderr",
     "output_type": "stream",
     "text": [
      "Files processed:  91%|█████████ | 20/22 [09:17<00:57, 28.89s/it]"
     ]
    },
    {
     "name": "stdout",
     "output_type": "stream",
     "text": [
      "✅ Saved D:\\IPMA\\ERA5\\UV_wind\\monthly_wind_speed_stats_yearly\\monthly_wind_speed_stats_2022.nc\n",
      "\n",
      "📂 Processing year 2023...\n"
     ]
    },
    {
     "name": "stderr",
     "output_type": "stream",
     "text": [
      "Files processed:  95%|█████████▌| 21/22 [09:50<00:30, 30.06s/it]"
     ]
    },
    {
     "name": "stdout",
     "output_type": "stream",
     "text": [
      "✅ Saved D:\\IPMA\\ERA5\\UV_wind\\monthly_wind_speed_stats_yearly\\monthly_wind_speed_stats_2023.nc\n",
      "\n",
      "📂 Processing year 2024...\n"
     ]
    },
    {
     "name": "stderr",
     "output_type": "stream",
     "text": [
      "Files processed: 100%|██████████| 22/22 [10:20<00:00, 28.19s/it]"
     ]
    },
    {
     "name": "stdout",
     "output_type": "stream",
     "text": [
      "✅ Saved D:\\IPMA\\ERA5\\UV_wind\\monthly_wind_speed_stats_yearly\\monthly_wind_speed_stats_2024.nc\n",
      "\n",
      "🎉 All yearly files saved successfully!\n"
     ]
    },
    {
     "name": "stderr",
     "output_type": "stream",
     "text": [
      "\n"
     ]
    }
   ],
   "source": [
    "import xarray as xr\n",
    "import pandas as pd\n",
    "import os\n",
    "import numpy as np\n",
    "from tqdm import tqdm  # For progress bars\n",
    "\n",
    "# Define the folder containing NetCDF files\n",
    "folder_path = r\"D:\\IPMA\\ERA5\\UV_wind\\2wind_speed_direction\"\n",
    "output_folder = r\"D:\\IPMA\\ERA5\\UV_wind\\monthly_wind_speed_stats_yearly\"\n",
    "\n",
    "os.makedirs(output_folder, exist_ok=True)\n",
    "\n",
    "# Get a sorted list of all NetCDF files in the folder\n",
    "file_list = sorted([f for f in os.listdir(folder_path) if f.endswith(\".nc\")])\n",
    "\n",
    "# Filter only years 2003–2024\n",
    "file_list = [f for f in file_list if 2003 <= int(f.split('_')[-1][:4]) <= 2024]\n",
    "\n",
    "print(f\"Processing {len(file_list)} files from 2003 to 2024...\")\n",
    "\n",
    "# Loop over files with a progress bar\n",
    "for file in tqdm(file_list, desc=\"Files processed\"):\n",
    "    file_path = os.path.join(folder_path, file)\n",
    "    \n",
    "    # Extract year from filename\n",
    "    year_val = int(file.split('_')[-1][:4])\n",
    "    print(f\"\\n📂 Processing year {year_val}...\")\n",
    "    \n",
    "    ds = xr.open_dataset(file_path)  \n",
    "    ds = ds.chunk({'valid_time': 500})  \n",
    "    \n",
    "    # Add year and month as coordinates\n",
    "    ds = ds.assign_coords(\n",
    "        year=ds['valid_time'].dt.year,\n",
    "        month=ds['valid_time'].dt.month\n",
    "    )\n",
    "    \n",
    "    # Temporary list for this year\n",
    "    df_list = []\n",
    "    \n",
    "    # Loop over each unique month in this file\n",
    "    for month_val in tqdm(np.unique(ds['month'].values), desc=f\"Year {year_val}\", leave=False):\n",
    "        ds_month = ds.sel(valid_time=(ds['month'] == month_val))\n",
    "        if ds_month['valid_time'].size == 0:\n",
    "            continue\n",
    "\n",
    "        wind_data = ds_month['wind_speed'].values\n",
    "\n",
    "        # Compute daily statistics\n",
    "        mean = np.nanmean(wind_data, axis=0)\n",
    "        median = np.nanmedian(wind_data, axis=0)\n",
    "        std = np.nanstd(wind_data, axis=0)\n",
    "        max_ = np.nanmax(wind_data, axis=0)\n",
    "        min_ = np.nanmin(wind_data, axis=0)\n",
    "\n",
    "        # Create Dataset for this month's stats\n",
    "        stats = xr.Dataset({\n",
    "            'Mean': (['latitude', 'longitude'], mean),\n",
    "            'Median': (['latitude', 'longitude'], median),\n",
    "            'Std': (['latitude', 'longitude'], std),\n",
    "            'Max': (['latitude', 'longitude'], max_),\n",
    "            'Min': (['latitude', 'longitude'], min_)\n",
    "        }, coords={'latitude': ds['latitude'], 'longitude': ds['longitude']})\n",
    "\n",
    "        # Convert to DataFrame\n",
    "        stats_df = stats.to_dataframe().reset_index()\n",
    "\n",
    "        # Add time labels\n",
    "        stats_df['Year'] = year_val\n",
    "        stats_df['Month'] = int(month_val)\n",
    "\n",
    "        # Set multi-index\n",
    "        stats_df = stats_df.set_index(['Year', 'Month', 'latitude', 'longitude'])\n",
    "        df_list.append(stats_df)\n",
    "    \n",
    "    # Save this year's results\n",
    "    if df_list:  # Only save if data exists\n",
    "        df_final = pd.concat(df_list)\n",
    "        df_final_xr = df_final.reset_index().set_index(['Year', 'Month', 'latitude', 'longitude'])\n",
    "        df_final_xr = df_final_xr.to_xarray()\n",
    "        \n",
    "        output_file_path = os.path.join(output_folder, f\"monthly_wind_speed_stats_{year_val}.nc\")\n",
    "        df_final_xr.to_netcdf(output_file_path)\n",
    "        print(f\"✅ Saved {output_file_path}\")\n",
    "\n",
    "print(\"\\n🎉 All yearly files saved successfully!\")\n"
   ]
  },
  {
   "cell_type": "markdown",
   "id": "f1c82d26",
   "metadata": {},
   "source": [
    "Convert lat and lon from 0.25 to 0.75"
   ]
  },
  {
   "cell_type": "code",
   "execution_count": 12,
   "id": "56010989",
   "metadata": {},
   "outputs": [
    {
     "name": "stdout",
     "output_type": "stream",
     "text": [
      "Found 22 yearly files to regrid...\n"
     ]
    },
    {
     "name": "stderr",
     "output_type": "stream",
     "text": [
      "Regridding yearly files:   5%|▍         | 1/22 [00:00<00:08,  2.62it/s]"
     ]
    },
    {
     "name": "stdout",
     "output_type": "stream",
     "text": [
      "✅ Saved D:\\IPMA\\ERA5\\UV_wind\\monthly_wind_speed_stats_yearly_regridded\\monthly_wind_speed_stats_2003_regrid.nc\n"
     ]
    },
    {
     "name": "stderr",
     "output_type": "stream",
     "text": [
      "Regridding yearly files:   9%|▉         | 2/22 [00:00<00:06,  3.28it/s]"
     ]
    },
    {
     "name": "stdout",
     "output_type": "stream",
     "text": [
      "✅ Saved D:\\IPMA\\ERA5\\UV_wind\\monthly_wind_speed_stats_yearly_regridded\\monthly_wind_speed_stats_2004_regrid.nc\n"
     ]
    },
    {
     "name": "stderr",
     "output_type": "stream",
     "text": [
      "Regridding yearly files:  14%|█▎        | 3/22 [00:01<00:07,  2.52it/s]"
     ]
    },
    {
     "name": "stdout",
     "output_type": "stream",
     "text": [
      "✅ Saved D:\\IPMA\\ERA5\\UV_wind\\monthly_wind_speed_stats_yearly_regridded\\monthly_wind_speed_stats_2005_regrid.nc\n"
     ]
    },
    {
     "name": "stderr",
     "output_type": "stream",
     "text": [
      "Regridding yearly files:  18%|█▊        | 4/22 [00:01<00:07,  2.44it/s]"
     ]
    },
    {
     "name": "stdout",
     "output_type": "stream",
     "text": [
      "✅ Saved D:\\IPMA\\ERA5\\UV_wind\\monthly_wind_speed_stats_yearly_regridded\\monthly_wind_speed_stats_2006_regrid.nc\n"
     ]
    },
    {
     "name": "stderr",
     "output_type": "stream",
     "text": [
      "Regridding yearly files:  23%|██▎       | 5/22 [00:01<00:06,  2.64it/s]"
     ]
    },
    {
     "name": "stdout",
     "output_type": "stream",
     "text": [
      "✅ Saved D:\\IPMA\\ERA5\\UV_wind\\monthly_wind_speed_stats_yearly_regridded\\monthly_wind_speed_stats_2007_regrid.nc\n"
     ]
    },
    {
     "name": "stderr",
     "output_type": "stream",
     "text": [
      "Regridding yearly files:  27%|██▋       | 6/22 [00:02<00:06,  2.65it/s]"
     ]
    },
    {
     "name": "stdout",
     "output_type": "stream",
     "text": [
      "✅ Saved D:\\IPMA\\ERA5\\UV_wind\\monthly_wind_speed_stats_yearly_regridded\\monthly_wind_speed_stats_2008_regrid.nc\n"
     ]
    },
    {
     "name": "stderr",
     "output_type": "stream",
     "text": [
      "Regridding yearly files:  32%|███▏      | 7/22 [00:02<00:05,  2.80it/s]"
     ]
    },
    {
     "name": "stdout",
     "output_type": "stream",
     "text": [
      "✅ Saved D:\\IPMA\\ERA5\\UV_wind\\monthly_wind_speed_stats_yearly_regridded\\monthly_wind_speed_stats_2009_regrid.nc\n"
     ]
    },
    {
     "name": "stderr",
     "output_type": "stream",
     "text": [
      "Regridding yearly files:  36%|███▋      | 8/22 [00:02<00:04,  2.83it/s]"
     ]
    },
    {
     "name": "stdout",
     "output_type": "stream",
     "text": [
      "✅ Saved D:\\IPMA\\ERA5\\UV_wind\\monthly_wind_speed_stats_yearly_regridded\\monthly_wind_speed_stats_2010_regrid.nc\n"
     ]
    },
    {
     "name": "stderr",
     "output_type": "stream",
     "text": [
      "Regridding yearly files:  41%|████      | 9/22 [00:03<00:04,  2.74it/s]"
     ]
    },
    {
     "name": "stdout",
     "output_type": "stream",
     "text": [
      "✅ Saved D:\\IPMA\\ERA5\\UV_wind\\monthly_wind_speed_stats_yearly_regridded\\monthly_wind_speed_stats_2011_regrid.nc\n"
     ]
    },
    {
     "name": "stderr",
     "output_type": "stream",
     "text": [
      "Regridding yearly files:  45%|████▌     | 10/22 [00:03<00:04,  2.44it/s]"
     ]
    },
    {
     "name": "stdout",
     "output_type": "stream",
     "text": [
      "✅ Saved D:\\IPMA\\ERA5\\UV_wind\\monthly_wind_speed_stats_yearly_regridded\\monthly_wind_speed_stats_2012_regrid.nc\n"
     ]
    },
    {
     "name": "stderr",
     "output_type": "stream",
     "text": [
      "Regridding yearly files:  50%|█████     | 11/22 [00:04<00:04,  2.58it/s]"
     ]
    },
    {
     "name": "stdout",
     "output_type": "stream",
     "text": [
      "✅ Saved D:\\IPMA\\ERA5\\UV_wind\\monthly_wind_speed_stats_yearly_regridded\\monthly_wind_speed_stats_2013_regrid.nc\n"
     ]
    },
    {
     "name": "stderr",
     "output_type": "stream",
     "text": [
      "Regridding yearly files:  55%|█████▍    | 12/22 [00:04<00:03,  2.81it/s]"
     ]
    },
    {
     "name": "stdout",
     "output_type": "stream",
     "text": [
      "✅ Saved D:\\IPMA\\ERA5\\UV_wind\\monthly_wind_speed_stats_yearly_regridded\\monthly_wind_speed_stats_2014_regrid.nc\n"
     ]
    },
    {
     "name": "stderr",
     "output_type": "stream",
     "text": [
      "Regridding yearly files:  59%|█████▉    | 13/22 [00:04<00:03,  2.72it/s]"
     ]
    },
    {
     "name": "stdout",
     "output_type": "stream",
     "text": [
      "✅ Saved D:\\IPMA\\ERA5\\UV_wind\\monthly_wind_speed_stats_yearly_regridded\\monthly_wind_speed_stats_2015_regrid.nc\n"
     ]
    },
    {
     "name": "stderr",
     "output_type": "stream",
     "text": [
      "Regridding yearly files:  64%|██████▎   | 14/22 [00:05<00:03,  2.41it/s]"
     ]
    },
    {
     "name": "stdout",
     "output_type": "stream",
     "text": [
      "✅ Saved D:\\IPMA\\ERA5\\UV_wind\\monthly_wind_speed_stats_yearly_regridded\\monthly_wind_speed_stats_2016_regrid.nc\n"
     ]
    },
    {
     "name": "stderr",
     "output_type": "stream",
     "text": [
      "Regridding yearly files:  73%|███████▎  | 16/22 [00:05<00:01,  3.12it/s]"
     ]
    },
    {
     "name": "stdout",
     "output_type": "stream",
     "text": [
      "✅ Saved D:\\IPMA\\ERA5\\UV_wind\\monthly_wind_speed_stats_yearly_regridded\\monthly_wind_speed_stats_2017_regrid.nc\n",
      "✅ Saved D:\\IPMA\\ERA5\\UV_wind\\monthly_wind_speed_stats_yearly_regridded\\monthly_wind_speed_stats_2018_regrid.nc\n"
     ]
    },
    {
     "name": "stderr",
     "output_type": "stream",
     "text": [
      "Regridding yearly files:  82%|████████▏ | 18/22 [00:06<00:00,  4.29it/s]"
     ]
    },
    {
     "name": "stdout",
     "output_type": "stream",
     "text": [
      "✅ Saved D:\\IPMA\\ERA5\\UV_wind\\monthly_wind_speed_stats_yearly_regridded\\monthly_wind_speed_stats_2019_regrid.nc\n",
      "✅ Saved D:\\IPMA\\ERA5\\UV_wind\\monthly_wind_speed_stats_yearly_regridded\\monthly_wind_speed_stats_2020_regrid.nc\n"
     ]
    },
    {
     "name": "stderr",
     "output_type": "stream",
     "text": [
      "Regridding yearly files:  91%|█████████ | 20/22 [00:06<00:00,  5.16it/s]"
     ]
    },
    {
     "name": "stdout",
     "output_type": "stream",
     "text": [
      "✅ Saved D:\\IPMA\\ERA5\\UV_wind\\monthly_wind_speed_stats_yearly_regridded\\monthly_wind_speed_stats_2021_regrid.nc\n",
      "✅ Saved D:\\IPMA\\ERA5\\UV_wind\\monthly_wind_speed_stats_yearly_regridded\\monthly_wind_speed_stats_2022_regrid.nc\n"
     ]
    },
    {
     "name": "stderr",
     "output_type": "stream",
     "text": [
      "Regridding yearly files: 100%|██████████| 22/22 [00:06<00:00,  3.24it/s]"
     ]
    },
    {
     "name": "stdout",
     "output_type": "stream",
     "text": [
      "✅ Saved D:\\IPMA\\ERA5\\UV_wind\\monthly_wind_speed_stats_yearly_regridded\\monthly_wind_speed_stats_2023_regrid.nc\n",
      "✅ Saved D:\\IPMA\\ERA5\\UV_wind\\monthly_wind_speed_stats_yearly_regridded\\monthly_wind_speed_stats_2024_regrid.nc\n",
      "\n",
      "🎉 All yearly monthly-stat files regridded and saved successfully!\n"
     ]
    },
    {
     "name": "stderr",
     "output_type": "stream",
     "text": [
      "\n"
     ]
    }
   ],
   "source": [
    "import xarray as xr\n",
    "import numpy as np\n",
    "import os\n",
    "from tqdm import tqdm\n",
    "\n",
    "# Input/output folders\n",
    "input_folder = r\"D:\\IPMA\\ERA5\\UV_wind\\monthly_wind_speed_stats_yearly\"\n",
    "output_folder = r\"D:\\IPMA\\ERA5\\UV_wind\\monthly_wind_speed_stats_yearly_regridded\"\n",
    "os.makedirs(output_folder, exist_ok=True)\n",
    "\n",
    "# Get list of input NetCDF files\n",
    "file_list = sorted([f for f in os.listdir(input_folder) if f.endswith(\".nc\")])\n",
    "print(f\"Found {len(file_list)} yearly files to regrid...\")\n",
    "\n",
    "# Regrid parameters\n",
    "factor_lat = 3\n",
    "factor_lon = 3\n",
    "\n",
    "# Target grid\n",
    "lat_target = np.arange(34.5, 66.0 + 0.001, 0.75)   # 43 lats\n",
    "lon_target = np.arange(-12.0, 36.0 + 0.001, 0.75)  # 65 lons\n",
    "\n",
    "# Loop through files\n",
    "for file in tqdm(file_list, desc=\"Regridding yearly files\"):\n",
    "    file_path = os.path.join(input_folder, file)\n",
    "    year_val = file.split('_')[-1][:4]  # extract year from filename\n",
    "    \n",
    "    # Open dataset\n",
    "    ds = xr.open_dataset(file_path)\n",
    "    \n",
    "    # Step 1: Coarsen (aggregation)\n",
    "    ds_coarse = xr.Dataset()\n",
    "    for var in [\"Mean\", \"Median\", \"Std\", \"Max\", \"Min\"]:\n",
    "        if var in ds:\n",
    "            ds_coarse[var] = ds[var].coarsen(\n",
    "                latitude=factor_lat, longitude=factor_lon, boundary=\"trim\"\n",
    "            ).mean(skipna=True)\n",
    "\n",
    "    # Handle \"number\" only if it's in the dataset AND has lat/lon dims\n",
    "    if \"number\" in ds and {\"latitude\", \"longitude\"}.issubset(ds[\"number\"].dims):\n",
    "        ds_coarse[\"number\"] = ds[\"number\"].coarsen(\n",
    "            latitude=factor_lat, longitude=factor_lon, boundary=\"trim\"\n",
    "        ).sum(skipna=True)\n",
    "\n",
    "    # Copy non-spatial coords (if they exist)\n",
    "    for coord in [\"Year\", \"Month\"]:\n",
    "        if coord in ds:\n",
    "            ds_coarse[coord] = ds[coord]\n",
    "\n",
    "    # Step 2: Interpolate onto target grid\n",
    "    ds_final = ds_coarse.interp(\n",
    "        latitude=lat_target,\n",
    "        longitude=lon_target,\n",
    "        method=\"linear\",\n",
    "        kwargs={\"fill_value\": \"extrapolate\"}\n",
    "    )\n",
    "    \n",
    "    # Save output\n",
    "    out_file = os.path.join(output_folder, f\"monthly_wind_speed_stats_{year_val}_regrid.nc\")\n",
    "    ds_final.to_netcdf(out_file)\n",
    "    print(f\"✅ Saved {out_file}\")\n",
    "\n",
    "print(\"\\n🎉 All yearly monthly-stat files regridded and saved successfully!\")\n"
   ]
  },
  {
   "cell_type": "markdown",
   "id": "120f116e",
   "metadata": {},
   "source": [
    "#### Daily statistics"
   ]
  },
  {
   "cell_type": "code",
   "execution_count": 13,
   "id": "0e12b6d4",
   "metadata": {},
   "outputs": [
    {
     "name": "stdout",
     "output_type": "stream",
     "text": [
      "Processing 22 files from 2003 to 2024...\n"
     ]
    },
    {
     "name": "stderr",
     "output_type": "stream",
     "text": [
      "Files processed:   0%|          | 0/22 [00:00<?, ?it/s]"
     ]
    },
    {
     "name": "stdout",
     "output_type": "stream",
     "text": [
      "\n",
      "📂 Processing year 2003...\n"
     ]
    },
    {
     "name": "stderr",
     "output_type": "stream",
     "text": [
      "Files processed:   5%|▍         | 1/22 [00:53<18:47, 53.69s/it]"
     ]
    },
    {
     "name": "stdout",
     "output_type": "stream",
     "text": [
      "✅ Saved D:\\IPMA\\ERA5\\UV_wind\\daily_wind_speed_stats_yearly\\daily_wind_speed_stats_2003.nc\n",
      "\n",
      "📂 Processing year 2004...\n"
     ]
    },
    {
     "name": "stderr",
     "output_type": "stream",
     "text": [
      "Files processed:   9%|▉         | 2/22 [01:35<15:34, 46.73s/it]"
     ]
    },
    {
     "name": "stdout",
     "output_type": "stream",
     "text": [
      "✅ Saved D:\\IPMA\\ERA5\\UV_wind\\daily_wind_speed_stats_yearly\\daily_wind_speed_stats_2004.nc\n",
      "\n",
      "📂 Processing year 2005...\n"
     ]
    },
    {
     "name": "stderr",
     "output_type": "stream",
     "text": [
      "Files processed:  14%|█▎        | 3/22 [02:20<14:28, 45.72s/it]"
     ]
    },
    {
     "name": "stdout",
     "output_type": "stream",
     "text": [
      "✅ Saved D:\\IPMA\\ERA5\\UV_wind\\daily_wind_speed_stats_yearly\\daily_wind_speed_stats_2005.nc\n",
      "\n",
      "📂 Processing year 2006...\n"
     ]
    },
    {
     "name": "stderr",
     "output_type": "stream",
     "text": [
      "Files processed:  18%|█▊        | 4/22 [03:02<13:16, 44.23s/it]"
     ]
    },
    {
     "name": "stdout",
     "output_type": "stream",
     "text": [
      "✅ Saved D:\\IPMA\\ERA5\\UV_wind\\daily_wind_speed_stats_yearly\\daily_wind_speed_stats_2006.nc\n",
      "\n",
      "📂 Processing year 2007...\n"
     ]
    },
    {
     "name": "stderr",
     "output_type": "stream",
     "text": [
      "Files processed:  23%|██▎       | 5/22 [03:45<12:25, 43.85s/it]"
     ]
    },
    {
     "name": "stdout",
     "output_type": "stream",
     "text": [
      "✅ Saved D:\\IPMA\\ERA5\\UV_wind\\daily_wind_speed_stats_yearly\\daily_wind_speed_stats_2007.nc\n",
      "\n",
      "📂 Processing year 2008...\n"
     ]
    },
    {
     "name": "stderr",
     "output_type": "stream",
     "text": [
      "Files processed:  27%|██▋       | 6/22 [04:29<11:46, 44.14s/it]"
     ]
    },
    {
     "name": "stdout",
     "output_type": "stream",
     "text": [
      "✅ Saved D:\\IPMA\\ERA5\\UV_wind\\daily_wind_speed_stats_yearly\\daily_wind_speed_stats_2008.nc\n",
      "\n",
      "📂 Processing year 2009...\n"
     ]
    },
    {
     "name": "stderr",
     "output_type": "stream",
     "text": [
      "Files processed:  32%|███▏      | 7/22 [05:18<11:24, 45.64s/it]"
     ]
    },
    {
     "name": "stdout",
     "output_type": "stream",
     "text": [
      "✅ Saved D:\\IPMA\\ERA5\\UV_wind\\daily_wind_speed_stats_yearly\\daily_wind_speed_stats_2009.nc\n",
      "\n",
      "📂 Processing year 2010...\n"
     ]
    },
    {
     "name": "stderr",
     "output_type": "stream",
     "text": [
      "Files processed:  36%|███▋      | 8/22 [06:00<10:23, 44.52s/it]"
     ]
    },
    {
     "name": "stdout",
     "output_type": "stream",
     "text": [
      "✅ Saved D:\\IPMA\\ERA5\\UV_wind\\daily_wind_speed_stats_yearly\\daily_wind_speed_stats_2010.nc\n",
      "\n",
      "📂 Processing year 2011...\n"
     ]
    },
    {
     "name": "stderr",
     "output_type": "stream",
     "text": [
      "Files processed:  41%|████      | 9/22 [06:46<09:42, 44.78s/it]"
     ]
    },
    {
     "name": "stdout",
     "output_type": "stream",
     "text": [
      "✅ Saved D:\\IPMA\\ERA5\\UV_wind\\daily_wind_speed_stats_yearly\\daily_wind_speed_stats_2011.nc\n",
      "\n",
      "📂 Processing year 2012...\n"
     ]
    },
    {
     "name": "stderr",
     "output_type": "stream",
     "text": [
      "Files processed:  45%|████▌     | 10/22 [07:35<09:14, 46.24s/it]"
     ]
    },
    {
     "name": "stdout",
     "output_type": "stream",
     "text": [
      "✅ Saved D:\\IPMA\\ERA5\\UV_wind\\daily_wind_speed_stats_yearly\\daily_wind_speed_stats_2012.nc\n",
      "\n",
      "📂 Processing year 2013...\n"
     ]
    },
    {
     "name": "stderr",
     "output_type": "stream",
     "text": [
      "Files processed:  50%|█████     | 11/22 [08:23<08:33, 46.67s/it]"
     ]
    },
    {
     "name": "stdout",
     "output_type": "stream",
     "text": [
      "✅ Saved D:\\IPMA\\ERA5\\UV_wind\\daily_wind_speed_stats_yearly\\daily_wind_speed_stats_2013.nc\n",
      "\n",
      "📂 Processing year 2014...\n"
     ]
    },
    {
     "name": "stderr",
     "output_type": "stream",
     "text": [
      "Files processed:  55%|█████▍    | 12/22 [09:12<07:55, 47.52s/it]"
     ]
    },
    {
     "name": "stdout",
     "output_type": "stream",
     "text": [
      "✅ Saved D:\\IPMA\\ERA5\\UV_wind\\daily_wind_speed_stats_yearly\\daily_wind_speed_stats_2014.nc\n",
      "\n",
      "📂 Processing year 2015...\n"
     ]
    },
    {
     "name": "stderr",
     "output_type": "stream",
     "text": [
      "Files processed:  59%|█████▉    | 13/22 [09:58<07:03, 47.11s/it]"
     ]
    },
    {
     "name": "stdout",
     "output_type": "stream",
     "text": [
      "✅ Saved D:\\IPMA\\ERA5\\UV_wind\\daily_wind_speed_stats_yearly\\daily_wind_speed_stats_2015.nc\n",
      "\n",
      "📂 Processing year 2016...\n"
     ]
    },
    {
     "name": "stderr",
     "output_type": "stream",
     "text": [
      "Files processed:  64%|██████▎   | 14/22 [10:39<06:01, 45.19s/it]"
     ]
    },
    {
     "name": "stdout",
     "output_type": "stream",
     "text": [
      "✅ Saved D:\\IPMA\\ERA5\\UV_wind\\daily_wind_speed_stats_yearly\\daily_wind_speed_stats_2016.nc\n",
      "\n",
      "📂 Processing year 2017...\n"
     ]
    },
    {
     "name": "stderr",
     "output_type": "stream",
     "text": [
      "Files processed:  68%|██████▊   | 15/22 [11:21<05:10, 44.33s/it]"
     ]
    },
    {
     "name": "stdout",
     "output_type": "stream",
     "text": [
      "✅ Saved D:\\IPMA\\ERA5\\UV_wind\\daily_wind_speed_stats_yearly\\daily_wind_speed_stats_2017.nc\n",
      "\n",
      "📂 Processing year 2018...\n"
     ]
    },
    {
     "name": "stderr",
     "output_type": "stream",
     "text": [
      "Files processed:  73%|███████▎  | 16/22 [12:06<04:26, 44.40s/it]"
     ]
    },
    {
     "name": "stdout",
     "output_type": "stream",
     "text": [
      "✅ Saved D:\\IPMA\\ERA5\\UV_wind\\daily_wind_speed_stats_yearly\\daily_wind_speed_stats_2018.nc\n",
      "\n",
      "📂 Processing year 2019...\n"
     ]
    },
    {
     "name": "stderr",
     "output_type": "stream",
     "text": [
      "Files processed:  77%|███████▋  | 17/22 [12:51<03:42, 44.49s/it]"
     ]
    },
    {
     "name": "stdout",
     "output_type": "stream",
     "text": [
      "✅ Saved D:\\IPMA\\ERA5\\UV_wind\\daily_wind_speed_stats_yearly\\daily_wind_speed_stats_2019.nc\n",
      "\n",
      "📂 Processing year 2020...\n"
     ]
    },
    {
     "name": "stderr",
     "output_type": "stream",
     "text": [
      "Files processed:  82%|████████▏ | 18/22 [13:38<03:01, 45.36s/it]"
     ]
    },
    {
     "name": "stdout",
     "output_type": "stream",
     "text": [
      "✅ Saved D:\\IPMA\\ERA5\\UV_wind\\daily_wind_speed_stats_yearly\\daily_wind_speed_stats_2020.nc\n",
      "\n",
      "📂 Processing year 2021...\n"
     ]
    },
    {
     "name": "stderr",
     "output_type": "stream",
     "text": [
      "Files processed:  86%|████████▋ | 19/22 [14:27<02:18, 46.32s/it]"
     ]
    },
    {
     "name": "stdout",
     "output_type": "stream",
     "text": [
      "✅ Saved D:\\IPMA\\ERA5\\UV_wind\\daily_wind_speed_stats_yearly\\daily_wind_speed_stats_2021.nc\n",
      "\n",
      "📂 Processing year 2022...\n"
     ]
    },
    {
     "name": "stderr",
     "output_type": "stream",
     "text": [
      "Files processed:  91%|█████████ | 20/22 [15:08<01:29, 44.86s/it]"
     ]
    },
    {
     "name": "stdout",
     "output_type": "stream",
     "text": [
      "✅ Saved D:\\IPMA\\ERA5\\UV_wind\\daily_wind_speed_stats_yearly\\daily_wind_speed_stats_2022.nc\n",
      "\n",
      "📂 Processing year 2023...\n"
     ]
    },
    {
     "name": "stderr",
     "output_type": "stream",
     "text": [
      "Files processed:  95%|█████████▌| 21/22 [15:55<00:45, 45.52s/it]"
     ]
    },
    {
     "name": "stdout",
     "output_type": "stream",
     "text": [
      "✅ Saved D:\\IPMA\\ERA5\\UV_wind\\daily_wind_speed_stats_yearly\\daily_wind_speed_stats_2023.nc\n",
      "\n",
      "📂 Processing year 2024...\n"
     ]
    },
    {
     "name": "stderr",
     "output_type": "stream",
     "text": [
      "Files processed: 100%|██████████| 22/22 [16:34<00:00, 45.22s/it]"
     ]
    },
    {
     "name": "stdout",
     "output_type": "stream",
     "text": [
      "✅ Saved D:\\IPMA\\ERA5\\UV_wind\\daily_wind_speed_stats_yearly\\daily_wind_speed_stats_2024.nc\n",
      "\n",
      "🎉 All yearly files saved successfully!\n"
     ]
    },
    {
     "name": "stderr",
     "output_type": "stream",
     "text": [
      "\n"
     ]
    }
   ],
   "source": [
    "import xarray as xr\n",
    "import pandas as pd\n",
    "import os\n",
    "import numpy as np\n",
    "from tqdm import tqdm  # For progress bars\n",
    "\n",
    "# Define the folder containing NetCDF files\n",
    "folder_path = r\"D:\\IPMA\\ERA5\\UV_wind\\2wind_speed_direction\"\n",
    "output_folder = r\"D:\\IPMA\\ERA5\\UV_wind\\daily_wind_speed_stats_yearly\"\n",
    "\n",
    "os.makedirs(output_folder, exist_ok=True)\n",
    "\n",
    "# Get a sorted list of all NetCDF files in the folder\n",
    "file_list = sorted([f for f in os.listdir(folder_path) if f.endswith(\".nc\")])\n",
    "\n",
    "# Filter only years 2003–2024\n",
    "file_list = [f for f in file_list if 2003 <= int(f.split('_')[-1][:4]) <= 2024]\n",
    "\n",
    "print(f\"Processing {len(file_list)} files from 2003 to 2024...\")\n",
    "\n",
    "# Loop over files with a progress bar\n",
    "for file in tqdm(file_list, desc=\"Files processed\"):\n",
    "    file_path = os.path.join(folder_path, file)\n",
    "    \n",
    "    # Extract year from filename\n",
    "    year_val = int(file.split('_')[-1][:4])\n",
    "    print(f\"\\n📂 Processing year {year_val}...\")\n",
    "    \n",
    "    ds = xr.open_dataset(file_path)  \n",
    "    ds = ds.chunk({'valid_time': 500})  \n",
    "    \n",
    "    # Add year, month, day as coordinates\n",
    "    ds = ds.assign_coords(\n",
    "        year=ds['valid_time'].dt.year,\n",
    "        month=ds['valid_time'].dt.month,\n",
    "        day=ds['valid_time'].dt.day\n",
    "    )\n",
    "    \n",
    "    # Temporary list for this year\n",
    "    df_list = []\n",
    "    \n",
    "    # Loop over each unique month in this file\n",
    "    for month_val in np.unique(ds['month'].values):\n",
    "        days_in_month = np.unique(ds['day'].values[ds['month'].values == month_val])\n",
    "        \n",
    "        # Loop over each day in the month with a progress bar\n",
    "        for day_val in tqdm(days_in_month, desc=f\"Month {month_val}\", leave=False):\n",
    "            ds_day = ds.sel(\n",
    "                valid_time=(ds['month'] == month_val) & (ds['day'] == day_val)\n",
    "            )\n",
    "            if ds_day['valid_time'].size == 0:\n",
    "                continue\n",
    "            \n",
    "            wind_data = ds_day['wind_speed'].values\n",
    "\n",
    "            # Compute daily statistics\n",
    "            mean = np.nanmean(wind_data, axis=0)\n",
    "            median = np.nanmedian(wind_data, axis=0)\n",
    "            std = np.nanstd(wind_data, axis=0)\n",
    "            max_ = np.nanmax(wind_data, axis=0)\n",
    "            min_ = np.nanmin(wind_data, axis=0)\n",
    "\n",
    "            # Create Dataset for this day's stats\n",
    "            stats = xr.Dataset({\n",
    "                'Mean': (['latitude', 'longitude'], mean),\n",
    "                'Median': (['latitude', 'longitude'], median),\n",
    "                'Std': (['latitude', 'longitude'], std),\n",
    "                'Max': (['latitude', 'longitude'], max_),\n",
    "                'Min': (['latitude', 'longitude'], min_)\n",
    "            }, coords={'latitude': ds['latitude'], 'longitude': ds['longitude']})\n",
    "\n",
    "            # Convert to DataFrame\n",
    "            stats_df = stats.to_dataframe().reset_index()\n",
    "\n",
    "            # Add time labels\n",
    "            stats_df['Year'] = year_val\n",
    "            stats_df['Month'] = month_val\n",
    "            stats_df['Day'] = int(day_val)\n",
    "\n",
    "            # Set multi-index\n",
    "            stats_df = stats_df.set_index(['Year', 'Month', 'Day', 'latitude', 'longitude'])\n",
    "            df_list.append(stats_df)\n",
    "    \n",
    "    # Save this year's results\n",
    "    if df_list:  # Only save if data exists\n",
    "        df_final = pd.concat(df_list)\n",
    "        df_final_xr = df_final.reset_index().set_index(['Year', 'Month', 'Day', 'latitude', 'longitude'])\n",
    "        df_final_xr = df_final_xr.to_xarray()\n",
    "        \n",
    "        output_file_path = os.path.join(output_folder, f\"daily_wind_speed_stats_{year_val}.nc\")\n",
    "        df_final_xr.to_netcdf(output_file_path)\n",
    "        print(f\"✅ Saved {output_file_path}\")\n",
    "\n",
    "print(\"\\n🎉 All yearly files saved successfully!\")\n"
   ]
  },
  {
   "cell_type": "markdown",
   "id": "0c693b14",
   "metadata": {},
   "source": [
    "Convert lat and lon from 0.25 to 0.75"
   ]
  },
  {
   "cell_type": "code",
   "execution_count": 14,
   "id": "43ce9520",
   "metadata": {},
   "outputs": [
    {
     "name": "stdout",
     "output_type": "stream",
     "text": [
      "Found 22 yearly files to regrid...\n"
     ]
    },
    {
     "name": "stderr",
     "output_type": "stream",
     "text": [
      "Regridding yearly files:   5%|▍         | 1/22 [00:04<01:43,  4.91s/it]"
     ]
    },
    {
     "name": "stdout",
     "output_type": "stream",
     "text": [
      "✅ Saved D:\\IPMA\\ERA5\\UV_wind\\daily_wind_speed_stats_yearly_regridded\\daily_wind_speed_stats_2003_regrid.nc\n"
     ]
    },
    {
     "name": "stderr",
     "output_type": "stream",
     "text": [
      "Regridding yearly files:   9%|▉         | 2/22 [00:09<01:36,  4.80s/it]"
     ]
    },
    {
     "name": "stdout",
     "output_type": "stream",
     "text": [
      "✅ Saved D:\\IPMA\\ERA5\\UV_wind\\daily_wind_speed_stats_yearly_regridded\\daily_wind_speed_stats_2004_regrid.nc\n"
     ]
    },
    {
     "name": "stderr",
     "output_type": "stream",
     "text": [
      "Regridding yearly files:  14%|█▎        | 3/22 [00:14<01:30,  4.79s/it]"
     ]
    },
    {
     "name": "stdout",
     "output_type": "stream",
     "text": [
      "✅ Saved D:\\IPMA\\ERA5\\UV_wind\\daily_wind_speed_stats_yearly_regridded\\daily_wind_speed_stats_2005_regrid.nc\n"
     ]
    },
    {
     "name": "stderr",
     "output_type": "stream",
     "text": [
      "Regridding yearly files:  18%|█▊        | 4/22 [00:19<01:26,  4.81s/it]"
     ]
    },
    {
     "name": "stdout",
     "output_type": "stream",
     "text": [
      "✅ Saved D:\\IPMA\\ERA5\\UV_wind\\daily_wind_speed_stats_yearly_regridded\\daily_wind_speed_stats_2006_regrid.nc\n"
     ]
    },
    {
     "name": "stderr",
     "output_type": "stream",
     "text": [
      "Regridding yearly files:  23%|██▎       | 5/22 [00:24<01:22,  4.84s/it]"
     ]
    },
    {
     "name": "stdout",
     "output_type": "stream",
     "text": [
      "✅ Saved D:\\IPMA\\ERA5\\UV_wind\\daily_wind_speed_stats_yearly_regridded\\daily_wind_speed_stats_2007_regrid.nc\n"
     ]
    },
    {
     "name": "stderr",
     "output_type": "stream",
     "text": [
      "Regridding yearly files:  27%|██▋       | 6/22 [00:28<01:14,  4.63s/it]"
     ]
    },
    {
     "name": "stdout",
     "output_type": "stream",
     "text": [
      "✅ Saved D:\\IPMA\\ERA5\\UV_wind\\daily_wind_speed_stats_yearly_regridded\\daily_wind_speed_stats_2008_regrid.nc\n"
     ]
    },
    {
     "name": "stderr",
     "output_type": "stream",
     "text": [
      "Regridding yearly files:  32%|███▏      | 7/22 [00:32<01:07,  4.50s/it]"
     ]
    },
    {
     "name": "stdout",
     "output_type": "stream",
     "text": [
      "✅ Saved D:\\IPMA\\ERA5\\UV_wind\\daily_wind_speed_stats_yearly_regridded\\daily_wind_speed_stats_2009_regrid.nc\n"
     ]
    },
    {
     "name": "stderr",
     "output_type": "stream",
     "text": [
      "Regridding yearly files:  36%|███▋      | 8/22 [00:36<01:01,  4.39s/it]"
     ]
    },
    {
     "name": "stdout",
     "output_type": "stream",
     "text": [
      "✅ Saved D:\\IPMA\\ERA5\\UV_wind\\daily_wind_speed_stats_yearly_regridded\\daily_wind_speed_stats_2010_regrid.nc\n"
     ]
    },
    {
     "name": "stderr",
     "output_type": "stream",
     "text": [
      "Regridding yearly files:  41%|████      | 9/22 [00:41<00:57,  4.42s/it]"
     ]
    },
    {
     "name": "stdout",
     "output_type": "stream",
     "text": [
      "✅ Saved D:\\IPMA\\ERA5\\UV_wind\\daily_wind_speed_stats_yearly_regridded\\daily_wind_speed_stats_2011_regrid.nc\n"
     ]
    },
    {
     "name": "stderr",
     "output_type": "stream",
     "text": [
      "Regridding yearly files:  45%|████▌     | 10/22 [00:45<00:51,  4.32s/it]"
     ]
    },
    {
     "name": "stdout",
     "output_type": "stream",
     "text": [
      "✅ Saved D:\\IPMA\\ERA5\\UV_wind\\daily_wind_speed_stats_yearly_regridded\\daily_wind_speed_stats_2012_regrid.nc\n"
     ]
    },
    {
     "name": "stderr",
     "output_type": "stream",
     "text": [
      "Regridding yearly files:  50%|█████     | 11/22 [00:51<00:52,  4.80s/it]"
     ]
    },
    {
     "name": "stdout",
     "output_type": "stream",
     "text": [
      "✅ Saved D:\\IPMA\\ERA5\\UV_wind\\daily_wind_speed_stats_yearly_regridded\\daily_wind_speed_stats_2013_regrid.nc\n"
     ]
    },
    {
     "name": "stderr",
     "output_type": "stream",
     "text": [
      "Regridding yearly files:  55%|█████▍    | 12/22 [00:56<00:48,  4.82s/it]"
     ]
    },
    {
     "name": "stdout",
     "output_type": "stream",
     "text": [
      "✅ Saved D:\\IPMA\\ERA5\\UV_wind\\daily_wind_speed_stats_yearly_regridded\\daily_wind_speed_stats_2014_regrid.nc\n"
     ]
    },
    {
     "name": "stderr",
     "output_type": "stream",
     "text": [
      "Regridding yearly files:  59%|█████▉    | 13/22 [01:00<00:41,  4.62s/it]"
     ]
    },
    {
     "name": "stdout",
     "output_type": "stream",
     "text": [
      "✅ Saved D:\\IPMA\\ERA5\\UV_wind\\daily_wind_speed_stats_yearly_regridded\\daily_wind_speed_stats_2015_regrid.nc\n"
     ]
    },
    {
     "name": "stderr",
     "output_type": "stream",
     "text": [
      "Regridding yearly files:  64%|██████▎   | 14/22 [01:04<00:35,  4.41s/it]"
     ]
    },
    {
     "name": "stdout",
     "output_type": "stream",
     "text": [
      "✅ Saved D:\\IPMA\\ERA5\\UV_wind\\daily_wind_speed_stats_yearly_regridded\\daily_wind_speed_stats_2016_regrid.nc\n"
     ]
    },
    {
     "name": "stderr",
     "output_type": "stream",
     "text": [
      "Regridding yearly files:  68%|██████▊   | 15/22 [01:08<00:30,  4.29s/it]"
     ]
    },
    {
     "name": "stdout",
     "output_type": "stream",
     "text": [
      "✅ Saved D:\\IPMA\\ERA5\\UV_wind\\daily_wind_speed_stats_yearly_regridded\\daily_wind_speed_stats_2017_regrid.nc\n"
     ]
    },
    {
     "name": "stderr",
     "output_type": "stream",
     "text": [
      "Regridding yearly files:  73%|███████▎  | 16/22 [01:12<00:25,  4.23s/it]"
     ]
    },
    {
     "name": "stdout",
     "output_type": "stream",
     "text": [
      "✅ Saved D:\\IPMA\\ERA5\\UV_wind\\daily_wind_speed_stats_yearly_regridded\\daily_wind_speed_stats_2018_regrid.nc\n"
     ]
    },
    {
     "name": "stderr",
     "output_type": "stream",
     "text": [
      "Regridding yearly files:  77%|███████▋  | 17/22 [01:16<00:21,  4.27s/it]"
     ]
    },
    {
     "name": "stdout",
     "output_type": "stream",
     "text": [
      "✅ Saved D:\\IPMA\\ERA5\\UV_wind\\daily_wind_speed_stats_yearly_regridded\\daily_wind_speed_stats_2019_regrid.nc\n"
     ]
    },
    {
     "name": "stderr",
     "output_type": "stream",
     "text": [
      "Regridding yearly files:  82%|████████▏ | 18/22 [01:20<00:16,  4.18s/it]"
     ]
    },
    {
     "name": "stdout",
     "output_type": "stream",
     "text": [
      "✅ Saved D:\\IPMA\\ERA5\\UV_wind\\daily_wind_speed_stats_yearly_regridded\\daily_wind_speed_stats_2020_regrid.nc\n"
     ]
    },
    {
     "name": "stderr",
     "output_type": "stream",
     "text": [
      "Regridding yearly files:  86%|████████▋ | 19/22 [01:24<00:12,  4.08s/it]"
     ]
    },
    {
     "name": "stdout",
     "output_type": "stream",
     "text": [
      "✅ Saved D:\\IPMA\\ERA5\\UV_wind\\daily_wind_speed_stats_yearly_regridded\\daily_wind_speed_stats_2021_regrid.nc\n"
     ]
    },
    {
     "name": "stderr",
     "output_type": "stream",
     "text": [
      "Regridding yearly files:  91%|█████████ | 20/22 [01:28<00:08,  4.08s/it]"
     ]
    },
    {
     "name": "stdout",
     "output_type": "stream",
     "text": [
      "✅ Saved D:\\IPMA\\ERA5\\UV_wind\\daily_wind_speed_stats_yearly_regridded\\daily_wind_speed_stats_2022_regrid.nc\n"
     ]
    },
    {
     "name": "stderr",
     "output_type": "stream",
     "text": [
      "Regridding yearly files:  95%|█████████▌| 21/22 [01:32<00:04,  4.03s/it]"
     ]
    },
    {
     "name": "stdout",
     "output_type": "stream",
     "text": [
      "✅ Saved D:\\IPMA\\ERA5\\UV_wind\\daily_wind_speed_stats_yearly_regridded\\daily_wind_speed_stats_2023_regrid.nc\n"
     ]
    },
    {
     "name": "stderr",
     "output_type": "stream",
     "text": [
      "Regridding yearly files: 100%|██████████| 22/22 [01:36<00:00,  4.40s/it]"
     ]
    },
    {
     "name": "stdout",
     "output_type": "stream",
     "text": [
      "✅ Saved D:\\IPMA\\ERA5\\UV_wind\\daily_wind_speed_stats_yearly_regridded\\daily_wind_speed_stats_2024_regrid.nc\n",
      "\n",
      "🎉 All yearly wind speed files regridded and saved successfully!\n"
     ]
    },
    {
     "name": "stderr",
     "output_type": "stream",
     "text": [
      "\n"
     ]
    }
   ],
   "source": [
    "import xarray as xr\n",
    "import numpy as np\n",
    "import os\n",
    "from tqdm import tqdm\n",
    "\n",
    "# Input/output folders\n",
    "input_folder = r\"D:\\IPMA\\ERA5\\UV_wind\\daily_wind_speed_stats_yearly\"\n",
    "output_folder = r\"D:\\IPMA\\ERA5\\UV_wind\\daily_wind_speed_stats_yearly_regridded\"\n",
    "os.makedirs(output_folder, exist_ok=True)\n",
    "\n",
    "# Get list of input NetCDF files\n",
    "file_list = sorted([f for f in os.listdir(input_folder) if f.endswith(\".nc\")])\n",
    "print(f\"Found {len(file_list)} yearly files to regrid...\")\n",
    "\n",
    "# Regrid parameters\n",
    "factor_lat = 3\n",
    "factor_lon = 3\n",
    "\n",
    "# Target grid\n",
    "lat_target = np.arange(34.5, 66.0 + 0.001, 0.75)   # 43 lats\n",
    "lon_target = np.arange(-12.0, 36.0 + 0.001, 0.75)  # 65 lons\n",
    "\n",
    "# Loop through files\n",
    "for file in tqdm(file_list, desc=\"Regridding yearly files\"):\n",
    "    file_path = os.path.join(input_folder, file)\n",
    "    year_val = file.split('_')[-1][:4]  # extract year from filename\n",
    "    \n",
    "    # Open dataset\n",
    "    ds = xr.open_dataset(file_path)\n",
    "    \n",
    "    # Step 1: Coarsen (aggregation)\n",
    "    ds_coarse = xr.Dataset()\n",
    "    for var in [\"Mean\", \"Median\", \"Std\", \"Max\", \"Min\"]:\n",
    "        if var in ds:\n",
    "            ds_coarse[var] = ds[var].coarsen(\n",
    "                latitude=factor_lat, longitude=factor_lon, boundary=\"trim\"\n",
    "            ).mean(skipna=True)\n",
    "\n",
    "    # Handle \"number\" only if it's in the dataset AND has lat/lon dims\n",
    "    if \"number\" in ds and {\"latitude\", \"longitude\"}.issubset(ds[\"number\"].dims):\n",
    "        ds_coarse[\"number\"] = ds[\"number\"].coarsen(\n",
    "            latitude=factor_lat, longitude=factor_lon, boundary=\"trim\"\n",
    "        ).sum(skipna=True)\n",
    "\n",
    "    # Copy non-spatial coords (if they align)\n",
    "    for coord in [\"Year\", \"Month\", \"Day\"]:\n",
    "        if coord in ds:\n",
    "            ds_coarse[coord] = ds[coord]\n",
    "    \n",
    "    # Step 2: Interpolate onto target grid\n",
    "    ds_final = ds_coarse.interp(\n",
    "        latitude=lat_target,\n",
    "        longitude=lon_target,\n",
    "        method=\"linear\",\n",
    "        kwargs={\"fill_value\": \"extrapolate\"}\n",
    "    )\n",
    "    \n",
    "    # Save output\n",
    "    out_file = os.path.join(output_folder, f\"daily_wind_speed_stats_{year_val}_regrid.nc\")\n",
    "    ds_final.to_netcdf(out_file)\n",
    "    print(f\"✅ Saved {out_file}\")\n",
    "\n",
    "print(\"\\n🎉 All yearly wind speed files regridded and saved successfully!\")\n"
   ]
  }
 ],
 "metadata": {
  "kernelspec": {
   "display_name": "Python 3",
   "language": "python",
   "name": "python3"
  },
  "language_info": {
   "codemirror_mode": {
    "name": "ipython",
    "version": 3
   },
   "file_extension": ".py",
   "mimetype": "text/x-python",
   "name": "python",
   "nbconvert_exporter": "python",
   "pygments_lexer": "ipython3",
   "version": "3.13.9"
  }
 },
 "nbformat": 4,
 "nbformat_minor": 5
}
