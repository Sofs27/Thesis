{
 "cells": [
  {
   "cell_type": "markdown",
   "metadata": {},
   "source": [
    "BI Goals:\n",
    "\n",
    "i) investigar as ligações entre a atividade do fogo, conforme medido pelo FRP (Fire Radiative Power), e as concentrações de poluentes e avaliar a zona espacial e temporal de influência da atividade dos incêndios florestais.\n",
    "\n",
    "(ii) investigar a utilização de FRP como ferramenta para filtrar a contribuição do fumo de biomassa para os registos de poluição atmosférica em bacias atmosféricas urbanas, nomeadamente as emissões de carbono resultantes de incêndios florestais graves.\n",
    "\n",
    "(iii) desenvolver abordagens multirriscos para caracterizar o comportamento conjunto de múltiplos perigos e riscos consequentes e avaliar o papel desempenhado por condições anteriores e simultâneas de seca e/ou calor na exacerbação de incêndios rurais e consequentes ondas de fumo"
   ]
  },
  {
   "cell_type": "code",
   "execution_count": null,
   "metadata": {},
   "outputs": [],
   "source": [
    "# Gaussian Plume Model Implementation with Supporting Code\n",
    "# ---------------------------------------------------------\n",
    "# Assumes user has gridded daily FRP (MW) and wind data (ERA5 u10, v10), pollutant concentrations (CAMS), and grid/mask data.\n",
    "\n",
    "import numpy as np\n",
    "import xarray as xr\n",
    "import pandas as pd\n",
    "import math\n",
    "\n",
    "# -----------------------------\n",
    "# 1. Compute Wind Speed and Direction from u and v\n",
    "# -----------------------------\n",
    "def compute_wind_speed_direction(u10, v10):\n",
    "    wind_speed = np.sqrt(u10**2 + v10**2)\n",
    "    wind_dir = (np.arctan2(-u10, -v10) * 180 / np.pi) % 360\n",
    "    return wind_speed, wind_dir\n",
    "\n",
    "# -----------------------------\n",
    "# 2. Estimate Atmospheric Stability Class\n",
    "# -----------------------------\n",
    "def classify_stability(wind_speed, cloud_cover, ssrd, hour):\n",
    "    if hour >= 6 and hour <= 18:  # daytime\n",
    "        if ssrd > 700 and wind_speed < 2:\n",
    "            return 'A'\n",
    "        elif ssrd > 500:\n",
    "            return 'B'\n",
    "        elif ssrd > 250:\n",
    "            return 'C'\n",
    "        else:\n",
    "            return 'D'\n",
    "    else:  # nighttime\n",
    "        if cloud_cover > 0.5:\n",
    "            return 'D'\n",
    "        elif wind_speed < 2:\n",
    "            return 'F'\n",
    "        else:\n",
    "            return 'E'\n",
    "\n",
    "# -----------------------------\n",
    "# 3. Compute Dispersion Coefficients\n",
    "# -----------------------------\n",
    "def dispersion_coefficients(x, stability):\n",
    "    if stability == 'A':\n",
    "        sigma_y = 0.22 * x * (1 + 0.0001 * x)**-0.5\n",
    "        sigma_z = 0.20 * x\n",
    "    elif stability == 'B':\n",
    "        sigma_y = 0.16 * x * (1 + 0.0001 * x)**-0.5\n",
    "        sigma_z = 0.12 * x\n",
    "    elif stability == 'C':\n",
    "        sigma_y = 0.11 * x * (1 + 0.0001 * x)**-0.5\n",
    "        sigma_z = 0.08 * x * (1 + 0.0002 * x)**-0.5\n",
    "    elif stability == 'D':\n",
    "        sigma_y = 0.08 * x * (1 + 0.0001 * x)**-0.5\n",
    "        sigma_z = 0.06 * x * (1 + 0.0015 * x)**-0.5\n",
    "    elif stability == 'E':\n",
    "        sigma_y = 0.06 * x * (1 + 0.0001 * x)**-0.5\n",
    "        sigma_z = 0.03 * x * (1 + 0.0003 * x)**-1\n",
    "    elif stability == 'F':\n",
    "        sigma_y = 0.04 * x * (1 + 0.0001 * x)**-0.5\n",
    "        sigma_z = 0.016 * x * (1 + 0.0003 * x)**-1\n",
    "    else:\n",
    "        sigma_y = sigma_z = np.nan\n",
    "    return sigma_y, sigma_z\n",
    "\n",
    "# -----------------------------\n",
    "# 4. Estimate Emission Rate Q from FRP (MW) and Emission Factor (EF in g/MJ)\n",
    "# -----------------------------\n",
    "def compute_emission_rate(FRP_MW, EF_g_per_MJ):\n",
    "    # Convert FRP from MW to MJ/s\n",
    "    FRP_MJ_s = FRP_MW * 1000\n",
    "    Q_grams_per_s = FRP_MJ_s * EF_g_per_MJ\n",
    "    Q_kg_per_s = Q_grams_per_s / 1000\n",
    "    return Q_kg_per_s\n",
    "\n",
    "# -----------------------------\n",
    "# 5. Gaussian Plume Model (ground-level, steady-state)\n",
    "# -----------------------------\n",
    "def gaussian_plume_ground(Q, u, x, y, H, sigma_y, sigma_z):\n",
    "    factor = Q / (2 * np.pi * u * sigma_y * sigma_z)\n",
    "    exp_y = np.exp(- (y**2) / (2 * sigma_y**2))\n",
    "    exp_z = np.exp(- (H**2) / (2 * sigma_z**2))\n",
    "    C = factor * exp_y * exp_z\n",
    "    return C\n",
    "\n",
    "# -----------------------------\n",
    "# 6. Apply Regional Mask for Aggregation\n",
    "# -----------------------------\n",
    "def apply_region_mask(concentration, mask):\n",
    "    masked = np.where(mask == 1, concentration, np.nan)\n",
    "    regional_mean = np.nanmean(masked)\n",
    "    return regional_mean\n"
   ]
  },
  {
   "cell_type": "code",
   "execution_count": null,
   "metadata": {},
   "outputs": [],
   "source": []
  },
  {
   "cell_type": "markdown",
   "metadata": {},
   "source": [
    "Portugal"
   ]
  },
  {
   "cell_type": "code",
   "execution_count": null,
   "metadata": {},
   "outputs": [],
   "source": []
  },
  {
   "cell_type": "markdown",
   "metadata": {},
   "source": [
    "Spain"
   ]
  },
  {
   "cell_type": "code",
   "execution_count": null,
   "metadata": {},
   "outputs": [],
   "source": []
  },
  {
   "cell_type": "markdown",
   "metadata": {},
   "source": [
    "Italy"
   ]
  },
  {
   "cell_type": "code",
   "execution_count": null,
   "metadata": {},
   "outputs": [],
   "source": []
  },
  {
   "cell_type": "markdown",
   "metadata": {},
   "source": [
    "Greece"
   ]
  },
  {
   "cell_type": "code",
   "execution_count": null,
   "metadata": {},
   "outputs": [],
   "source": []
  }
 ],
 "metadata": {
  "language_info": {
   "name": "python"
  }
 },
 "nbformat": 4,
 "nbformat_minor": 2
}
