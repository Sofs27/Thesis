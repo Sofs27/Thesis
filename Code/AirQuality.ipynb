{
 "cells": [
  {
   "cell_type": "markdown",
   "id": "6797e84f",
   "metadata": {},
   "source": [
    "CO"
   ]
  },
  {
   "cell_type": "code",
   "execution_count": null,
   "id": "c0d37d64",
   "metadata": {},
   "outputs": [],
   "source": []
  },
  {
   "cell_type": "markdown",
   "id": "55ec9cdd",
   "metadata": {},
   "source": [
    "NO2"
   ]
  },
  {
   "cell_type": "code",
   "execution_count": null,
   "id": "cd53f3db",
   "metadata": {},
   "outputs": [],
   "source": []
  },
  {
   "cell_type": "markdown",
   "id": "119fd1e7",
   "metadata": {},
   "source": [
    "NO"
   ]
  },
  {
   "cell_type": "code",
   "execution_count": null,
   "id": "15476513",
   "metadata": {},
   "outputs": [],
   "source": []
  },
  {
   "cell_type": "markdown",
   "id": "d15df731",
   "metadata": {},
   "source": [
    "O3"
   ]
  },
  {
   "cell_type": "code",
   "execution_count": null,
   "id": "2c9a74fe",
   "metadata": {},
   "outputs": [],
   "source": []
  },
  {
   "cell_type": "markdown",
   "id": "6f216d9b",
   "metadata": {},
   "source": [
    "PM2.5"
   ]
  },
  {
   "cell_type": "code",
   "execution_count": null,
   "id": "6d2f2b8c",
   "metadata": {},
   "outputs": [],
   "source": []
  },
  {
   "cell_type": "markdown",
   "id": "f01286f4",
   "metadata": {},
   "source": [
    "PM10"
   ]
  },
  {
   "cell_type": "code",
   "execution_count": null,
   "id": "339475dd",
   "metadata": {},
   "outputs": [],
   "source": []
  }
 ],
 "metadata": {
  "kernelspec": {
   "display_name": "Python 3",
   "language": "python",
   "name": "python3"
  },
  "language_info": {
   "name": "python",
   "version": "3.13.3"
  }
 },
 "nbformat": 4,
 "nbformat_minor": 5
}
