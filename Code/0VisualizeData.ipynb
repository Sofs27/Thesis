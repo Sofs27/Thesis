{
 "cells": [
  {
   "cell_type": "markdown",
   "metadata": {},
   "source": [
    "Read .nc files"
   ]
  },
  {
   "cell_type": "code",
   "execution_count": 8,
   "metadata": {},
   "outputs": [
    {
     "name": "stdout",
     "output_type": "stream",
     "text": [
      "Dataset Overview:\n",
      "\n",
      "<xarray.Dataset> Size: 23kB\n",
      "Dimensions:    (latitude: 43, longitude: 65)\n",
      "Coordinates:\n",
      "  * latitude   (latitude) float64 344B 34.5 35.25 36.0 36.75 ... 64.5 65.25 66.0\n",
      "  * longitude  (longitude) float64 520B -12.0 -11.25 -10.5 ... 34.5 35.25 36.0\n",
      "Data variables:\n",
      "    mask       (latitude, longitude) int64 22kB ...\n",
      "Attributes:\n",
      "    description:                 Mask for Spain, 1=inside, 0=outside\n",
      "    grid_resolution:             0.75 x 0.75 degrees\n",
      "    study_area_latitude_range:   34.5 to 66.01\n",
      "    study_area_longitude_range:  -12 to 36.01\n",
      "\n",
      "Available Variables:\n",
      "- mask: ('latitude', 'longitude'), (43, 65)\n",
      "- latitude: ('latitude',), (43,)\n",
      "- longitude: ('longitude',), (65,)\n"
     ]
    }
   ],
   "source": [
    "import xarray as xr\n",
    "\n",
    "# Open the NetCDF file\n",
    "file_path = r\"D:\\IPMA\\Countries\\Spain_mask.nc\"\n",
    "ds = xr.open_dataset(file_path)\n",
    "\n",
    "# Display the dataset's structure and metadata\n",
    "print(\"Dataset Overview:\\n\")\n",
    "print(ds)\n",
    "\n",
    "# List all variables in the dataset\n",
    "print(\"\\nAvailable Variables:\")\n",
    "for var in ds.variables:\n",
    "    print(f\"- {var}: {ds[var].dims}, {ds[var].shape}\")\n"
   ]
  },
  {
   "cell_type": "markdown",
   "metadata": {},
   "source": [
    "View nc file in table"
   ]
  },
  {
   "cell_type": "code",
   "execution_count": 12,
   "metadata": {},
   "outputs": [
    {
     "name": "stdout",
     "output_type": "stream",
     "text": [
      "   latitude  longitude  mask\n",
      "0      34.5     -12.00     0\n",
      "1      34.5     -11.25     0\n",
      "2      34.5     -10.50     0\n",
      "3      34.5      -9.75     0\n",
      "4      34.5      -9.00     0\n"
     ]
    },
    {
     "data": {
      "application/vnd.microsoft.datawrangler.viewer.v0+json": {
       "columns": [
        {
         "name": "index",
         "rawType": "int64",
         "type": "integer"
        },
        {
         "name": "latitude",
         "rawType": "float64",
         "type": "float"
        },
        {
         "name": "longitude",
         "rawType": "float64",
         "type": "float"
        },
        {
         "name": "mask",
         "rawType": "int64",
         "type": "integer"
        }
       ],
       "ref": "6434b288-693b-4790-aee6-141b922ae836",
       "rows": [
        [
         "0",
         "34.5",
         "-12.0",
         "0"
        ],
        [
         "1",
         "34.5",
         "-11.25",
         "0"
        ],
        [
         "2",
         "34.5",
         "-10.5",
         "0"
        ],
        [
         "3",
         "34.5",
         "-9.75",
         "0"
        ],
        [
         "4",
         "34.5",
         "-9.0",
         "0"
        ],
        [
         "5",
         "34.5",
         "-8.25",
         "0"
        ],
        [
         "6",
         "34.5",
         "-7.5",
         "0"
        ],
        [
         "7",
         "34.5",
         "-6.75",
         "0"
        ],
        [
         "8",
         "34.5",
         "-6.0",
         "0"
        ],
        [
         "9",
         "34.5",
         "-5.25",
         "0"
        ],
        [
         "10",
         "34.5",
         "-4.5",
         "0"
        ],
        [
         "11",
         "34.5",
         "-3.75",
         "0"
        ],
        [
         "12",
         "34.5",
         "-3.0",
         "0"
        ],
        [
         "13",
         "34.5",
         "-2.25",
         "0"
        ],
        [
         "14",
         "34.5",
         "-1.5",
         "0"
        ],
        [
         "15",
         "34.5",
         "-0.75",
         "0"
        ],
        [
         "16",
         "34.5",
         "0.0",
         "0"
        ],
        [
         "17",
         "34.5",
         "0.75",
         "0"
        ],
        [
         "18",
         "34.5",
         "1.5",
         "0"
        ],
        [
         "19",
         "34.5",
         "2.25",
         "0"
        ],
        [
         "20",
         "34.5",
         "3.0",
         "0"
        ],
        [
         "21",
         "34.5",
         "3.75",
         "0"
        ],
        [
         "22",
         "34.5",
         "4.5",
         "0"
        ],
        [
         "23",
         "34.5",
         "5.25",
         "0"
        ],
        [
         "24",
         "34.5",
         "6.0",
         "0"
        ],
        [
         "25",
         "34.5",
         "6.75",
         "0"
        ],
        [
         "26",
         "34.5",
         "7.5",
         "0"
        ],
        [
         "27",
         "34.5",
         "8.25",
         "0"
        ],
        [
         "28",
         "34.5",
         "9.0",
         "0"
        ],
        [
         "29",
         "34.5",
         "9.75",
         "0"
        ],
        [
         "30",
         "34.5",
         "10.5",
         "0"
        ],
        [
         "31",
         "34.5",
         "11.25",
         "0"
        ],
        [
         "32",
         "34.5",
         "12.0",
         "0"
        ],
        [
         "33",
         "34.5",
         "12.75",
         "0"
        ],
        [
         "34",
         "34.5",
         "13.5",
         "0"
        ],
        [
         "35",
         "34.5",
         "14.25",
         "0"
        ],
        [
         "36",
         "34.5",
         "15.0",
         "0"
        ],
        [
         "37",
         "34.5",
         "15.75",
         "0"
        ],
        [
         "38",
         "34.5",
         "16.5",
         "0"
        ],
        [
         "39",
         "34.5",
         "17.25",
         "0"
        ],
        [
         "40",
         "34.5",
         "18.0",
         "0"
        ],
        [
         "41",
         "34.5",
         "18.75",
         "0"
        ],
        [
         "42",
         "34.5",
         "19.5",
         "0"
        ],
        [
         "43",
         "34.5",
         "20.25",
         "0"
        ],
        [
         "44",
         "34.5",
         "21.0",
         "0"
        ],
        [
         "45",
         "34.5",
         "21.75",
         "0"
        ],
        [
         "46",
         "34.5",
         "22.5",
         "0"
        ],
        [
         "47",
         "34.5",
         "23.25",
         "0"
        ],
        [
         "48",
         "34.5",
         "24.0",
         "0"
        ],
        [
         "49",
         "34.5",
         "24.75",
         "0"
        ]
       ],
       "shape": {
        "columns": 3,
        "rows": 2795
       }
      },
      "text/html": [
       "<div>\n",
       "<style scoped>\n",
       "    .dataframe tbody tr th:only-of-type {\n",
       "        vertical-align: middle;\n",
       "    }\n",
       "\n",
       "    .dataframe tbody tr th {\n",
       "        vertical-align: top;\n",
       "    }\n",
       "\n",
       "    .dataframe thead th {\n",
       "        text-align: right;\n",
       "    }\n",
       "</style>\n",
       "<table border=\"1\" class=\"dataframe\">\n",
       "  <thead>\n",
       "    <tr style=\"text-align: right;\">\n",
       "      <th></th>\n",
       "      <th>latitude</th>\n",
       "      <th>longitude</th>\n",
       "      <th>mask</th>\n",
       "    </tr>\n",
       "  </thead>\n",
       "  <tbody>\n",
       "    <tr>\n",
       "      <th>0</th>\n",
       "      <td>34.5</td>\n",
       "      <td>-12.00</td>\n",
       "      <td>0</td>\n",
       "    </tr>\n",
       "    <tr>\n",
       "      <th>1</th>\n",
       "      <td>34.5</td>\n",
       "      <td>-11.25</td>\n",
       "      <td>0</td>\n",
       "    </tr>\n",
       "    <tr>\n",
       "      <th>2</th>\n",
       "      <td>34.5</td>\n",
       "      <td>-10.50</td>\n",
       "      <td>0</td>\n",
       "    </tr>\n",
       "    <tr>\n",
       "      <th>3</th>\n",
       "      <td>34.5</td>\n",
       "      <td>-9.75</td>\n",
       "      <td>0</td>\n",
       "    </tr>\n",
       "    <tr>\n",
       "      <th>4</th>\n",
       "      <td>34.5</td>\n",
       "      <td>-9.00</td>\n",
       "      <td>0</td>\n",
       "    </tr>\n",
       "    <tr>\n",
       "      <th>...</th>\n",
       "      <td>...</td>\n",
       "      <td>...</td>\n",
       "      <td>...</td>\n",
       "    </tr>\n",
       "    <tr>\n",
       "      <th>2790</th>\n",
       "      <td>66.0</td>\n",
       "      <td>33.00</td>\n",
       "      <td>0</td>\n",
       "    </tr>\n",
       "    <tr>\n",
       "      <th>2791</th>\n",
       "      <td>66.0</td>\n",
       "      <td>33.75</td>\n",
       "      <td>0</td>\n",
       "    </tr>\n",
       "    <tr>\n",
       "      <th>2792</th>\n",
       "      <td>66.0</td>\n",
       "      <td>34.50</td>\n",
       "      <td>0</td>\n",
       "    </tr>\n",
       "    <tr>\n",
       "      <th>2793</th>\n",
       "      <td>66.0</td>\n",
       "      <td>35.25</td>\n",
       "      <td>0</td>\n",
       "    </tr>\n",
       "    <tr>\n",
       "      <th>2794</th>\n",
       "      <td>66.0</td>\n",
       "      <td>36.00</td>\n",
       "      <td>0</td>\n",
       "    </tr>\n",
       "  </tbody>\n",
       "</table>\n",
       "<p>2795 rows × 3 columns</p>\n",
       "</div>"
      ],
      "text/plain": [
       "      latitude  longitude  mask\n",
       "0         34.5     -12.00     0\n",
       "1         34.5     -11.25     0\n",
       "2         34.5     -10.50     0\n",
       "3         34.5      -9.75     0\n",
       "4         34.5      -9.00     0\n",
       "...        ...        ...   ...\n",
       "2790      66.0      33.00     0\n",
       "2791      66.0      33.75     0\n",
       "2792      66.0      34.50     0\n",
       "2793      66.0      35.25     0\n",
       "2794      66.0      36.00     0\n",
       "\n",
       "[2795 rows x 3 columns]"
      ]
     },
     "execution_count": 12,
     "metadata": {},
     "output_type": "execute_result"
    }
   ],
   "source": [
    "import xarray as xr\n",
    "import pandas as pd\n",
    "\n",
    "# Open the NetCDF file\n",
    "nc_file = r\"D:\\IPMA\\Countries\\Italy_mask.nc\" \n",
    "ds = xr.open_dataset(nc_file)\n",
    "\n",
    "# Convert all variables to a DataFrame\n",
    "df = ds.to_dataframe().reset_index()\n",
    "\n",
    "# Display the first few rows\n",
    "print(df.head())\n",
    "\n",
    "df\n"
   ]
  },
  {
   "cell_type": "markdown",
   "metadata": {},
   "source": [
    "Read .mat files"
   ]
  },
  {
   "cell_type": "code",
   "execution_count": null,
   "metadata": {},
   "outputs": [],
   "source": [
    "from scipy.io import loadmat\n",
    "\n",
    "data = loadmat(r\"E:\\IPMA\\Sources\\Virgilio\\FRP\\MODIS_2001.mat\", struct_as_record=False, squeeze_me=True)\n",
    "\n",
    "dados = data[\"dados\"]  # Extract variable\n",
    "\n",
    "print(\"Type of 'dados':\", type(dados))\n",
    "\n",
    "if hasattr(dados, \"_fieldnames\"):  # Check if it's a struct\n",
    "    print(\"Struct fields:\", dados._fieldnames)\n",
    "    for field in dados._fieldnames:\n",
    "        print(f\"Field '{field}':\", getattr(dados, field))"
   ]
  },
  {
   "cell_type": "markdown",
   "metadata": {},
   "source": [
    "View .mat on map"
   ]
  },
  {
   "cell_type": "code",
   "execution_count": null,
   "metadata": {},
   "outputs": [],
   "source": [
    "import scipy.io\n",
    "import folium\n",
    "\n",
    "# Step 1: Load the .mat file\n",
    "mat_data = scipy.io.loadmat(r\"E:\\IPMA\\Sources\\Virgilio\\FRP\\MODIS_2001.mat\")  # Replace 'your_file.mat' with your file's name\n",
    "\n",
    "# Step 2: Inspect the contents of the .mat file to find the data\n",
    "print(mat_data.keys())  # This will list all variables in the .mat file\n",
    "\n",
    "# Step 3: Extract latitude and longitude (adjust if your data keys are different)\n",
    "# Assuming that 'latitudes' and 'longitudes' are the keys in your .mat file\n",
    "latitudes = mat_data['lat'].flatten()  # Flatten in case the data is in an array form\n",
    "longitudes = mat_data['lon'].flatten()\n",
    "\n",
    "# Step 4: Create a map centered around the first set of coordinates (you can adjust this)\n",
    "my_map = folium.Map(location=[latitudes[0], longitudes[0]], zoom_start=10)\n",
    "\n",
    "# Step 5: Add markers for each coordinate pair\n",
    "for lat, lon in zip(latitudes, longitudes):\n",
    "    folium.Marker([lat, lon]).add_to(my_map)\n",
    "\n",
    "# Step 6: Save the map to an HTML file\n",
    "my_map.save(\"map.html\")\n",
    "\n",
    "# Step 7: Instructions to view the map\n",
    "print(\"Map saved as 'map.html'. Open it in a browser to view the map.\")\n"
   ]
  },
  {
   "cell_type": "markdown",
   "metadata": {},
   "source": [
    "View .csv file on table"
   ]
  },
  {
   "cell_type": "code",
   "execution_count": null,
   "metadata": {},
   "outputs": [],
   "source": [
    "import pandas as pd\n",
    "import matplotlib.pyplot as plt\n",
    "\n",
    "file_path = r\"E:\\IPMA\\FRP\\FRP_2000_2024.csv\"\n",
    "\n",
    "# Load CSV into a pandas DataFrame\n",
    "df = pd.read_csv(file_path)\n",
    "\n",
    "# Display the first few rows of the DataFrame to verify data loading\n",
    "print(df.head())\n",
    "\n",
    "df"
   ]
  },
  {
   "cell_type": "markdown",
   "metadata": {},
   "source": [
    "View csv file on map"
   ]
  },
  {
   "cell_type": "code",
   "execution_count": null,
   "metadata": {},
   "outputs": [],
   "source": [
    "# View map with csv file\n",
    "\n",
    "import pandas as pd\n",
    "import geopandas as gpd\n",
    "import matplotlib.pyplot as plt\n",
    "from shapely.geometry import Point\n",
    "\n",
    "# Load the dataset\n",
    "df = pd.read_csv(r\"E:\\IPMA\\FRP\\FRP_2000_2024.csv\")\n",
    "\n",
    "# Convert \"acq_date\" to datetime format and extract year & month\n",
    "df[\"acq_date\"] = pd.to_datetime(df[\"acq_date\"])\n",
    "df[\"year\"] = df[\"acq_date\"].dt.year\n",
    "df[\"month\"] = df[\"acq_date\"].dt.month  # Extract month as integer (1-12)\n",
    "\n",
    "# Select the year (required) and month (optional)\n",
    "selected_year = 2020  # Change to desired year (2001-2023)\n",
    "selected_month = 7  # Set to None to include all months OR set a value (1-12)\n",
    "\n",
    "# Filter the dataset\n",
    "if selected_month is not None:\n",
    "    df = df[(df[\"year\"] == selected_year) & (df[\"month\"] == selected_month)]\n",
    "else:\n",
    "    df = df[df[\"year\"] == selected_year]  # Only filter by year\n",
    "\n",
    "# Convert to GeoDataFrame if data exists\n",
    "if not df.empty:\n",
    "    geometry = [Point(xy) for xy in zip(df[\"longitude\"], df[\"latitude\"])]\n",
    "    gdf = gpd.GeoDataFrame(df, geometry=geometry, crs=\"EPSG:4326\")  # WGS84 CRS\n",
    "\n",
    "    # Plot the filtered points\n",
    "    fig, ax = plt.subplots(figsize=(8, 6))\n",
    "    gdf.plot(ax=ax, color=\"blue\", markersize=10, alpha=0.5)\n",
    "\n",
    "    title = f\"Mapped Locations for {selected_year}\"\n",
    "    if selected_month is not None:\n",
    "        title += f\"-{selected_month:02d}\"  # Format as YYYY-MM\n",
    "\n",
    "    plt.title(title)\n",
    "    plt.xlabel(\"Longitude\")\n",
    "    plt.ylabel(\"Latitude\")\n",
    "    plt.grid(True)\n",
    "\n",
    "    plt.show()\n",
    "else:\n",
    "    no_data_msg = f\"No data available for {selected_year}\"\n",
    "    if selected_month is not None:\n",
    "        no_data_msg += f\"-{selected_month:02d}\"\n",
    "    print(no_data_msg)\n",
    "\n"
   ]
  },
  {
   "cell_type": "markdown",
   "metadata": {},
   "source": [
    "View npy file"
   ]
  },
  {
   "cell_type": "code",
   "execution_count": null,
   "metadata": {},
   "outputs": [],
   "source": [
    "import numpy as np\n",
    "\n",
    "# Load the .npy file\n",
    "file_path = r\"E:\\IPMA\\SPEI\\SPEI3\\SPEI3_1979.npy\"\n",
    "data = np.load(file_path)\n",
    "\n",
    "# Print structure details\n",
    "print(\"Shape:\", data.shape)\n",
    "print(\"Data type:\", data.dtype)\n",
    "print(\"Preview (first slice):\\n\", data[0])  # Print first \"layer\" of the 3D array"
   ]
  },
  {
   "cell_type": "code",
   "execution_count": null,
   "metadata": {},
   "outputs": [],
   "source": [
    "# To view .npy on map\n",
    "\n",
    "import numpy as np\n",
    "import matplotlib.pyplot as plt\n",
    "import cartopy.crs as ccrs\n",
    "\n",
    "# Load your data (replace with actual .npy file loading)\n",
    "file_path = r\"E:\\IPMA\\SPI\\SPI3\\SPI3_1979.npy\"\n",
    "data = np.load(file_path)\n",
    "\n",
    "# Check the shape of the data\n",
    "print(f\"Data shape: {data.shape}\")  # Should be (time, lat, lon)\n",
    "\n",
    "# Assume latitudes and longitudes based on the shape of the data\n",
    "time_size, lat_size, lon_size = data.shape\n",
    "lat_values = np.linspace(34, 66, lat_size)  # Latitude range from -90 to 90 degrees\n",
    "lon_values = np.linspace(-12, 36, lon_size)  # Longitude range from -180 to 180 degrees\n",
    "\n",
    "# Create a 2D meshgrid of latitude and longitude for plotting\n",
    "lon_grid, lat_grid = np.meshgrid(lon_values, lat_values)\n",
    "\n",
    "# Plot the data using Cartopy (selecting the first time slice as a sample)\n",
    "fig, ax = plt.subplots(figsize=(10, 8), subplot_kw={'projection': ccrs.PlateCarree()})\n",
    "ax.set_extent([lon_values.min(), lon_values.max(), lat_values.min(), lat_values.max()])\n",
    "\n",
    "# Add coastlines and gridlines\n",
    "ax.coastlines()\n",
    "ax.gridlines(draw_labels=True)\n",
    "\n",
    "# Plot the first time slice (index 0) from the data\n",
    "data_slice = data[0, :, :]  # First time slice\n",
    "c = ax.pcolormesh(lon_grid, lat_grid, data_slice, cmap=\"viridis\", shading='auto', transform=ccrs.PlateCarree())\n",
    "fig.colorbar(c, ax=ax, orientation=\"vertical\", label=\"Data Value\")\n",
    "\n",
    "plt.title(\"Geospatial Data: First Time Slice\")\n",
    "plt.show()\n",
    "\n"
   ]
  }
 ],
 "metadata": {
  "kernelspec": {
   "display_name": "Python 3",
   "language": "python",
   "name": "python3"
  },
  "language_info": {
   "codemirror_mode": {
    "name": "ipython",
    "version": 3
   },
   "file_extension": ".py",
   "mimetype": "text/x-python",
   "name": "python",
   "nbconvert_exporter": "python",
   "pygments_lexer": "ipython3",
   "version": "3.13.7"
  }
 },
 "nbformat": 4,
 "nbformat_minor": 2
}
