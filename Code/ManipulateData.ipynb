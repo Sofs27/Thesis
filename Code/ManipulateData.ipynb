{
 "cells": [
  {
   "cell_type": "markdown",
   "metadata": {},
   "source": [
    "CAMS EAC4 - single level"
   ]
  },
  {
   "cell_type": "code",
   "execution_count": 1,
   "metadata": {},
   "outputs": [],
   "source": [
    "# To convert PM from kg/m3 to ug/m3 - DONE\n",
    "\n",
    "import xarray as xr\n",
    "import glob\n",
    "import os\n",
    "\n",
    "# Define input and output directories\n",
    "input_folder = r\"E:\\IPMA\\CAMS\\chem_singlvl\\4final_2003_2024\"\n",
    "output_folder = r\"E:\\IPMA\\CAMS\\chem_singlvl\\5conversion_2003_2024\"\n",
    "\n",
    "# Ensure the output folder exists\n",
    "os.makedirs(output_folder, exist_ok=True)\n",
    "\n",
    "# List of NetCDF files\n",
    "nc_files = glob.glob(os.path.join(input_folder, \"*.nc\"))\n",
    "\n",
    "for nc_file in nc_files:\n",
    "    try:\n",
    "        # Open the NetCDF file\n",
    "        ds = xr.open_dataset(nc_file)\n",
    "\n",
    "        # Convert PM values to µg/m³\n",
    "        ds[\"pm1\"] = ds[\"pm1\"] * 1e9\n",
    "        ds[\"pm2p5\"] = ds[\"pm2p5\"] * 1e9\n",
    "        ds[\"pm10\"] = ds[\"pm10\"] * 1e9\n",
    "\n",
    "        # Get the filename and construct output path\n",
    "        filename = os.path.basename(nc_file)  # Extracts filename only\n",
    "        output_file = os.path.join(output_folder, filename)  # Keeps same filename in new folder\n",
    "\n",
    "        # Save the modified NetCDF file in the new folder\n",
    "        ds.to_netcdf(output_file)\n",
    "        ds.close()  # Close the dataset\n",
    "\n",
    "    except Exception as e:\n",
    "        print(f\"Error processing {nc_file}: {e}\")\n"
   ]
  },
  {
   "cell_type": "markdown",
   "metadata": {},
   "source": [
    "ERA5"
   ]
  },
  {
   "cell_type": "code",
   "execution_count": null,
   "metadata": {},
   "outputs": [],
   "source": [
    "# To change Kelvin to Celsius\n",
    "\n",
    "import xarray as xr\n",
    "import os\n",
    "import glob\n",
    "\n",
    "# Define the folder containing the NetCDF files\n",
    "data_dir = r\"E:\\IPMA\\ERA5\\Temperature\\1raw_year_1979_2024\"\n",
    "# Define the folder to save the converted files\n",
    "output_dir = r\"E:\\IPMA\\ERA5\\Temperature\\2conversion_year_1979_2024\"\n",
    "\n",
    "# Ensure the output directory exists\n",
    "os.makedirs(output_dir, exist_ok=True)\n",
    "\n",
    "# Get all NetCDF files in the directory\n",
    "nc_files = glob.glob(os.path.join(data_dir, \"*.nc\"))\n",
    "\n",
    "# Loop through each file\n",
    "for file_path in nc_files:\n",
    "    print(f\"Processing {file_path}...\")\n",
    "\n",
    "    # Open the NetCDF file\n",
    "    ds = xr.open_dataset(file_path)\n",
    "\n",
    "    # Check if 't2m' exists and convert it from Kelvin to Celsius\n",
    "    if \"t2m\" in ds:\n",
    "        ds[\"t2m\"] = ds[\"t2m\"] - 273.15  # Convert to Celsius\n",
    "        ds[\"t2m\"].attrs[\"units\"] = \"Celsius\"  # Update metadata\n",
    "\n",
    "        # Define output file path\n",
    "        output_file_path = os.path.join(output_dir, os.path.basename(file_path))\n",
    "        \n",
    "        # Save the updated dataset to the new folder\n",
    "        ds.to_netcdf(output_file_path, mode=\"w\")\n",
    "\n",
    "        print(f\"Converted 't2m' to Celsius and saved to {output_file_path}\")\n",
    "    else:\n",
    "        print(f\"Skipping {file_path}, 't2m' variable not found.\")\n"
   ]
  }
 ],
 "metadata": {
  "kernelspec": {
   "display_name": "Python 3",
   "language": "python",
   "name": "python3"
  },
  "language_info": {
   "codemirror_mode": {
    "name": "ipython",
    "version": 3
   },
   "file_extension": ".py",
   "mimetype": "text/x-python",
   "name": "python",
   "nbconvert_exporter": "python",
   "pygments_lexer": "ipython3",
   "version": "3.13.2"
  }
 },
 "nbformat": 4,
 "nbformat_minor": 2
}
