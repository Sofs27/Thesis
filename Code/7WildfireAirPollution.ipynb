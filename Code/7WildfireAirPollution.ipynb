{
 "cells": [
  {
   "cell_type": "markdown",
   "metadata": {},
   "source": [
    "BI Goals:\n",
    "\n",
    "i) investigar as ligações entre a atividade do fogo, conforme medido pelo FRP (Fire Radiative Power), e as concentrações de poluentes e avaliar a zona espacial e temporal de influência da atividade dos incêndios florestais.\n",
    "\n",
    "(ii) investigar a utilização de FRP como ferramenta para filtrar a contribuição do fumo de biomassa para os registos de poluição atmosférica em bacias atmosféricas urbanas, nomeadamente as emissões de carbono resultantes de incêndios florestais graves.\n",
    "\n",
    "(iii) desenvolver abordagens multirriscos para caracterizar o comportamento conjunto de múltiplos perigos e riscos consequentes e avaliar o papel desempenhado por condições anteriores e simultâneas de seca e/ou calor na exacerbação de incêndios rurais e consequentes ondas de fumo"
   ]
  },
  {
   "cell_type": "markdown",
   "metadata": {},
   "source": [
    "Combine datasets (labeled dataset that contains info about labels and FRP & pollutants statistics) by day and pixel"
   ]
  },
  {
   "cell_type": "code",
   "execution_count": 21,
   "metadata": {},
   "outputs": [
    {
     "name": "stdout",
     "output_type": "stream",
     "text": [
      "✅ Total valid PM2P5 days: 8036\n"
     ]
    },
    {
     "name": "stderr",
     "output_type": "stream",
     "text": [
      "C:\\Users\\sofia\\AppData\\Local\\Temp\\ipykernel_1380\\4004575520.py:59: FutureWarning: updating coordinate 'time' with a PandasMultiIndex would leave the multi-index level coordinates ['Year', 'Month', 'Day'] in an inconsistent state. This will raise an error in the future. Use `.drop_vars(['time', 'Year', 'Month', 'Day'])` before assigning new coordinate values.\n",
      "  ds_pollutant_stack = ds_pollutant_stack.assign_coords(time=time_index)\n"
     ]
    },
    {
     "name": "stdout",
     "output_type": "stream",
     "text": [
      "✅ Overlapping valid days (PM2P5 + fire): 8036\n",
      "   Overlap span: 2003-01-01 → 2024-12-31\n",
      "\n",
      "🎉 Merged dataset saved to: D:\\IPMA\\CAMS\\pm2p5_fire_Spain.nc\n"
     ]
    }
   ],
   "source": [
    "import xarray as xr\n",
    "import pandas as pd\n",
    "import numpy as np\n",
    "import os\n",
    "\n",
    "# ==== User settings ====\n",
    "pollutant_name = \"pm2p5\"  # <-- change this to your pollutant (e.g., \"ozone\", \"no2\")\n",
    "country = \"Spain\"         # <-- change this to the country\n",
    "\n",
    "# ==== File paths ====\n",
    "pollutant_path = fr\"D:\\IPMA\\CAMS\\chem_singlvl\\daily_{pollutant_name}_stats.nc\"\n",
    "fire_path = fr\"D:\\IPMA\\FRP\\fire_labels_by_region\\fire_data_{country}.nc\"\n",
    "mask_path = fr\"D:\\IPMA\\Countries\\{country}_mask.nc\"\n",
    "output_path = fr\"D:\\IPMA\\CAMS\\{pollutant_name}_fire_{country}.nc\"\n",
    "\n",
    "# ==== Load datasets ====\n",
    "ds_pollutant = xr.open_dataset(pollutant_path)\n",
    "ds_fire = xr.open_dataset(fire_path)\n",
    "mask_ds = xr.open_dataset(mask_path)\n",
    "\n",
    "# ==== Load mask variable ====\n",
    "mask = mask_ds[\"mask\"]  # change name here if different\n",
    "\n",
    "# ==== Extract Year, Month, Day ====\n",
    "years = ds_pollutant['Year'].values\n",
    "months = ds_pollutant['Month'].values\n",
    "days = ds_pollutant['Day'].values\n",
    "\n",
    "# ==== Create all combinations ====\n",
    "ymd = pd.MultiIndex.from_product(\n",
    "    [years, months, days],\n",
    "    names=['year', 'month', 'day']\n",
    ").to_frame(index=False)\n",
    "\n",
    "# ==== Remove invalid dates ====\n",
    "def is_valid_date(row):\n",
    "    try:\n",
    "        pd.Timestamp(year=int(row['year']), month=int(row['month']), day=int(row['day']))\n",
    "        return True\n",
    "    except ValueError:\n",
    "        return False\n",
    "\n",
    "valid_mask = ymd.apply(is_valid_date, axis=1)\n",
    "ymd_valid = ymd[valid_mask].reset_index(drop=True)\n",
    "\n",
    "# ==== Convert valid dates to datetime ====\n",
    "time_index = pd.to_datetime(ymd_valid)\n",
    "\n",
    "# ==== Print number of valid pollutant days ====\n",
    "print(f\"✅ Total valid {pollutant_name.upper()} days: {len(time_index)}\")\n",
    "\n",
    "# ==== Flatten pollutant data ====\n",
    "ds_pollutant_stack = ds_pollutant.stack(time=('Year', 'Month', 'Day'))\n",
    "\n",
    "# Keep only valid dates\n",
    "ds_pollutant_stack = ds_pollutant_stack.isel(time=valid_mask.values)\n",
    "\n",
    "# Assign new datetime coordinate\n",
    "ds_pollutant_stack = ds_pollutant_stack.assign_coords(time=time_index)\n",
    "\n",
    "# ==== Select overlapping time ====\n",
    "start_time = max(ds_pollutant_stack.time.values[0], ds_fire.time.values[0])\n",
    "end_time = min(ds_pollutant_stack.time.values[-1], ds_fire.time.values[-1])\n",
    "\n",
    "ds_pollutant_sel = ds_pollutant_stack.sel(time=slice(start_time, end_time))\n",
    "ds_fire_sel = ds_fire.sel(time=slice(start_time, end_time))\n",
    "\n",
    "# ==== Print number of overlapping valid days ====\n",
    "print(f\"✅ Overlapping valid days ({pollutant_name.upper()} + fire): {len(ds_pollutant_sel.time)}\")\n",
    "print(f\"   Overlap span: {pd.to_datetime(ds_pollutant_sel.time.values[0]).date()} → {pd.to_datetime(ds_pollutant_sel.time.values[-1]).date()}\")\n",
    "\n",
    "# ==== Check lat/lon match ====\n",
    "assert np.allclose(ds_pollutant_sel.latitude.values, ds_fire_sel.latitude.values), \"Latitude mismatch\"\n",
    "assert np.allclose(ds_pollutant_sel.longitude.values, ds_fire_sel.longitude.values), \"Longitude mismatch\"\n",
    "assert np.allclose(ds_pollutant_sel.latitude.values, mask.latitude.values), \"Latitude mismatch with mask\"\n",
    "assert np.allclose(ds_pollutant_sel.longitude.values, mask.longitude.values), \"Longitude mismatch with mask\"\n",
    "\n",
    "# ==== Apply mask to both datasets ====\n",
    "ds_pollutant_masked = ds_pollutant_sel.where(mask == 1)\n",
    "ds_fire_masked = ds_fire_sel.where(mask == 1)\n",
    "\n",
    "# ==== Merge datasets ====\n",
    "ds_merged = xr.merge([ds_pollutant_masked, ds_fire_masked])\n",
    "\n",
    "# ==== Save ====\n",
    "os.makedirs(os.path.dirname(output_path), exist_ok=True)\n",
    "ds_merged.to_netcdf(output_path)\n",
    "\n",
    "print(f\"\\n🎉 Merged dataset saved to: {output_path}\")\n"
   ]
  }
 ],
 "metadata": {
  "kernelspec": {
   "display_name": "Python 3",
   "language": "python",
   "name": "python3"
  },
  "language_info": {
   "codemirror_mode": {
    "name": "ipython",
    "version": 3
   },
   "file_extension": ".py",
   "mimetype": "text/x-python",
   "name": "python",
   "nbconvert_exporter": "python",
   "pygments_lexer": "ipython3",
   "version": "3.13.7"
  }
 },
 "nbformat": 4,
 "nbformat_minor": 2
}
