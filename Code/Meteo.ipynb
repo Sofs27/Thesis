{
 "cells": [
  {
   "cell_type": "markdown",
   "id": "0159eacb",
   "metadata": {},
   "source": [
    "Precipitation"
   ]
  },
  {
   "cell_type": "code",
   "execution_count": null,
   "id": "73090de1",
   "metadata": {},
   "outputs": [],
   "source": []
  },
  {
   "cell_type": "markdown",
   "id": "2ad16279",
   "metadata": {},
   "source": [
    "Temperature"
   ]
  },
  {
   "cell_type": "code",
   "execution_count": null,
   "id": "9d1e05c0",
   "metadata": {},
   "outputs": [],
   "source": []
  },
  {
   "cell_type": "markdown",
   "id": "fd4c157e",
   "metadata": {},
   "source": [
    "Boundary Layer Height"
   ]
  },
  {
   "cell_type": "code",
   "execution_count": null,
   "id": "44e63019",
   "metadata": {},
   "outputs": [],
   "source": []
  },
  {
   "cell_type": "markdown",
   "id": "563134be",
   "metadata": {},
   "source": [
    "Wind"
   ]
  },
  {
   "cell_type": "code",
   "execution_count": null,
   "id": "498b19fc",
   "metadata": {},
   "outputs": [],
   "source": [
    "#Calculate wind speed and direction based on u&v component\n",
    "\n",
    "import xarray as xr\n",
    "import numpy as np\n",
    "import os\n",
    "from glob import glob\n",
    "\n",
    "# Define folders\n",
    "input_folder = r\"E:\\IPMA\\ERA5\\UV_wind\\1raw_year_1979_2024\"\n",
    "output_folder = r\"E:\\IPMA\\ERA5\\UV_wind\\2wind_speed_direction\"\n",
    "os.makedirs(output_folder, exist_ok=True)\n",
    "\n",
    "# Find all relevant NetCDF files\n",
    "nc_files = sorted(glob(os.path.join(input_folder, \"ERA5_hourly_uv_*.nc\")))\n",
    "\n",
    "for file_path in nc_files:\n",
    "    print(f\"Processing {os.path.basename(file_path)}\")\n",
    "\n",
    "    # Open dataset\n",
    "    ds = xr.open_dataset(file_path)\n",
    "\n",
    "    # Calculate wind speed\n",
    "    wind_speed = np.sqrt(ds['u10']**2 + ds['v10']**2)\n",
    "\n",
    "    # Calculate wind direction (degrees, meteorological convention)\n",
    "    wind_dir = (180 + np.degrees(np.arctan2(ds['u10'], ds['v10']))) % 360\n",
    "\n",
    "    # Add to dataset\n",
    "    ds = ds.assign(wind_speed=wind_speed, wind_direction=wind_dir)\n",
    "\n",
    "    # Add metadata\n",
    "    ds['wind_speed'].attrs['units'] = 'm/s'\n",
    "    ds['wind_speed'].attrs['description'] = '10m wind speed calculated from u10 and v10'\n",
    "    ds['wind_direction'].attrs['units'] = 'degrees'\n",
    "    ds['wind_direction'].attrs['description'] = 'Wind direction (from which wind blows, 0°=North, clockwise)'\n",
    "\n",
    "    # Create output filename, e.g., ERA5_hourly_wind_1979.nc\n",
    "    year_str = os.path.basename(file_path).split('_')[-1].split('.')[0]\n",
    "    out_filename = f\"ERA5_hourly_wind_{year_str}.nc\"\n",
    "    out_path = os.path.join(output_folder, out_filename)\n",
    "\n",
    "    # Save only the wind_speed and wind_direction variables (optional)\n",
    "    ds[['wind_speed', 'wind_direction']].to_netcdf(out_path)\n",
    "\n",
    "    ds.close()\n",
    "\n",
    "print(\"✅ All files processed and saved.\")\n"
   ]
  }
 ],
 "metadata": {
  "language_info": {
   "name": "python"
  }
 },
 "nbformat": 4,
 "nbformat_minor": 5
}
