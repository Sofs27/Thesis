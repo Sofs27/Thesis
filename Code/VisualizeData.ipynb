{
 "cells": [
  {
   "cell_type": "markdown",
   "metadata": {},
   "source": [
    "Read .nc files"
   ]
  },
  {
   "cell_type": "code",
   "execution_count": null,
   "metadata": {},
   "outputs": [
    {
     "name": "stdout",
     "output_type": "stream",
     "text": [
      "Dataset Overview:\n",
      "\n",
      "<xarray.Dataset> Size: 74MB\n",
      "Dimensions:     (valid_time: 744, latitude: 129, longitude: 193)\n",
      "Coordinates:\n",
      "    number      int64 8B ...\n",
      "  * valid_time  (valid_time) datetime64[ns] 6kB 1979-01-01 ... 1979-01-31T23:...\n",
      "  * latitude    (latitude) float64 1kB 66.0 65.75 65.5 65.25 ... 34.5 34.25 34.0\n",
      "  * longitude   (longitude) float64 2kB -12.0 -11.75 -11.5 ... 35.5 35.75 36.0\n",
      "    expver      (valid_time) <U4 12kB ...\n",
      "Data variables:\n",
      "    t2m         (valid_time, latitude, longitude) float32 74MB ...\n",
      "Attributes:\n",
      "    GRIB_centre:             ecmf\n",
      "    GRIB_centreDescription:  European Centre for Medium-Range Weather Forecasts\n",
      "    GRIB_subCentre:          0\n",
      "    Conventions:             CF-1.7\n",
      "    institution:             European Centre for Medium-Range Weather Forecasts\n",
      "    history:                 2024-09-16T11:35 GRIB to CDM+CF via cfgrib-0.9.1...\n",
      "\n",
      "Available Variables:\n",
      "- number: (), ()\n",
      "- valid_time: ('valid_time',), (744,)\n",
      "- latitude: ('latitude',), (129,)\n",
      "- longitude: ('longitude',), (193,)\n",
      "- expver: ('valid_time',), (744,)\n",
      "- t2m: ('valid_time', 'latitude', 'longitude'), (744, 129, 193)\n"
     ]
    }
   ],
   "source": [
    "import xarray as xr\n",
    "\n",
    "# Open the NetCDF file\n",
    "file_path = r\"E:\\IPMA\\ERA5\\Temperature\\1raw_month_1979_2024\\ERA5_hourly_temp_197901.nc\"\n",
    "ds = xr.open_dataset(file_path)\n",
    "\n",
    "# Display the dataset's structure and metadata\n",
    "print(\"Dataset Overview:\\n\")\n",
    "print(ds)\n",
    "\n",
    "# List all variables in the dataset\n",
    "print(\"\\nAvailable Variables:\")\n",
    "for var in ds.variables:\n",
    "    print(f\"- {var}: {ds[var].dims}, {ds[var].shape}\")\n"
   ]
  },
  {
   "cell_type": "markdown",
   "metadata": {},
   "source": [
    "Read .mat files"
   ]
  },
  {
   "cell_type": "code",
   "execution_count": null,
   "metadata": {},
   "outputs": [],
   "source": [
    "from scipy.io import loadmat\n",
    "\n",
    "data = loadmat(r\"E:\\IPMA\\FRP\\MODIS_2001.mat\", struct_as_record=False, squeeze_me=True)\n",
    "\n",
    "dados = data[\"dados\"]  # Extract variable\n",
    "\n",
    "print(\"Type of 'dados':\", type(dados))\n",
    "\n",
    "if hasattr(dados, \"_fieldnames\"):  # Check if it's a struct\n",
    "    print(\"Struct fields:\", dados._fieldnames)\n",
    "    for field in dados._fieldnames:\n",
    "        print(f\"Field '{field}':\", getattr(dados, field))"
   ]
  },
  {
   "cell_type": "markdown",
   "metadata": {},
   "source": [
    "View on map"
   ]
  },
  {
   "cell_type": "code",
   "execution_count": null,
   "metadata": {},
   "outputs": [],
   "source": [
    "import xarray as xr\n",
    "import matplotlib.pyplot as plt\n",
    "import cartopy.crs as ccrs\n",
    "import cartopy.feature as cfeature\n",
    "\n",
    "# Load your NetCDF file (change the path accordingly)\n",
    "file_path = r\"E:\\IPMA\\SPEIbase_v2-10\\spei01.nc\"\n",
    "ds = xr.open_dataset(file_path)\n",
    "\n",
    "# Extract the data you want to plot (for example, pm10)\n",
    "pm10_data = ds['spei'].isel(time=0)  # Select the first time step (change if needed)\n",
    "\n",
    "# Extract longitude and latitude values\n",
    "lon = ds['lon'].values\n",
    "lat = ds['lat'].values\n",
    "\n",
    "# Create a figure and axis for the plot\n",
    "fig, ax = plt.subplots(figsize=(10, 6), subplot_kw={'projection': ccrs.PlateCarree()})\n",
    "\n",
    "# Set up the map: add coastlines and borders\n",
    "ax.coastlines()\n",
    "ax.add_feature(cfeature.BORDERS, linestyle=':')\n",
    "\n",
    "# Plot the data (you can adjust the colormap and other settings)\n",
    "c = ax.pcolormesh(lon, lat, pm10_data, cmap='viridis', shading='auto', transform=ccrs.PlateCarree())\n",
    "\n",
    "# Show the plot\n",
    "plt.show()\n",
    "\n",
    "# Close the dataset after processing\n",
    "ds.close()\n"
   ]
  },
  {
   "cell_type": "code",
   "execution_count": 4,
   "metadata": {},
   "outputs": [
    {
     "name": "stdout",
     "output_type": "stream",
     "text": [
      "  valid_time  latitude  longitude  number expver       t2m\n",
      "0 1979-01-01      66.0     -12.00       0   0001 -1.421967\n",
      "1 1979-01-01      66.0     -11.75       0   0001 -1.427826\n",
      "2 1979-01-01      66.0     -11.50       0   0001 -1.437592\n",
      "3 1979-01-01      66.0     -11.25       0   0001 -1.439545\n",
      "4 1979-01-01      66.0     -11.00       0   0001 -1.423920\n"
     ]
    }
   ],
   "source": [
    "import xarray as xr\n",
    "import pandas as pd\n",
    "\n",
    "# Open the NetCDF file\n",
    "nc_file = r\"E:\\IPMA\\ERA5\\Temperature\\2conversion_month_1979_2024\\ERA5_hourly_temp_197901.nc\"\n",
    "ds = xr.open_dataset(nc_file)\n",
    "\n",
    "# Convert all variables to a DataFrame\n",
    "df = ds.to_dataframe().reset_index()\n",
    "\n",
    "# Display the first few rows\n",
    "print(df.head())\n"
   ]
  },
  {
   "cell_type": "code",
   "execution_count": null,
   "metadata": {},
   "outputs": [],
   "source": [
    "import pandas as pd\n",
    "import matplotlib.pyplot as plt\n",
    "\n",
    "file_path = r\"E:\\IPMA\\RAQUEL\\FRP\\2020_2023.csv\"\n",
    "\n",
    "# Load CSV into a pandas DataFrame\n",
    "df = pd.read_csv(file_path)\n",
    "\n",
    "# Display the first few rows of the DataFrame to verify data loading\n",
    "print(df.head())"
   ]
  },
  {
   "cell_type": "code",
   "execution_count": null,
   "metadata": {},
   "outputs": [],
   "source": [
    "import numpy as np\n",
    "\n",
    "# Load the .npy file\n",
    "file_path = r\"E:\\IPMA\\RAQUEL\\SPI\\SPI3_1979.npy\"\n",
    "data = np.load(file_path)\n",
    "\n",
    "# Print structure details\n",
    "print(\"Shape:\", data.shape)\n",
    "print(\"Data type:\", data.dtype)\n",
    "print(\"Preview (first slice):\\n\", data[0])  # Print first \"layer\" of the 3D array\n"
   ]
  }
 ],
 "metadata": {
  "kernelspec": {
   "display_name": "Python 3",
   "language": "python",
   "name": "python3"
  },
  "language_info": {
   "codemirror_mode": {
    "name": "ipython",
    "version": 3
   },
   "file_extension": ".py",
   "mimetype": "text/x-python",
   "name": "python",
   "nbconvert_exporter": "python",
   "pygments_lexer": "ipython3",
   "version": "3.13.2"
  }
 },
 "nbformat": 4,
 "nbformat_minor": 2
}
