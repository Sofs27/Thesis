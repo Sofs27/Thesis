{
 "cells": [
  {
   "cell_type": "markdown",
   "metadata": {},
   "source": [
    "Read .nc files"
   ]
  },
  {
   "cell_type": "code",
   "execution_count": 1,
   "metadata": {},
   "outputs": [
    {
     "name": "stdout",
     "output_type": "stream",
     "text": [
      "Dataset Overview:\n",
      "\n",
      "<xarray.Dataset> Size: 873MB\n",
      "Dimensions:     (valid_time: 8760, latitude: 129, longitude: 193)\n",
      "Coordinates:\n",
      "    number      int64 8B ...\n",
      "  * valid_time  (valid_time) datetime64[ns] 70kB 1979-01-01 ... 1979-12-31T23...\n",
      "  * latitude    (latitude) float64 1kB 66.0 65.75 65.5 65.25 ... 34.5 34.25 34.0\n",
      "  * longitude   (longitude) float64 2kB -12.0 -11.75 -11.5 ... 35.5 35.75 36.0\n",
      "    expver      (valid_time) <U4 140kB ...\n",
      "Data variables:\n",
      "    t2m         (valid_time, latitude, longitude) float32 872MB ...\n",
      "Attributes:\n",
      "    GRIB_centre:             ecmf\n",
      "    GRIB_centreDescription:  European Centre for Medium-Range Weather Forecasts\n",
      "    GRIB_subCentre:          0\n",
      "    Conventions:             CF-1.7\n",
      "    institution:             European Centre for Medium-Range Weather Forecasts\n",
      "    history:                 2024-09-16T11:35 GRIB to CDM+CF via cfgrib-0.9.1...\n",
      "\n",
      "Available Variables:\n",
      "- number: (), ()\n",
      "- valid_time: ('valid_time',), (8760,)\n",
      "- latitude: ('latitude',), (129,)\n",
      "- longitude: ('longitude',), (193,)\n",
      "- expver: ('valid_time',), (8760,)\n",
      "- t2m: ('valid_time', 'latitude', 'longitude'), (8760, 129, 193)\n"
     ]
    }
   ],
   "source": [
    "import xarray as xr\n",
    "\n",
    "# Open the NetCDF file\n",
    "file_path = r\"E:\\IPMA\\ERA5\\Temperature\\1raw_year_1979_2024\\ERA5_hourly_temp_1979.nc\"\n",
    "ds = xr.open_dataset(file_path)\n",
    "\n",
    "# Display the dataset's structure and metadata\n",
    "print(\"Dataset Overview:\\n\")\n",
    "print(ds)\n",
    "\n",
    "# List all variables in the dataset\n",
    "print(\"\\nAvailable Variables:\")\n",
    "for var in ds.variables:\n",
    "    print(f\"- {var}: {ds[var].dims}, {ds[var].shape}\")\n"
   ]
  },
  {
   "cell_type": "markdown",
   "metadata": {},
   "source": [
    "View .nc file on map"
   ]
  },
  {
   "cell_type": "code",
   "execution_count": null,
   "metadata": {},
   "outputs": [],
   "source": [
    "# View map with nc file\n",
    "\n",
    "import xarray as xr\n",
    "import matplotlib.pyplot as plt\n",
    "import cartopy.crs as ccrs\n",
    "import cartopy.feature as cfeature\n",
    "\n",
    "# Load your NetCDF file (change the path accordingly)\n",
    "file_path = r\"C:\\Users\\sofia\\Downloads\\a8c992ddacd071fe10c701ccfcfc7d11\\data_mlev.nc\"\n",
    "ds = xr.open_dataset(file_path)\n",
    "\n",
    "# Extract the data you want to plot (for example, pm10)\n",
    "pm10_data = ds['co'].isel(valid_time=0)  # Select the first time step (change if needed)\n",
    "\n",
    "# Extract longitude and latitude values\n",
    "lon = ds['longitude'].values\n",
    "lat = ds['latitude'].values\n",
    "\n",
    "# Create a figure and axis for the plot\n",
    "fig, ax = plt.subplots(figsize=(10, 6), subplot_kw={'projection': ccrs.PlateCarree()})\n",
    "\n",
    "# Set up the map: add coastlines and borders\n",
    "ax.coastlines()\n",
    "ax.add_feature(cfeature.BORDERS, linestyle=':')\n",
    "\n",
    "# Plot the data (you can adjust the colormap and other settings)\n",
    "c = ax.pcolormesh(lon, lat, pm10_data, cmap='viridis', shading='auto', transform=ccrs.PlateCarree())\n",
    "\n",
    "# Show the plot\n",
    "plt.show()\n",
    "\n",
    "# Close the dataset after processing\n",
    "ds.close()\n"
   ]
  },
  {
   "cell_type": "markdown",
   "metadata": {},
   "source": [
    "View nc file in table"
   ]
  },
  {
   "cell_type": "code",
   "execution_count": null,
   "metadata": {},
   "outputs": [],
   "source": [
    "import xarray as xr\n",
    "import pandas as pd\n",
    "\n",
    "# Open the NetCDF file\n",
    "nc_file = r\"C:\\Users\\sofia\\Downloads\\36fa999821fd8a1deb33bbe20d023c88\\New folder\\CAMS_global_reanalysis_EAC4_chem_multlvl_202201.nc\"\n",
    "ds = xr.open_dataset(nc_file)\n",
    "\n",
    "# Convert all variables to a DataFrame\n",
    "df = ds.to_dataframe().reset_index()\n",
    "\n",
    "# Display the first few rows\n",
    "print(df.head())\n",
    "\n",
    "df\n"
   ]
  },
  {
   "cell_type": "markdown",
   "metadata": {},
   "source": [
    "Read .mat files"
   ]
  },
  {
   "cell_type": "code",
   "execution_count": null,
   "metadata": {},
   "outputs": [],
   "source": [
    "from scipy.io import loadmat\n",
    "\n",
    "data = loadmat(r\"E:\\IPMA\\Sources\\Virgilio\\FRP\\MODIS_2001.mat\", struct_as_record=False, squeeze_me=True)\n",
    "\n",
    "dados = data[\"dados\"]  # Extract variable\n",
    "\n",
    "print(\"Type of 'dados':\", type(dados))\n",
    "\n",
    "if hasattr(dados, \"_fieldnames\"):  # Check if it's a struct\n",
    "    print(\"Struct fields:\", dados._fieldnames)\n",
    "    for field in dados._fieldnames:\n",
    "        print(f\"Field '{field}':\", getattr(dados, field))"
   ]
  },
  {
   "cell_type": "markdown",
   "metadata": {},
   "source": [
    "View .mat on map"
   ]
  },
  {
   "cell_type": "code",
   "execution_count": null,
   "metadata": {},
   "outputs": [],
   "source": [
    "import scipy.io\n",
    "import folium\n",
    "\n",
    "# Step 1: Load the .mat file\n",
    "mat_data = scipy.io.loadmat(r\"E:\\IPMA\\Sources\\Virgilio\\FRP\\MODIS_2001.mat\")  # Replace 'your_file.mat' with your file's name\n",
    "\n",
    "# Step 2: Inspect the contents of the .mat file to find the data\n",
    "print(mat_data.keys())  # This will list all variables in the .mat file\n",
    "\n",
    "# Step 3: Extract latitude and longitude (adjust if your data keys are different)\n",
    "# Assuming that 'latitudes' and 'longitudes' are the keys in your .mat file\n",
    "latitudes = mat_data['lat'].flatten()  # Flatten in case the data is in an array form\n",
    "longitudes = mat_data['lon'].flatten()\n",
    "\n",
    "# Step 4: Create a map centered around the first set of coordinates (you can adjust this)\n",
    "my_map = folium.Map(location=[latitudes[0], longitudes[0]], zoom_start=10)\n",
    "\n",
    "# Step 5: Add markers for each coordinate pair\n",
    "for lat, lon in zip(latitudes, longitudes):\n",
    "    folium.Marker([lat, lon]).add_to(my_map)\n",
    "\n",
    "# Step 6: Save the map to an HTML file\n",
    "my_map.save(\"map.html\")\n",
    "\n",
    "# Step 7: Instructions to view the map\n",
    "print(\"Map saved as 'map.html'. Open it in a browser to view the map.\")\n"
   ]
  },
  {
   "cell_type": "markdown",
   "metadata": {},
   "source": [
    "View .csv file on table"
   ]
  },
  {
   "cell_type": "code",
   "execution_count": null,
   "metadata": {},
   "outputs": [],
   "source": [
    "import pandas as pd\n",
    "import matplotlib.pyplot as plt\n",
    "\n",
    "file_path = r\"E:/IPMA/ERA5/Temperature/yearly_temperature_stats.csv\"\n",
    "\n",
    "# Load CSV into a pandas DataFrame\n",
    "df = pd.read_csv(file_path)\n",
    "\n",
    "# Display the first few rows of the DataFrame to verify data loading\n",
    "print(df.head())"
   ]
  },
  {
   "cell_type": "markdown",
   "metadata": {},
   "source": [
    "View csv file on map"
   ]
  },
  {
   "cell_type": "code",
   "execution_count": null,
   "metadata": {},
   "outputs": [],
   "source": [
    "# View map with csv file\n",
    "\n",
    "import pandas as pd\n",
    "import geopandas as gpd\n",
    "import matplotlib.pyplot as plt\n",
    "from shapely.geometry import Point\n",
    "\n",
    "# Load the dataset\n",
    "df = pd.read_csv(r\"E:\\IPMA\\FRP\\FRP_2001_2023.csv\")\n",
    "\n",
    "# Convert \"acq_date\" to datetime format and extract year & month\n",
    "df[\"acq_date\"] = pd.to_datetime(df[\"acq_date\"])\n",
    "df[\"year\"] = df[\"acq_date\"].dt.year\n",
    "df[\"month\"] = df[\"acq_date\"].dt.month  # Extract month as integer (1-12)\n",
    "\n",
    "# Select the year (required) and month (optional)\n",
    "selected_year = 2020  # Change to desired year (2001-2023)\n",
    "selected_month = 7  # Set to None to include all months OR set a value (1-12)\n",
    "\n",
    "# Filter the dataset\n",
    "if selected_month is not None:\n",
    "    df = df[(df[\"year\"] == selected_year) & (df[\"month\"] == selected_month)]\n",
    "else:\n",
    "    df = df[df[\"year\"] == selected_year]  # Only filter by year\n",
    "\n",
    "# Convert to GeoDataFrame if data exists\n",
    "if not df.empty:\n",
    "    geometry = [Point(xy) for xy in zip(df[\"longitude\"], df[\"latitude\"])]\n",
    "    gdf = gpd.GeoDataFrame(df, geometry=geometry, crs=\"EPSG:4326\")  # WGS84 CRS\n",
    "\n",
    "    # Plot the filtered points\n",
    "    fig, ax = plt.subplots(figsize=(8, 6))\n",
    "    gdf.plot(ax=ax, color=\"blue\", markersize=10, alpha=0.5)\n",
    "\n",
    "    title = f\"Mapped Locations for {selected_year}\"\n",
    "    if selected_month is not None:\n",
    "        title += f\"-{selected_month:02d}\"  # Format as YYYY-MM\n",
    "\n",
    "    plt.title(title)\n",
    "    plt.xlabel(\"Longitude\")\n",
    "    plt.ylabel(\"Latitude\")\n",
    "    plt.grid(True)\n",
    "\n",
    "    plt.show()\n",
    "else:\n",
    "    no_data_msg = f\"No data available for {selected_year}\"\n",
    "    if selected_month is not None:\n",
    "        no_data_msg += f\"-{selected_month:02d}\"\n",
    "    print(no_data_msg)\n",
    "\n"
   ]
  },
  {
   "cell_type": "markdown",
   "metadata": {},
   "source": [
    "View npy file"
   ]
  },
  {
   "cell_type": "code",
   "execution_count": null,
   "metadata": {},
   "outputs": [],
   "source": [
    "import numpy as np\n",
    "\n",
    "# Load the .npy file\n",
    "file_path = r\"E:\\IPMA\\SPEI\\SPEI3\\SPEI3_1979.npy\"\n",
    "data = np.load(file_path)\n",
    "\n",
    "# Print structure details\n",
    "print(\"Shape:\", data.shape)\n",
    "print(\"Data type:\", data.dtype)\n",
    "print(\"Preview (first slice):\\n\", data[0])  # Print first \"layer\" of the 3D array"
   ]
  },
  {
   "cell_type": "code",
   "execution_count": null,
   "metadata": {},
   "outputs": [],
   "source": [
    "# To view .npy on map\n",
    "\n",
    "import numpy as np\n",
    "import matplotlib.pyplot as plt\n",
    "import cartopy.crs as ccrs\n",
    "\n",
    "# Load your data (replace with actual .npy file loading)\n",
    "file_path = r\"E:\\IPMA\\SPI\\SPI3\\SPI3_1979.npy\"\n",
    "data = np.load(file_path)\n",
    "\n",
    "# Check the shape of the data\n",
    "print(f\"Data shape: {data.shape}\")  # Should be (time, lat, lon)\n",
    "\n",
    "# Assume latitudes and longitudes based on the shape of the data\n",
    "time_size, lat_size, lon_size = data.shape\n",
    "lat_values = np.linspace(34, 66, lat_size)  # Latitude range from -90 to 90 degrees\n",
    "lon_values = np.linspace(-12, 36, lon_size)  # Longitude range from -180 to 180 degrees\n",
    "\n",
    "# Create a 2D meshgrid of latitude and longitude for plotting\n",
    "lon_grid, lat_grid = np.meshgrid(lon_values, lat_values)\n",
    "\n",
    "# Plot the data using Cartopy (selecting the first time slice as a sample)\n",
    "fig, ax = plt.subplots(figsize=(10, 8), subplot_kw={'projection': ccrs.PlateCarree()})\n",
    "ax.set_extent([lon_values.min(), lon_values.max(), lat_values.min(), lat_values.max()])\n",
    "\n",
    "# Add coastlines and gridlines\n",
    "ax.coastlines()\n",
    "ax.gridlines(draw_labels=True)\n",
    "\n",
    "# Plot the first time slice (index 0) from the data\n",
    "data_slice = data[0, :, :]  # First time slice\n",
    "c = ax.pcolormesh(lon_grid, lat_grid, data_slice, cmap=\"viridis\", shading='auto', transform=ccrs.PlateCarree())\n",
    "fig.colorbar(c, ax=ax, orientation=\"vertical\", label=\"Data Value\")\n",
    "\n",
    "plt.title(\"Geospatial Data: First Time Slice\")\n",
    "plt.show()\n",
    "\n"
   ]
  }
 ],
 "metadata": {
  "kernelspec": {
   "display_name": "Python 3",
   "language": "python",
   "name": "python3"
  },
  "language_info": {
   "codemirror_mode": {
    "name": "ipython",
    "version": 3
   },
   "file_extension": ".py",
   "mimetype": "text/x-python",
   "name": "python",
   "nbconvert_exporter": "python",
   "pygments_lexer": "ipython3",
   "version": "3.13.3"
  }
 },
 "nbformat": 4,
 "nbformat_minor": 2
}
