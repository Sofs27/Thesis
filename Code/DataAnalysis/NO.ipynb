{
 "cells": [
  {
   "cell_type": "markdown",
   "metadata": {},
   "source": [
    "CAMS\n",
    "\n",
    "- mean, median, std, min, max for NO values by year and year-month\n",
    "\n",
    "- maps for both results\n"
   ]
  }
 ],
 "metadata": {
  "language_info": {
   "name": "python"
  }
 },
 "nbformat": 4,
 "nbformat_minor": 2
}
