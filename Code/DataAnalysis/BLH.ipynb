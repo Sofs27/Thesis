{
 "cells": [
  {
   "cell_type": "markdown",
   "metadata": {},
   "source": [
    "ERA5\n",
    "\n",
    "- mean, median, std, min, max for BLH values by year and year-month\n",
    "\n",
    "- maps for both results\n"
   ]
  }
 ],
 "metadata": {
  "language_info": {
   "name": "python"
  }
 },
 "nbformat": 4,
 "nbformat_minor": 2
}
