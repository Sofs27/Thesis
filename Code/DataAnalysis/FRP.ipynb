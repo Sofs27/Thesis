{
 "cells": [
  {
   "cell_type": "markdown",
   "metadata": {},
   "source": [
    "FRP\n",
    "\n",
    "- mean, median, std, min, max for frp values\n",
    "\n",
    "- total observations"
   ]
  },
  {
   "cell_type": "code",
   "execution_count": null,
   "metadata": {},
   "outputs": [],
   "source": [
    "import pandas as pd\n",
    "import matplotlib.pyplot as plt\n",
    "\n",
    "# Load the dataset\n",
    "df = pd.read_csv(r\"E:\\IPMA\\FRP\\FRP_2001_2023.csv\")\n",
    "\n",
    "# Display the first few rows of the dataset to check the structure\n",
    "df.head()\n",
    "\n",
    "# Convert the 'acq_date' column to datetime format\n",
    "df['acq_date'] = pd.to_datetime(df['acq_date'])\n",
    "\n",
    "# Extract the year, month, and day from the 'acq_date' column\n",
    "df['year'] = df['acq_date'].dt.year\n",
    "df['month'] = df['acq_date'].dt.month\n",
    "df['day'] = df['acq_date'].dt.day\n",
    "\n",
    "# Display the dataset to ensure the new columns were added correctly\n",
    "df.head()\n"
   ]
  },
  {
   "cell_type": "code",
   "execution_count": null,
   "metadata": {},
   "outputs": [],
   "source": [
    "# Calculate the summary statistics (mean, median, std, min, max) for FRP by year\n",
    "yearly_stats = df.groupby('year')['frp'].agg(['mean', 'median', 'std', 'min', 'max']).reset_index()\n",
    "\n",
    "# Display the yearly statistics table\n",
    "yearly_stats\n"
   ]
  },
  {
   "cell_type": "code",
   "execution_count": null,
   "metadata": {},
   "outputs": [],
   "source": [
    "# Count the number of observations per year\n",
    "yearly_counts = df.groupby('year').size().reset_index(name='count')\n",
    "\n",
    "# Display the table of observations per year\n",
    "yearly_counts\n"
   ]
  },
  {
   "cell_type": "code",
   "execution_count": null,
   "metadata": {},
   "outputs": [],
   "source": [
    "# Count the number of observations per month (group by year and month)\n",
    "monthly_counts = df.groupby(['year', 'month']).size().reset_index(name='count')\n",
    "\n",
    "# Display the table of observations per month\n",
    "monthly_counts\n"
   ]
  },
  {
   "cell_type": "code",
   "execution_count": null,
   "metadata": {},
   "outputs": [],
   "source": [
    "# Count the number of observations per day (group by year, month, and day)\n",
    "daily_counts = df.groupby(['year', 'month', 'day']).size().reset_index(name='count')\n",
    "\n",
    "# Display the table of observations per day\n",
    "daily_counts\n"
   ]
  },
  {
   "cell_type": "code",
   "execution_count": null,
   "metadata": {},
   "outputs": [],
   "source": [
    "# Plot the mean FRP values per year\n",
    "plt.figure(figsize=(5, 3))\n",
    "plt.plot(yearly_stats['year'], yearly_stats['mean'], marker='o', label='Mean FRP')\n",
    "plt.fill_between(yearly_stats['year'], yearly_stats['mean'] - yearly_stats['std'], yearly_stats['mean'] + yearly_stats['std'], alpha=0.2, label='Standard Deviation')\n",
    "plt.xlabel('Year')\n",
    "plt.ylabel('FRP (Mean)')\n",
    "plt.title('Mean Fire Radiative Power (FRP) by Year')\n",
    "plt.legend()\n",
    "plt.grid(True)\n",
    "plt.show()\n"
   ]
  },
  {
   "cell_type": "code",
   "execution_count": null,
   "metadata": {},
   "outputs": [],
   "source": [
    "# Plotting the yearly mean FRP to visualize trends\n",
    "plt.figure(figsize=(5, 3))\n",
    "plt.plot(yearly_stats['year'], yearly_stats['mean'], marker='o')\n",
    "plt.title(\"Trend of Mean FRP Over Time\")\n",
    "plt.xlabel(\"Year\")\n",
    "plt.ylabel(\"Mean FRP\")\n",
    "plt.grid(True)\n",
    "plt.show()\n"
   ]
  },
  {
   "cell_type": "code",
   "execution_count": null,
   "metadata": {},
   "outputs": [],
   "source": [
    "# Calculate the total FRP per year\n",
    "total_frp = df.groupby('year')['frp'].sum().reset_index()\n",
    "\n",
    "# Plot the total FRP by year\n",
    "plt.figure(figsize=(5, 3))\n",
    "plt.bar(total_frp['year'], total_frp['frp'], color='skyblue')\n",
    "plt.xlabel('Year')\n",
    "plt.ylabel('Total FRP')\n",
    "plt.title('Total Fire Radiative Power (FRP) by Year')\n",
    "plt.grid(True)\n",
    "plt.show()\n"
   ]
  },
  {
   "cell_type": "code",
   "execution_count": null,
   "metadata": {},
   "outputs": [],
   "source": [
    "# Count the number of observations per year\n",
    "yearly_counts = df.groupby('year').size().reset_index(name='count')\n",
    "\n",
    "# Plot the count of observations per year\n",
    "plt.figure(figsize=(5, 3))\n",
    "plt.bar(yearly_counts['year'], yearly_counts['count'], color='lightgreen')\n",
    "plt.xlabel('Year')\n",
    "plt.ylabel('Number of Observations')\n",
    "plt.title('Number of Observations per Year')\n",
    "plt.grid(True)\n",
    "plt.show()\n"
   ]
  }
 ],
 "metadata": {
  "language_info": {
   "name": "python"
  }
 },
 "nbformat": 4,
 "nbformat_minor": 2
}
