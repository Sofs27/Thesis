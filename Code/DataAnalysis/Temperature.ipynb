{
 "cells": [
  {
   "cell_type": "markdown",
   "metadata": {},
   "source": [
    "ERA5\n",
    "\n",
    "- mean, median, std, min, max for temperature values by year and year-month\n",
    "\n",
    "- maps for both results\n"
   ]
  },
  {
   "cell_type": "markdown",
   "metadata": {},
   "source": [
    "Yearly"
   ]
  },
  {
   "cell_type": "code",
   "execution_count": 24,
   "metadata": {},
   "outputs": [
    {
     "name": "stdout",
     "output_type": "stream",
     "text": [
      "                              Mean     Median       Std        Max        Min  \\\n",
      "Year latitude longitude                                                         \n",
      "1979 66.0     -12.00      2.255764   2.729889  3.252716   8.246246  -7.719116   \n",
      "              -11.75      2.289942   2.743164  3.252384   8.375153  -7.681305   \n",
      "              -11.50      2.330900   2.761765  3.262223   8.488434  -7.620758   \n",
      "              -11.25      2.373588   2.771454  3.270669   8.593903  -7.581696   \n",
      "              -11.00      2.420127   2.807159  3.273650   8.683746  -7.583649   \n",
      "...                            ...        ...       ...        ...        ...   \n",
      "2024 34.0      35.00     22.002655  21.498932  4.703494  30.666901  11.472931   \n",
      "               35.25     22.159859  21.750397  4.771343  30.389313  11.465302   \n",
      "               35.50     20.894817  20.781891  5.831040  33.362213   7.023712   \n",
      "               35.75     16.874855  16.751373  7.154270  32.466705  -0.911835   \n",
      "               36.00     14.095116  13.774689  8.582687  33.381012  -8.364960   \n",
      "\n",
      "                         number  \n",
      "Year latitude longitude          \n",
      "1979 66.0     -12.00          0  \n",
      "              -11.75          0  \n",
      "              -11.50          0  \n",
      "              -11.25          0  \n",
      "              -11.00          0  \n",
      "...                         ...  \n",
      "2024 34.0      35.00          0  \n",
      "               35.25          0  \n",
      "               35.50          0  \n",
      "               35.75          0  \n",
      "               36.00          0  \n",
      "\n",
      "[1145262 rows x 6 columns]\n"
     ]
    }
   ],
   "source": [
    "import xarray as xr\n",
    "import pandas as pd\n",
    "import os\n",
    "import numpy as np\n",
    "\n",
    "# Define the folder containing NetCDF files\n",
    "folder_path = r\"E:\\IPMA\\ERA5\\Temperature\\2conversion_year_1979_2024\"\n",
    "\n",
    "# Get a sorted list of all NetCDF files in the folder\n",
    "file_list = sorted([f for f in os.listdir(folder_path) if f.endswith(\".nc\")])\n",
    "\n",
    "# Initialize an empty list to store yearly DataFrames\n",
    "df_list = []\n",
    "\n",
    "# Process each file (each corresponding to a year)\n",
    "for file in file_list:\n",
    "    file_path = os.path.join(folder_path, file)\n",
    "    \n",
    "    # Open the dataset using memory-efficient lazy loading\n",
    "    ds = xr.open_dataset(file_path, chunks={'valid_time': 500})  # Process in chunks\n",
    "    \n",
    "    # Extract the year from the 'valid_time' dimension\n",
    "    year = ds['valid_time'].dt.year.values[0]  # Extract the year from the first time step\n",
    "    \n",
    "    # Get the temperature data as a numpy array\n",
    "    temp_data = ds['t2m'].values  # Numpy array (all time steps)\n",
    "\n",
    "    # Compute statistics using numpy's nan functions\n",
    "    mean = np.nanmean(temp_data, axis=0)\n",
    "    median = np.nanmedian(temp_data, axis=0)\n",
    "    std = np.nanstd(temp_data, axis=0)\n",
    "    max_ = np.nanmax(temp_data, axis=0)\n",
    "    min_ = np.nanmin(temp_data, axis=0)\n",
    "    \n",
    "    # Combine results into a new dataset\n",
    "    stats = xr.Dataset({\n",
    "        'Mean': (['latitude', 'longitude'], mean),\n",
    "        'Median': (['latitude', 'longitude'], median),\n",
    "        'Std': (['latitude', 'longitude'], std),\n",
    "        'Max': (['latitude', 'longitude'], max_),\n",
    "        'Min': (['latitude', 'longitude'], min_)\n",
    "    }, coords={'latitude': ds['latitude'], 'longitude': ds['longitude']})\n",
    "\n",
    "    # Convert to DataFrame and restructure\n",
    "    stats_df = stats.to_dataframe().reset_index()\n",
    "    stats_df['Year'] = year  # Add the year directly from valid_time\n",
    "    stats_df = stats_df.set_index(['Year', 'latitude', 'longitude'])\n",
    "    \n",
    "    # Append to list\n",
    "    df_list.append(stats_df)\n",
    "\n",
    "# Concatenate all years into a single DataFrame\n",
    "df_final = pd.concat(df_list)\n",
    "\n",
    "# Display the DataFrame\n",
    "print(df_final)\n"
   ]
  },
  {
   "cell_type": "code",
   "execution_count": 26,
   "metadata": {},
   "outputs": [
    {
     "name": "stdout",
     "output_type": "stream",
     "text": [
      "Dataset saved to: E:\\IPMA\\ERA5\\Temperature\\yearly_temperature_stats.nc\n"
     ]
    }
   ],
   "source": [
    "# Convert the pandas DataFrame back to an xarray Dataset\n",
    "df_final_xr = df_final.reset_index().set_index(['Year', 'latitude', 'longitude'])\n",
    "df_final_xr = df_final_xr.to_xarray()\n",
    "\n",
    "# Save the xarray Dataset to a NetCDF file\n",
    "output_file_path = r\"E:\\IPMA\\ERA5\\Temperature\\yearly_temperature_stats.nc\"\n",
    "df_final_xr.to_netcdf(output_file_path)\n",
    "\n",
    "print(f\"Dataset saved to: {output_file_path}\")\n"
   ]
  },
  {
   "cell_type": "code",
   "execution_count": null,
   "metadata": {},
   "outputs": [],
   "source": []
  },
  {
   "cell_type": "markdown",
   "metadata": {},
   "source": [
    "Monthly"
   ]
  },
  {
   "cell_type": "code",
   "execution_count": 27,
   "metadata": {},
   "outputs": [
    {
     "name": "stdout",
     "output_type": "stream",
     "text": [
      "                                    Mean     Median       Std        Max  \\\n",
      "Year Month latitude longitude                                              \n",
      "1979 1     66.0     -12.00      2.255764   2.729889  3.252716   8.246246   \n",
      "                    -11.75      2.289942   2.743164  3.252384   8.375153   \n",
      "                    -11.50      2.330900   2.761765  3.262223   8.488434   \n",
      "                    -11.25      2.373588   2.771454  3.270669   8.593903   \n",
      "                    -11.00      2.420127   2.807159  3.273650   8.683746   \n",
      "...                                  ...        ...       ...        ...   \n",
      "2024 1     34.0      35.00     22.002655  21.498932  4.703494  30.666901   \n",
      "                     35.25     22.159859  21.750397  4.771343  30.389313   \n",
      "                     35.50     20.894817  20.781891  5.831040  33.362213   \n",
      "                     35.75     16.874855  16.751373  7.154270  32.466705   \n",
      "                     36.00     14.095116  13.774689  8.582687  33.381012   \n",
      "\n",
      "                                     Min  number  \n",
      "Year Month latitude longitude                     \n",
      "1979 1     66.0     -12.00     -7.719116       0  \n",
      "                    -11.75     -7.681305       0  \n",
      "                    -11.50     -7.620758       0  \n",
      "                    -11.25     -7.581696       0  \n",
      "                    -11.00     -7.583649       0  \n",
      "...                                  ...     ...  \n",
      "2024 1     34.0      35.00     11.472931       0  \n",
      "                     35.25     11.465302       0  \n",
      "                     35.50      7.023712       0  \n",
      "                     35.75     -0.911835       0  \n",
      "                     36.00     -8.364960       0  \n",
      "\n",
      "[1145262 rows x 6 columns]\n"
     ]
    }
   ],
   "source": [
    "import xarray as xr\n",
    "import pandas as pd\n",
    "import os\n",
    "import numpy as np\n",
    "\n",
    "# Define the folder containing NetCDF files\n",
    "folder_path = r\"E:\\IPMA\\ERA5\\Temperature\\2conversion_year_1979_2024\"\n",
    "\n",
    "# Get a sorted list of all NetCDF files in the folder\n",
    "file_list = sorted([f for f in os.listdir(folder_path) if f.endswith(\".nc\")])\n",
    "\n",
    "# Initialize an empty list to store monthly DataFrames\n",
    "df_list = []\n",
    "\n",
    "# Process each file (each corresponding to a year)\n",
    "for file in file_list:\n",
    "    file_path = os.path.join(folder_path, file)\n",
    "    \n",
    "    # Open the dataset using memory-efficient lazy loading\n",
    "    ds = xr.open_dataset(file_path, chunks={'valid_time': 500})  # Process in chunks\n",
    "    \n",
    "    # Extract year and month from the 'valid_time' dimension\n",
    "    ds.coords['year'] = ds['valid_time'].dt.year\n",
    "    ds.coords['month'] = ds['valid_time'].dt.month\n",
    "    \n",
    "    # Get the temperature data as a numpy array (time, latitude, longitude)\n",
    "    temp_data = ds['t2m'].values\n",
    "    \n",
    "    # Calculate statistics using numpy's nan functions along the 'valid_time' dimension\n",
    "    mean = np.nanmean(temp_data, axis=0)\n",
    "    median = np.nanmedian(temp_data, axis=0)\n",
    "    std = np.nanstd(temp_data, axis=0)\n",
    "    max_ = np.nanmax(temp_data, axis=0)\n",
    "    min_ = np.nanmin(temp_data, axis=0)\n",
    "    \n",
    "    # Create a new xarray Dataset for the statistics\n",
    "    stats = xr.Dataset({\n",
    "        'Mean': (['latitude', 'longitude'], mean),\n",
    "        'Median': (['latitude', 'longitude'], median),\n",
    "        'Std': (['latitude', 'longitude'], std),\n",
    "        'Max': (['latitude', 'longitude'], max_),\n",
    "        'Min': (['latitude', 'longitude'], min_)\n",
    "    }, coords={'latitude': ds['latitude'], 'longitude': ds['longitude']})\n",
    "    \n",
    "    # Convert to DataFrame and restructure\n",
    "    stats_df = stats.to_dataframe().reset_index()\n",
    "    stats_df['Year'] = ds['year'].values[0]  # Add the year directly from valid_time\n",
    "    stats_df['Month'] = ds['month'].values[0]  # Add the month directly from valid_time\n",
    "    stats_df = stats_df.set_index(['Year', 'Month', 'latitude', 'longitude'])\n",
    "    \n",
    "    # Append to list\n",
    "    df_list.append(stats_df)\n",
    "\n",
    "# Concatenate all years into a single DataFrame\n",
    "df_final = pd.concat(df_list)\n",
    "\n",
    "# Display the DataFrame\n",
    "print(df_final)\n"
   ]
  },
  {
   "cell_type": "code",
   "execution_count": 28,
   "metadata": {},
   "outputs": [
    {
     "name": "stdout",
     "output_type": "stream",
     "text": [
      "Dataset saved to: E:\\IPMA\\ERA5\\Temperature\\monthly_temperature_stats.nc\n"
     ]
    }
   ],
   "source": [
    "# Convert the pandas DataFrame back to an xarray Dataset\n",
    "df_final_xr = df_final.reset_index().set_index(['Year', 'latitude', 'longitude'])\n",
    "df_final_xr = df_final_xr.to_xarray()\n",
    "\n",
    "# Save the xarray Dataset to a NetCDF file\n",
    "output_file_path = r\"E:\\IPMA\\ERA5\\Temperature\\monthly_temperature_stats.nc\"\n",
    "df_final_xr.to_netcdf(output_file_path)\n",
    "\n",
    "print(f\"Dataset saved to: {output_file_path}\")\n"
   ]
  },
  {
   "cell_type": "code",
   "execution_count": null,
   "metadata": {},
   "outputs": [],
   "source": []
  }
 ],
 "metadata": {
  "kernelspec": {
   "display_name": "Python 3",
   "language": "python",
   "name": "python3"
  },
  "language_info": {
   "codemirror_mode": {
    "name": "ipython",
    "version": 3
   },
   "file_extension": ".py",
   "mimetype": "text/x-python",
   "name": "python",
   "nbconvert_exporter": "python",
   "pygments_lexer": "ipython3",
   "version": "3.13.2"
  }
 },
 "nbformat": 4,
 "nbformat_minor": 2
}
