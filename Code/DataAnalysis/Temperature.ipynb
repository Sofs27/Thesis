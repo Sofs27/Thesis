{
 "cells": [
  {
   "cell_type": "markdown",
   "metadata": {},
   "source": [
    "ERA5\n",
    "\n",
    "- mean, median, std, min, max for frp values\n",
    "\n",
    "- total observations"
   ]
  },
  {
   "cell_type": "code",
   "execution_count": null,
   "metadata": {},
   "outputs": [],
   "source": [
    "import os\n",
    "import xarray as xr\n",
    "import pandas as pd\n",
    "import numpy as np\n",
    "\n",
    "def analyze_temperature(folder_path, variable_name):\n",
    "    \"\"\"\n",
    "    Analyze temperature data from NetCDF (.nc) files in a folder.\n",
    "    \n",
    "    Parameters:\n",
    "    folder_path (str): Path to the folder containing .nc files.\n",
    "    variable_name (str): Name of the temperature variable in the NetCDF files.\n",
    "\n",
    "    Returns:\n",
    "    pd.DataFrame: Summary statistics (mean, median, std, min, max) for each file.\n",
    "    \"\"\"\n",
    "    results = []\n",
    "\n",
    "    for filename in sorted(os.listdir(folder_path)):\n",
    "        if filename.endswith(\".nc\"):\n",
    "            file_path = os.path.join(folder_path, filename)\n",
    "\n",
    "            # Open NetCDF file\n",
    "            ds = xr.open_dataset(file_path)\n",
    "            \n",
    "            # Ensure variable exists\n",
    "            if variable_name in ds:\n",
    "                temp_data = ds[variable_name].values.flatten()  # Flatten for easier stats\n",
    "                \n",
    "                # Compute statistics\n",
    "                stats = {\n",
    "                    \"Year\": filename,  # Assuming each file represents one year\n",
    "                    \"Mean\": temp_data.mean(),\n",
    "                    \"Median\": np.median(temp_data),\n",
    "                    \"Std Dev\": temp_data.std(),\n",
    "                    \"Min\": temp_data.min(),\n",
    "                    \"Max\": temp_data.max()\n",
    "                }\n",
    "                results.append(stats)\n",
    "\n",
    "            ds.close()  # Close dataset\n",
    "\n",
    "    # Convert to DataFrame\n",
    "    df_results = pd.DataFrame(results)\n",
    "    return df_results\n",
    "\n",
    "# Example usage\n",
    "folder_path = r\"E:\\IPMA\\ERA5\\Temperature\\2conversion_year_1979_2024\"\n",
    "variable_name = \"t2m\"  # Change this to match the NetCDF variable name\n",
    "df_summary = analyze_temperature(folder_path, variable_name)\n",
    "print(df_summary)\n"
   ]
  }
 ],
 "metadata": {
  "language_info": {
   "name": "python"
  }
 },
 "nbformat": 4,
 "nbformat_minor": 2
}
