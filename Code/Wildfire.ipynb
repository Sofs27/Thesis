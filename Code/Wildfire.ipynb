{
 "cells": [
  {
   "cell_type": "markdown",
   "id": "52b8b9b1",
   "metadata": {},
   "source": [
    "FRP"
   ]
  },
  {
   "cell_type": "code",
   "execution_count": null,
   "id": "243bbd83",
   "metadata": {},
   "outputs": [],
   "source": [
    "#Time Series"
   ]
  },
  {
   "cell_type": "code",
   "execution_count": null,
   "id": "31ada036",
   "metadata": {},
   "outputs": [],
   "source": [
    "#Variability boxplot"
   ]
  },
  {
   "cell_type": "code",
   "execution_count": null,
   "id": "e9801245",
   "metadata": {},
   "outputs": [],
   "source": [
    "#Excedencias tabela total"
   ]
  },
  {
   "cell_type": "code",
   "execution_count": null,
   "id": "7967c7ab",
   "metadata": {},
   "outputs": [],
   "source": [
    "#Fire days"
   ]
  },
  {
   "cell_type": "code",
   "execution_count": null,
   "id": "103cafcc",
   "metadata": {},
   "outputs": [],
   "source": [
    "#No Fire days"
   ]
  },
  {
   "cell_type": "code",
   "execution_count": null,
   "id": "9b16244c",
   "metadata": {},
   "outputs": [],
   "source": [
    "#FRP para grelha"
   ]
  }
 ],
 "metadata": {
  "language_info": {
   "name": "python"
  }
 },
 "nbformat": 4,
 "nbformat_minor": 5
}
