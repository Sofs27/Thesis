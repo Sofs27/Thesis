{
 "cells": [
  {
   "cell_type": "markdown",
   "metadata": {},
   "source": [
    "CAMS single level"
   ]
  },
  {
   "cell_type": "code",
   "execution_count": null,
   "metadata": {},
   "outputs": [],
   "source": [
    "# To create mean/total values of each day in a new column - NOT DONE\n",
    "\n",
    "import os\n",
    "import xarray as xr\n",
    "import pandas as pd\n",
    "\n",
    "# Function to process a single file\n",
    "def process_nc_file(nc_file, output_folder):\n",
    "    # Load the .nc file using xarray\n",
    "    ds = xr.open_dataset(nc_file)\n",
    "    \n",
    "    # Convert the data to pandas DataFrame for easier manipulation\n",
    "    df = ds.to_dataframe().reset_index()\n",
    "    \n",
    "    # Ensure the time is in datetime format\n",
    "    df['time'] = pd.to_datetime(df['time'])\n",
    "    \n",
    "    # Group by date and calculate mean and total for each day\n",
    "    df['date'] = df['time'].dt.date\n",
    "    daily_stats = df.groupby('date')[['pm10', 'pm1', 'pm2p5']].agg(['mean', 'sum']).reset_index()\n",
    "    \n",
    "    # Flatten multi-level columns (after aggregation)\n",
    "    daily_stats.columns = ['_'.join(col).strip() for col in daily_stats.columns.values]\n",
    "    \n",
    "    # Merge the daily statistics back into the original dataframe\n",
    "    df = pd.merge(df, daily_stats, how='left', on='date')\n",
    "    \n",
    "    # Save the processed data to a new file (CSV, or netCDF again if needed)\n",
    "    output_path = os.path.join(output_folder, os.path.basename(nc_file).replace('.nc', '_mean_total.csv'))\n",
    "    df.to_csv(output_path, index=False)\n",
    "    print(f\"Processed {nc_file} and saved to {output_path}\")\n",
    "\n",
    "# Main function to go over all the files in a folder\n",
    "def process_nc_files(input_folder, output_folder):\n",
    "    # Ensure the output folder exists\n",
    "    if not os.path.exists(output_folder):\n",
    "        os.makedirs(output_folder)\n",
    "    \n",
    "    # List all the .nc files in the input folder\n",
    "    nc_files = [f for f in os.listdir(input_folder) if f.endswith('.nc')]\n",
    "    \n",
    "    # Process each file\n",
    "    for nc_file in nc_files:\n",
    "        input_path = os.path.join(input_folder, nc_file)\n",
    "        process_nc_file(input_path, output_folder)\n",
    "\n",
    "# Set your input and output folders\n",
    "input_folder = r\"E:\\IPMA\\CAMS\\chem_singlvl\\5conversion_2003_2024\"  \n",
    "output_folder = r\"E:\\IPMA\\CAMS\\chem_singlvl\\6mean_total_2003_2024\"\n",
    "\n",
    "# Run the process\n",
    "process_nc_files(input_folder, output_folder)\n"
   ]
  },
  {
   "cell_type": "markdown",
   "metadata": {},
   "source": [
    "CAMS multi level"
   ]
  },
  {
   "cell_type": "code",
   "execution_count": null,
   "metadata": {},
   "outputs": [],
   "source": [
    "# To create mean/total values of each day in a new column - NOT DONE\n",
    "\n"
   ]
  },
  {
   "cell_type": "markdown",
   "metadata": {},
   "source": [
    "ERA5"
   ]
  },
  {
   "cell_type": "code",
   "execution_count": null,
   "metadata": {},
   "outputs": [],
   "source": [
    "# To create mean/total values of each day in a new column - NOT DONE\n",
    "\n"
   ]
  }
 ],
 "metadata": {
  "language_info": {
   "name": "python"
  }
 },
 "nbformat": 4,
 "nbformat_minor": 2
}
